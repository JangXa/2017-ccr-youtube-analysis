{
 "cells": [
  {
   "cell_type": "code",
   "execution_count": 1,
   "metadata": {
    "collapsed": true
   },
   "outputs": [],
   "source": [
    "import sqlite3\n",
    "import pandas as pd\n",
    "import filterbyip as fbi\n",
    "import clusterbycolumn as cbc\n",
    "import requests\n",
    "import asinfo\n",
    "\n",
    "import matplotlib.dates as dates\n",
    "from datetime import datetime as dt"
   ]
  },
  {
   "cell_type": "code",
   "execution_count": 2,
   "metadata": {},
   "outputs": [
    {
     "name": "stdout",
     "output_type": "stream",
     "text": [
      "Populating the interactive namespace from numpy and matplotlib\n"
     ]
    }
   ],
   "source": [
    "import warnings\n",
    "warnings.filterwarnings('ignore')\n",
    "\n",
    "%pylab inline"
   ]
  },
  {
   "cell_type": "code",
   "execution_count": 3,
   "metadata": {},
   "outputs": [
    {
     "data": {
      "text/html": [
       "<style>body {\n",
       "    margin: 0;\n",
       "    font-family: Helvetica;\n",
       "}\n",
       "table.dataframe {\n",
       "    border-collapse: collapse;\n",
       "    border: none;\n",
       "}\n",
       "table.dataframe tr {\n",
       "    border: none;\n",
       "}\n",
       "table.dataframe td, table.dataframe th {\n",
       "    margin: 0;\n",
       "    border: 1px solid white;\n",
       "    padding-left: 0.25em;\n",
       "    padding-right: 0.25em;\n",
       "}\n",
       "table.dataframe th:not(:empty) {\n",
       "    background-color: #fec;\n",
       "    text-align: left;\n",
       "    font-weight: normal;\n",
       "}\n",
       "table.dataframe tr:nth-child(2) th:empty {\n",
       "    border-left: none;\n",
       "    border-right: 1px dashed #888;\n",
       "}\n",
       "table.dataframe td {\n",
       "    border: 2px solid #ccf;\n",
       "    background-color: #f4f4ff;\n",
       "}\n",
       "h3 {\n",
       "    color: white;\n",
       "    background-color: black;\n",
       "    padding: 0.5em;\n",
       "}\n",
       "\n",
       ".CodeMirror {\n",
       "    font-family: 'Monaco for Powerline';\n",
       "}\n",
       "\n",
       "div.cell.code_cell {\n",
       "    font-family: 'Monaco for Powerline';\n",
       "}\n",
       "\n",
       "div.output_area pre {\n",
       "    font-family: 'Monaco for Powerline';\n",
       "}\n",
       "</style>"
      ],
      "text/plain": [
       "<IPython.core.display.HTML object>"
      ]
     },
     "execution_count": 3,
     "metadata": {},
     "output_type": "execute_result"
    }
   ],
   "source": [
    "from IPython.core.display import HTML\n",
    "css = open('style-table.css').read() + open('style-notebook.css').read()\n",
    "HTML('<style>{}</style>'.format(css))"
   ]
  },
  {
   "cell_type": "code",
   "execution_count": 4,
   "metadata": {
    "collapsed": true
   },
   "outputs": [],
   "source": [
    "def asn_from_probe_name(probe_name):\n",
    "    base = 'http://leone-collector.eecs.jacobs-university.de/msmpoint'\n",
    "    msm_metadata = requests.get('%s/%s'%(base, probe_name))\n",
    "    asn4 = str(msm_metadata.json()['asn4'])\n",
    "    asn6 = str(msm_metadata.json()['asn6'])\n",
    "    return asn4,asn6"
   ]
  },
  {
   "cell_type": "code",
   "execution_count": 5,
   "metadata": {
    "collapsed": true
   },
   "outputs": [],
   "source": [
    "dailydb_location = '/data/vbajpai/datasets/youtube-data-collection-python3/youtube.db'"
   ]
  },
  {
   "cell_type": "code",
   "execution_count": 6,
   "metadata": {
    "collapsed": true
   },
   "outputs": [],
   "source": [
    "query = '''select   msmpoint.name as probe\n",
    "                  , dtime\n",
    "                  , video_address\n",
    "                  , video_download_bytes_sec\n",
    "                  , audio_download_bytes_sec\n",
    "           from youtube, msmpoint\n",
    "           where youtube.unit_id = msmpoint.skunitid\n",
    "           and msmpoint.skunitid <> ''\n",
    "           and successes = 1\n",
    "           and failures = 0;\n",
    "        '''"
   ]
  },
  {
   "cell_type": "code",
   "execution_count": 7,
   "metadata": {
    "collapsed": true
   },
   "outputs": [],
   "source": [
    "con = sqlite3.connect(dailydb_location)\n",
    "df = pd.read_sql(query, con)"
   ]
  },
  {
   "cell_type": "code",
   "execution_count": 8,
   "metadata": {},
   "outputs": [
    {
     "data": {
      "text/plain": [
       "probe                       4422465\n",
       "dtime                       4422465\n",
       "video_address               4422465\n",
       "video_download_bytes_sec    4422465\n",
       "audio_download_bytes_sec    4422465\n",
       "dtype: int64"
      ]
     },
     "execution_count": 8,
     "metadata": {},
     "output_type": "execute_result"
    }
   ],
   "source": [
    "df.count()"
   ]
  },
  {
   "cell_type": "code",
   "execution_count": 9,
   "metadata": {},
   "outputs": [
    {
     "data": {
      "text/html": [
       "<div>\n",
       "<style>\n",
       "    .dataframe thead tr:only-child th {\n",
       "        text-align: right;\n",
       "    }\n",
       "\n",
       "    .dataframe thead th {\n",
       "        text-align: left;\n",
       "    }\n",
       "\n",
       "    .dataframe tbody tr th {\n",
       "        vertical-align: top;\n",
       "    }\n",
       "</style>\n",
       "<table border=\"1\" class=\"dataframe\">\n",
       "  <thead>\n",
       "    <tr style=\"text-align: right;\">\n",
       "      <th></th>\n",
       "      <th>probe</th>\n",
       "      <th>dtime</th>\n",
       "      <th>video_address</th>\n",
       "      <th>video_download_bytes_sec</th>\n",
       "      <th>audio_download_bytes_sec</th>\n",
       "    </tr>\n",
       "  </thead>\n",
       "  <tbody>\n",
       "    <tr>\n",
       "      <th>0</th>\n",
       "      <td>samsbox81</td>\n",
       "      <td>2016-09-05 16:29:41</td>\n",
       "      <td>193.212.4.15</td>\n",
       "      <td>2006335</td>\n",
       "      <td>1242187</td>\n",
       "    </tr>\n",
       "    <tr>\n",
       "      <th>1</th>\n",
       "      <td>samsbox81</td>\n",
       "      <td>2016-09-05 16:30:23</td>\n",
       "      <td>2001:4600:9:307::f</td>\n",
       "      <td>2032809</td>\n",
       "      <td>1146949</td>\n",
       "    </tr>\n",
       "    <tr>\n",
       "      <th>2</th>\n",
       "      <td>samsbox81</td>\n",
       "      <td>2016-09-05 17:26:17</td>\n",
       "      <td>193.212.4.15</td>\n",
       "      <td>1946785</td>\n",
       "      <td>1214358</td>\n",
       "    </tr>\n",
       "    <tr>\n",
       "      <th>3</th>\n",
       "      <td>samsbox81</td>\n",
       "      <td>2016-09-05 17:26:59</td>\n",
       "      <td>2001:4600:9:307::f</td>\n",
       "      <td>2008980</td>\n",
       "      <td>889966</td>\n",
       "    </tr>\n",
       "    <tr>\n",
       "      <th>4</th>\n",
       "      <td>samsbox81</td>\n",
       "      <td>2016-09-05 18:25:53</td>\n",
       "      <td>193.212.4.15</td>\n",
       "      <td>1927047</td>\n",
       "      <td>1181569</td>\n",
       "    </tr>\n",
       "  </tbody>\n",
       "</table>\n",
       "</div>"
      ],
      "text/plain": [
       "       probe                dtime       video_address  \\\n",
       "0  samsbox81  2016-09-05 16:29:41        193.212.4.15   \n",
       "1  samsbox81  2016-09-05 16:30:23  2001:4600:9:307::f   \n",
       "2  samsbox81  2016-09-05 17:26:17        193.212.4.15   \n",
       "3  samsbox81  2016-09-05 17:26:59  2001:4600:9:307::f   \n",
       "4  samsbox81  2016-09-05 18:25:53        193.212.4.15   \n",
       "\n",
       "   video_download_bytes_sec  audio_download_bytes_sec  \n",
       "0                   2006335                   1242187  \n",
       "1                   2032809                   1146949  \n",
       "2                   1946785                   1214358  \n",
       "3                   2008980                    889966  \n",
       "4                   1927047                   1181569  "
      ]
     },
     "execution_count": 9,
     "metadata": {},
     "output_type": "execute_result"
    }
   ],
   "source": [
    "df.head()"
   ]
  },
  {
   "cell_type": "code",
   "execution_count": 10,
   "metadata": {
    "collapsed": true
   },
   "outputs": [],
   "source": [
    "def round_time_to_nearest_hour(dtime):\n",
    "    import datetime;    \n",
    "    d = datetime.datetime.strptime(dtime, \"%Y-%m-%d %H:%M:%S\")\n",
    "    d = d.replace(minute=0, second=0)\n",
    "    dtime = d.strftime('%Y-%m-%d %H:%M:%S')\n",
    "    return dtime"
   ]
  },
  {
   "cell_type": "code",
   "execution_count": 11,
   "metadata": {
    "collapsed": true
   },
   "outputs": [],
   "source": [
    "df['dtime'] = df['dtime'].apply(round_time_to_nearest_hour)"
   ]
  },
  {
   "cell_type": "code",
   "execution_count": 12,
   "metadata": {},
   "outputs": [
    {
     "data": {
      "text/html": [
       "<div>\n",
       "<style>\n",
       "    .dataframe thead tr:only-child th {\n",
       "        text-align: right;\n",
       "    }\n",
       "\n",
       "    .dataframe thead th {\n",
       "        text-align: left;\n",
       "    }\n",
       "\n",
       "    .dataframe tbody tr th {\n",
       "        vertical-align: top;\n",
       "    }\n",
       "</style>\n",
       "<table border=\"1\" class=\"dataframe\">\n",
       "  <thead>\n",
       "    <tr style=\"text-align: right;\">\n",
       "      <th></th>\n",
       "      <th>probe</th>\n",
       "      <th>dtime</th>\n",
       "      <th>video_address</th>\n",
       "      <th>video_download_bytes_sec</th>\n",
       "      <th>audio_download_bytes_sec</th>\n",
       "    </tr>\n",
       "  </thead>\n",
       "  <tbody>\n",
       "    <tr>\n",
       "      <th>0</th>\n",
       "      <td>samsbox81</td>\n",
       "      <td>2016-09-05 16:00:00</td>\n",
       "      <td>193.212.4.15</td>\n",
       "      <td>2006335</td>\n",
       "      <td>1242187</td>\n",
       "    </tr>\n",
       "    <tr>\n",
       "      <th>1</th>\n",
       "      <td>samsbox81</td>\n",
       "      <td>2016-09-05 16:00:00</td>\n",
       "      <td>2001:4600:9:307::f</td>\n",
       "      <td>2032809</td>\n",
       "      <td>1146949</td>\n",
       "    </tr>\n",
       "    <tr>\n",
       "      <th>2</th>\n",
       "      <td>samsbox81</td>\n",
       "      <td>2016-09-05 17:00:00</td>\n",
       "      <td>193.212.4.15</td>\n",
       "      <td>1946785</td>\n",
       "      <td>1214358</td>\n",
       "    </tr>\n",
       "    <tr>\n",
       "      <th>3</th>\n",
       "      <td>samsbox81</td>\n",
       "      <td>2016-09-05 17:00:00</td>\n",
       "      <td>2001:4600:9:307::f</td>\n",
       "      <td>2008980</td>\n",
       "      <td>889966</td>\n",
       "    </tr>\n",
       "    <tr>\n",
       "      <th>4</th>\n",
       "      <td>samsbox81</td>\n",
       "      <td>2016-09-05 18:00:00</td>\n",
       "      <td>193.212.4.15</td>\n",
       "      <td>1927047</td>\n",
       "      <td>1181569</td>\n",
       "    </tr>\n",
       "  </tbody>\n",
       "</table>\n",
       "</div>"
      ],
      "text/plain": [
       "       probe                dtime       video_address  \\\n",
       "0  samsbox81  2016-09-05 16:00:00        193.212.4.15   \n",
       "1  samsbox81  2016-09-05 16:00:00  2001:4600:9:307::f   \n",
       "2  samsbox81  2016-09-05 17:00:00        193.212.4.15   \n",
       "3  samsbox81  2016-09-05 17:00:00  2001:4600:9:307::f   \n",
       "4  samsbox81  2016-09-05 18:00:00        193.212.4.15   \n",
       "\n",
       "   video_download_bytes_sec  audio_download_bytes_sec  \n",
       "0                   2006335                   1242187  \n",
       "1                   2032809                   1146949  \n",
       "2                   1946785                   1214358  \n",
       "3                   2008980                    889966  \n",
       "4                   1927047                   1181569  "
      ]
     },
     "execution_count": 12,
     "metadata": {},
     "output_type": "execute_result"
    }
   ],
   "source": [
    "df.head()"
   ]
  },
  {
   "cell_type": "code",
   "execution_count": 13,
   "metadata": {
    "collapsed": true
   },
   "outputs": [],
   "source": [
    "num_probes = len(set(df['probe']))"
   ]
  },
  {
   "cell_type": "code",
   "execution_count": 14,
   "metadata": {},
   "outputs": [
    {
     "data": {
      "text/plain": [
       "probe                       4422465\n",
       "dtime                       4422465\n",
       "video_address               4422465\n",
       "video_download_bytes_sec    4422465\n",
       "audio_download_bytes_sec    4422465\n",
       "dtype: int64"
      ]
     },
     "execution_count": 14,
     "metadata": {},
     "output_type": "execute_result"
    }
   ],
   "source": [
    "df.count()"
   ]
  },
  {
   "cell_type": "code",
   "execution_count": 15,
   "metadata": {
    "collapsed": true
   },
   "outputs": [],
   "source": [
    "df = df.dropna()"
   ]
  },
  {
   "cell_type": "code",
   "execution_count": 16,
   "metadata": {},
   "outputs": [
    {
     "data": {
      "text/plain": [
       "probe                       4422465\n",
       "dtime                       4422465\n",
       "video_address               4422465\n",
       "video_download_bytes_sec    4422465\n",
       "audio_download_bytes_sec    4422465\n",
       "dtype: int64"
      ]
     },
     "execution_count": 16,
     "metadata": {},
     "output_type": "execute_result"
    }
   ],
   "source": [
    "df.count()"
   ]
  },
  {
   "cell_type": "code",
   "execution_count": 17,
   "metadata": {
    "collapsed": true
   },
   "outputs": [],
   "source": [
    "df['v_MB_sec'] = df['video_download_bytes_sec'].div(1024).div(1024)\n",
    "df['a_MB_sec'] = df['audio_download_bytes_sec'].div(1024).div(1024)\n",
    "\n",
    "del df['video_download_bytes_sec']\n",
    "del df['audio_download_bytes_sec']"
   ]
  },
  {
   "cell_type": "code",
   "execution_count": 18,
   "metadata": {
    "collapsed": true
   },
   "outputs": [],
   "source": [
    "def filter_by_ip(df, column):\n",
    "  \"\"\"reads a DataFrame, calls fbi.filter_v{4,6} to get DataFrames with rows\n",
    "     containing only v4, v6 endpoints. Returns the two DataFrame as a tuple\"\"\"\n",
    "\n",
    "  dfv6 = fbi.filter_v6(df, column)\n",
    "  dfv4 = fbi.filter_v4(df, column)\n",
    "  return dfv4, dfv6"
   ]
  },
  {
   "cell_type": "code",
   "execution_count": 19,
   "metadata": {
    "collapsed": true
   },
   "outputs": [],
   "source": [
    "dfv4, dfv6 = filter_by_ip(df, column = 'video_address')"
   ]
  },
  {
   "cell_type": "code",
   "execution_count": 20,
   "metadata": {
    "collapsed": true
   },
   "outputs": [],
   "source": [
    "dfv4['name'] = dfv4['probe'].apply(lambda name: \"#%02d\"%int(name[7:]))\n",
    "dfv6['name'] = dfv6['probe'].apply(lambda name: \"#%02d\"%int(name[7:]))\n",
    "del dfv4['probe']; del dfv6['probe']"
   ]
  },
  {
   "cell_type": "code",
   "execution_count": 21,
   "metadata": {},
   "outputs": [
    {
     "data": {
      "text/html": [
       "<div>\n",
       "<style>\n",
       "    .dataframe thead tr:only-child th {\n",
       "        text-align: right;\n",
       "    }\n",
       "\n",
       "    .dataframe thead th {\n",
       "        text-align: left;\n",
       "    }\n",
       "\n",
       "    .dataframe tbody tr th {\n",
       "        vertical-align: top;\n",
       "    }\n",
       "</style>\n",
       "<table border=\"1\" class=\"dataframe\">\n",
       "  <thead>\n",
       "    <tr style=\"text-align: right;\">\n",
       "      <th></th>\n",
       "      <th>dtime</th>\n",
       "      <th>video_address</th>\n",
       "      <th>v_MB_sec</th>\n",
       "      <th>a_MB_sec</th>\n",
       "      <th>name</th>\n",
       "    </tr>\n",
       "  </thead>\n",
       "  <tbody>\n",
       "    <tr>\n",
       "      <th>0</th>\n",
       "      <td>2016-09-05 16:00:00</td>\n",
       "      <td>193.212.4.15</td>\n",
       "      <td>1.913390</td>\n",
       "      <td>1.184642</td>\n",
       "      <td>#81</td>\n",
       "    </tr>\n",
       "    <tr>\n",
       "      <th>2</th>\n",
       "      <td>2016-09-05 17:00:00</td>\n",
       "      <td>193.212.4.15</td>\n",
       "      <td>1.856599</td>\n",
       "      <td>1.158102</td>\n",
       "      <td>#81</td>\n",
       "    </tr>\n",
       "    <tr>\n",
       "      <th>4</th>\n",
       "      <td>2016-09-05 18:00:00</td>\n",
       "      <td>193.212.4.15</td>\n",
       "      <td>1.837775</td>\n",
       "      <td>1.126832</td>\n",
       "      <td>#81</td>\n",
       "    </tr>\n",
       "    <tr>\n",
       "      <th>6</th>\n",
       "      <td>2016-09-05 19:00:00</td>\n",
       "      <td>193.212.4.15</td>\n",
       "      <td>1.906452</td>\n",
       "      <td>1.091392</td>\n",
       "      <td>#81</td>\n",
       "    </tr>\n",
       "    <tr>\n",
       "      <th>8</th>\n",
       "      <td>2016-09-05 20:00:00</td>\n",
       "      <td>193.212.4.15</td>\n",
       "      <td>1.896476</td>\n",
       "      <td>0.974868</td>\n",
       "      <td>#81</td>\n",
       "    </tr>\n",
       "  </tbody>\n",
       "</table>\n",
       "</div>"
      ],
      "text/plain": [
       "                 dtime video_address  v_MB_sec  a_MB_sec name\n",
       "0  2016-09-05 16:00:00  193.212.4.15  1.913390  1.184642  #81\n",
       "2  2016-09-05 17:00:00  193.212.4.15  1.856599  1.158102  #81\n",
       "4  2016-09-05 18:00:00  193.212.4.15  1.837775  1.126832  #81\n",
       "6  2016-09-05 19:00:00  193.212.4.15  1.906452  1.091392  #81\n",
       "8  2016-09-05 20:00:00  193.212.4.15  1.896476  0.974868  #81"
      ]
     },
     "execution_count": 21,
     "metadata": {},
     "output_type": "execute_result"
    }
   ],
   "source": [
    "dfv4.head()"
   ]
  },
  {
   "cell_type": "code",
   "execution_count": 22,
   "metadata": {},
   "outputs": [
    {
     "data": {
      "text/html": [
       "<div>\n",
       "<style>\n",
       "    .dataframe thead tr:only-child th {\n",
       "        text-align: right;\n",
       "    }\n",
       "\n",
       "    .dataframe thead th {\n",
       "        text-align: left;\n",
       "    }\n",
       "\n",
       "    .dataframe tbody tr th {\n",
       "        vertical-align: top;\n",
       "    }\n",
       "</style>\n",
       "<table border=\"1\" class=\"dataframe\">\n",
       "  <thead>\n",
       "    <tr style=\"text-align: right;\">\n",
       "      <th></th>\n",
       "      <th>dtime</th>\n",
       "      <th>video_address</th>\n",
       "      <th>v_MB_sec</th>\n",
       "      <th>a_MB_sec</th>\n",
       "      <th>name</th>\n",
       "    </tr>\n",
       "  </thead>\n",
       "  <tbody>\n",
       "    <tr>\n",
       "      <th>1</th>\n",
       "      <td>2016-09-05 16:00:00</td>\n",
       "      <td>2001:4600:9:307::f</td>\n",
       "      <td>1.938638</td>\n",
       "      <td>1.093816</td>\n",
       "      <td>#81</td>\n",
       "    </tr>\n",
       "    <tr>\n",
       "      <th>3</th>\n",
       "      <td>2016-09-05 17:00:00</td>\n",
       "      <td>2001:4600:9:307::f</td>\n",
       "      <td>1.915913</td>\n",
       "      <td>0.848738</td>\n",
       "      <td>#81</td>\n",
       "    </tr>\n",
       "    <tr>\n",
       "      <th>5</th>\n",
       "      <td>2016-09-05 18:00:00</td>\n",
       "      <td>2001:4600:9:307::f</td>\n",
       "      <td>1.821363</td>\n",
       "      <td>1.107177</td>\n",
       "      <td>#81</td>\n",
       "    </tr>\n",
       "    <tr>\n",
       "      <th>7</th>\n",
       "      <td>2016-09-05 19:00:00</td>\n",
       "      <td>2001:4600:9:307::f</td>\n",
       "      <td>1.834697</td>\n",
       "      <td>1.188632</td>\n",
       "      <td>#81</td>\n",
       "    </tr>\n",
       "    <tr>\n",
       "      <th>9</th>\n",
       "      <td>2016-09-05 20:00:00</td>\n",
       "      <td>2001:4600:9:307::f</td>\n",
       "      <td>1.909348</td>\n",
       "      <td>0.801767</td>\n",
       "      <td>#81</td>\n",
       "    </tr>\n",
       "  </tbody>\n",
       "</table>\n",
       "</div>"
      ],
      "text/plain": [
       "                 dtime       video_address  v_MB_sec  a_MB_sec name\n",
       "1  2016-09-05 16:00:00  2001:4600:9:307::f  1.938638  1.093816  #81\n",
       "3  2016-09-05 17:00:00  2001:4600:9:307::f  1.915913  0.848738  #81\n",
       "5  2016-09-05 18:00:00  2001:4600:9:307::f  1.821363  1.107177  #81\n",
       "7  2016-09-05 19:00:00  2001:4600:9:307::f  1.834697  1.188632  #81\n",
       "9  2016-09-05 20:00:00  2001:4600:9:307::f  1.909348  0.801767  #81"
      ]
     },
     "execution_count": 22,
     "metadata": {},
     "output_type": "execute_result"
    }
   ],
   "source": [
    "dfv6.head()"
   ]
  },
  {
   "cell_type": "code",
   "execution_count": 23,
   "metadata": {
    "collapsed": true
   },
   "outputs": [],
   "source": [
    "df = pd.merge(dfv4, dfv6, on=[\"name\", \"dtime\"])"
   ]
  },
  {
   "cell_type": "code",
   "execution_count": 24,
   "metadata": {},
   "outputs": [
    {
     "data": {
      "text/plain": [
       "dtime              6581885\n",
       "video_address_x    6581885\n",
       "v_MB_sec_x         6581885\n",
       "a_MB_sec_x         6581885\n",
       "name               6581885\n",
       "video_address_y    6581885\n",
       "v_MB_sec_y         6581885\n",
       "a_MB_sec_y         6581885\n",
       "dtype: int64"
      ]
     },
     "execution_count": 24,
     "metadata": {},
     "output_type": "execute_result"
    }
   ],
   "source": [
    "df.count()"
   ]
  },
  {
   "cell_type": "code",
   "execution_count": 25,
   "metadata": {},
   "outputs": [
    {
     "data": {
      "text/html": [
       "<div>\n",
       "<style>\n",
       "    .dataframe thead tr:only-child th {\n",
       "        text-align: right;\n",
       "    }\n",
       "\n",
       "    .dataframe thead th {\n",
       "        text-align: left;\n",
       "    }\n",
       "\n",
       "    .dataframe tbody tr th {\n",
       "        vertical-align: top;\n",
       "    }\n",
       "</style>\n",
       "<table border=\"1\" class=\"dataframe\">\n",
       "  <thead>\n",
       "    <tr style=\"text-align: right;\">\n",
       "      <th></th>\n",
       "      <th>dtime</th>\n",
       "      <th>video_address_x</th>\n",
       "      <th>v_MB_sec_x</th>\n",
       "      <th>a_MB_sec_x</th>\n",
       "      <th>name</th>\n",
       "      <th>video_address_y</th>\n",
       "      <th>v_MB_sec_y</th>\n",
       "      <th>a_MB_sec_y</th>\n",
       "    </tr>\n",
       "  </thead>\n",
       "  <tbody>\n",
       "    <tr>\n",
       "      <th>0</th>\n",
       "      <td>2016-09-05 16:00:00</td>\n",
       "      <td>193.212.4.15</td>\n",
       "      <td>1.913390</td>\n",
       "      <td>1.184642</td>\n",
       "      <td>#81</td>\n",
       "      <td>2001:4600:9:307::f</td>\n",
       "      <td>1.938638</td>\n",
       "      <td>1.093816</td>\n",
       "    </tr>\n",
       "    <tr>\n",
       "      <th>1</th>\n",
       "      <td>2016-09-05 17:00:00</td>\n",
       "      <td>193.212.4.15</td>\n",
       "      <td>1.856599</td>\n",
       "      <td>1.158102</td>\n",
       "      <td>#81</td>\n",
       "      <td>2001:4600:9:307::f</td>\n",
       "      <td>1.915913</td>\n",
       "      <td>0.848738</td>\n",
       "    </tr>\n",
       "    <tr>\n",
       "      <th>2</th>\n",
       "      <td>2016-09-05 18:00:00</td>\n",
       "      <td>193.212.4.15</td>\n",
       "      <td>1.837775</td>\n",
       "      <td>1.126832</td>\n",
       "      <td>#81</td>\n",
       "      <td>2001:4600:9:307::f</td>\n",
       "      <td>1.821363</td>\n",
       "      <td>1.107177</td>\n",
       "    </tr>\n",
       "    <tr>\n",
       "      <th>3</th>\n",
       "      <td>2016-09-05 19:00:00</td>\n",
       "      <td>193.212.4.15</td>\n",
       "      <td>1.906452</td>\n",
       "      <td>1.091392</td>\n",
       "      <td>#81</td>\n",
       "      <td>2001:4600:9:307::f</td>\n",
       "      <td>1.834697</td>\n",
       "      <td>1.188632</td>\n",
       "    </tr>\n",
       "    <tr>\n",
       "      <th>4</th>\n",
       "      <td>2016-09-05 20:00:00</td>\n",
       "      <td>193.212.4.15</td>\n",
       "      <td>1.896476</td>\n",
       "      <td>0.974868</td>\n",
       "      <td>#81</td>\n",
       "      <td>2001:4600:9:307::f</td>\n",
       "      <td>1.909348</td>\n",
       "      <td>0.801767</td>\n",
       "    </tr>\n",
       "  </tbody>\n",
       "</table>\n",
       "</div>"
      ],
      "text/plain": [
       "                 dtime video_address_x  v_MB_sec_x  a_MB_sec_x name  \\\n",
       "0  2016-09-05 16:00:00    193.212.4.15    1.913390    1.184642  #81   \n",
       "1  2016-09-05 17:00:00    193.212.4.15    1.856599    1.158102  #81   \n",
       "2  2016-09-05 18:00:00    193.212.4.15    1.837775    1.126832  #81   \n",
       "3  2016-09-05 19:00:00    193.212.4.15    1.906452    1.091392  #81   \n",
       "4  2016-09-05 20:00:00    193.212.4.15    1.896476    0.974868  #81   \n",
       "\n",
       "      video_address_y  v_MB_sec_y  a_MB_sec_y  \n",
       "0  2001:4600:9:307::f    1.938638    1.093816  \n",
       "1  2001:4600:9:307::f    1.915913    0.848738  \n",
       "2  2001:4600:9:307::f    1.821363    1.107177  \n",
       "3  2001:4600:9:307::f    1.834697    1.188632  \n",
       "4  2001:4600:9:307::f    1.909348    0.801767  "
      ]
     },
     "execution_count": 25,
     "metadata": {},
     "output_type": "execute_result"
    }
   ],
   "source": [
    "df.head()"
   ]
  },
  {
   "cell_type": "code",
   "execution_count": 26,
   "metadata": {
    "collapsed": true
   },
   "outputs": [],
   "source": [
    "df.rename(columns={  'video_address_x'      : 'video_ep_v4'\n",
    "                   , 'v_MB_sec_x'           : 'v_MB_sec_v4'\n",
    "                   , 'a_MB_sec_x'           : 'a_MB_sec_v4'                   \n",
    "                   , 'video_address_y'      : 'video_ep_v6'\n",
    "                   , 'v_MB_sec_y'           : 'v_MB_sec_v6'\n",
    "                   , 'a_MB_sec_y'           : 'a_MB_sec_v6'                                      \n",
    "                  } ,  inplace=True)"
   ]
  },
  {
   "cell_type": "code",
   "execution_count": 27,
   "metadata": {
    "collapsed": true
   },
   "outputs": [],
   "source": [
    "del df['video_ep_v4']; del df['video_ep_v6']"
   ]
  },
  {
   "cell_type": "code",
   "execution_count": 28,
   "metadata": {},
   "outputs": [
    {
     "data": {
      "text/html": [
       "<div>\n",
       "<style>\n",
       "    .dataframe thead tr:only-child th {\n",
       "        text-align: right;\n",
       "    }\n",
       "\n",
       "    .dataframe thead th {\n",
       "        text-align: left;\n",
       "    }\n",
       "\n",
       "    .dataframe tbody tr th {\n",
       "        vertical-align: top;\n",
       "    }\n",
       "</style>\n",
       "<table border=\"1\" class=\"dataframe\">\n",
       "  <thead>\n",
       "    <tr style=\"text-align: right;\">\n",
       "      <th></th>\n",
       "      <th>dtime</th>\n",
       "      <th>v_MB_sec_v4</th>\n",
       "      <th>a_MB_sec_v4</th>\n",
       "      <th>name</th>\n",
       "      <th>v_MB_sec_v6</th>\n",
       "      <th>a_MB_sec_v6</th>\n",
       "    </tr>\n",
       "  </thead>\n",
       "  <tbody>\n",
       "    <tr>\n",
       "      <th>0</th>\n",
       "      <td>2016-09-05 16:00:00</td>\n",
       "      <td>1.913390</td>\n",
       "      <td>1.184642</td>\n",
       "      <td>#81</td>\n",
       "      <td>1.938638</td>\n",
       "      <td>1.093816</td>\n",
       "    </tr>\n",
       "    <tr>\n",
       "      <th>1</th>\n",
       "      <td>2016-09-05 17:00:00</td>\n",
       "      <td>1.856599</td>\n",
       "      <td>1.158102</td>\n",
       "      <td>#81</td>\n",
       "      <td>1.915913</td>\n",
       "      <td>0.848738</td>\n",
       "    </tr>\n",
       "    <tr>\n",
       "      <th>2</th>\n",
       "      <td>2016-09-05 18:00:00</td>\n",
       "      <td>1.837775</td>\n",
       "      <td>1.126832</td>\n",
       "      <td>#81</td>\n",
       "      <td>1.821363</td>\n",
       "      <td>1.107177</td>\n",
       "    </tr>\n",
       "    <tr>\n",
       "      <th>3</th>\n",
       "      <td>2016-09-05 19:00:00</td>\n",
       "      <td>1.906452</td>\n",
       "      <td>1.091392</td>\n",
       "      <td>#81</td>\n",
       "      <td>1.834697</td>\n",
       "      <td>1.188632</td>\n",
       "    </tr>\n",
       "    <tr>\n",
       "      <th>4</th>\n",
       "      <td>2016-09-05 20:00:00</td>\n",
       "      <td>1.896476</td>\n",
       "      <td>0.974868</td>\n",
       "      <td>#81</td>\n",
       "      <td>1.909348</td>\n",
       "      <td>0.801767</td>\n",
       "    </tr>\n",
       "  </tbody>\n",
       "</table>\n",
       "</div>"
      ],
      "text/plain": [
       "                 dtime  v_MB_sec_v4  a_MB_sec_v4 name  v_MB_sec_v6  \\\n",
       "0  2016-09-05 16:00:00     1.913390     1.184642  #81     1.938638   \n",
       "1  2016-09-05 17:00:00     1.856599     1.158102  #81     1.915913   \n",
       "2  2016-09-05 18:00:00     1.837775     1.126832  #81     1.821363   \n",
       "3  2016-09-05 19:00:00     1.906452     1.091392  #81     1.834697   \n",
       "4  2016-09-05 20:00:00     1.896476     0.974868  #81     1.909348   \n",
       "\n",
       "   a_MB_sec_v6  \n",
       "0     1.093816  \n",
       "1     0.848738  \n",
       "2     1.107177  \n",
       "3     1.188632  \n",
       "4     0.801767  "
      ]
     },
     "execution_count": 28,
     "metadata": {},
     "output_type": "execute_result"
    }
   ],
   "source": [
    "df.head()"
   ]
  },
  {
   "cell_type": "code",
   "execution_count": 29,
   "metadata": {},
   "outputs": [
    {
     "data": {
      "text/html": [
       "<div>\n",
       "<style>\n",
       "    .dataframe thead tr:only-child th {\n",
       "        text-align: right;\n",
       "    }\n",
       "\n",
       "    .dataframe thead th {\n",
       "        text-align: left;\n",
       "    }\n",
       "\n",
       "    .dataframe tbody tr th {\n",
       "        vertical-align: top;\n",
       "    }\n",
       "</style>\n",
       "<table border=\"1\" class=\"dataframe\">\n",
       "  <thead>\n",
       "    <tr style=\"text-align: right;\">\n",
       "      <th></th>\n",
       "      <th>dtime</th>\n",
       "      <th>v_MB_sec_v4</th>\n",
       "      <th>a_MB_sec_v4</th>\n",
       "      <th>name</th>\n",
       "      <th>v_MB_sec_v6</th>\n",
       "      <th>a_MB_sec_v6</th>\n",
       "    </tr>\n",
       "  </thead>\n",
       "  <tbody>\n",
       "    <tr>\n",
       "      <th>6581880</th>\n",
       "      <td>2017-06-25 17:00:00</td>\n",
       "      <td>2.747395</td>\n",
       "      <td>1.138997</td>\n",
       "      <td>#91</td>\n",
       "      <td>2.712654</td>\n",
       "      <td>1.05301</td>\n",
       "    </tr>\n",
       "    <tr>\n",
       "      <th>6581881</th>\n",
       "      <td>2017-06-25 17:00:00</td>\n",
       "      <td>2.747395</td>\n",
       "      <td>1.138997</td>\n",
       "      <td>#91</td>\n",
       "      <td>2.712654</td>\n",
       "      <td>1.05301</td>\n",
       "    </tr>\n",
       "    <tr>\n",
       "      <th>6581882</th>\n",
       "      <td>2017-06-25 17:00:00</td>\n",
       "      <td>2.747395</td>\n",
       "      <td>1.138997</td>\n",
       "      <td>#91</td>\n",
       "      <td>2.712654</td>\n",
       "      <td>1.05301</td>\n",
       "    </tr>\n",
       "    <tr>\n",
       "      <th>6581883</th>\n",
       "      <td>2017-06-25 17:00:00</td>\n",
       "      <td>2.747395</td>\n",
       "      <td>1.138997</td>\n",
       "      <td>#91</td>\n",
       "      <td>2.712654</td>\n",
       "      <td>1.05301</td>\n",
       "    </tr>\n",
       "    <tr>\n",
       "      <th>6581884</th>\n",
       "      <td>2017-06-25 17:00:00</td>\n",
       "      <td>2.747395</td>\n",
       "      <td>1.138997</td>\n",
       "      <td>#91</td>\n",
       "      <td>2.712654</td>\n",
       "      <td>1.05301</td>\n",
       "    </tr>\n",
       "  </tbody>\n",
       "</table>\n",
       "</div>"
      ],
      "text/plain": [
       "                       dtime  v_MB_sec_v4  a_MB_sec_v4 name  v_MB_sec_v6  \\\n",
       "6581880  2017-06-25 17:00:00     2.747395     1.138997  #91     2.712654   \n",
       "6581881  2017-06-25 17:00:00     2.747395     1.138997  #91     2.712654   \n",
       "6581882  2017-06-25 17:00:00     2.747395     1.138997  #91     2.712654   \n",
       "6581883  2017-06-25 17:00:00     2.747395     1.138997  #91     2.712654   \n",
       "6581884  2017-06-25 17:00:00     2.747395     1.138997  #91     2.712654   \n",
       "\n",
       "         a_MB_sec_v6  \n",
       "6581880      1.05301  \n",
       "6581881      1.05301  \n",
       "6581882      1.05301  \n",
       "6581883      1.05301  \n",
       "6581884      1.05301  "
      ]
     },
     "execution_count": 29,
     "metadata": {},
     "output_type": "execute_result"
    }
   ],
   "source": [
    "df.tail()"
   ]
  },
  {
   "cell_type": "code",
   "execution_count": 30,
   "metadata": {},
   "outputs": [
    {
     "data": {
      "text/plain": [
       "dtime          6581885\n",
       "v_MB_sec_v4    6581885\n",
       "a_MB_sec_v4    6581885\n",
       "name           6581885\n",
       "v_MB_sec_v6    6581885\n",
       "a_MB_sec_v6    6581885\n",
       "dtype: int64"
      ]
     },
     "execution_count": 30,
     "metadata": {},
     "output_type": "execute_result"
    }
   ],
   "source": [
    "df.count()"
   ]
  },
  {
   "cell_type": "code",
   "execution_count": 31,
   "metadata": {
    "collapsed": true
   },
   "outputs": [],
   "source": [
    "df['v4v6_v_MB_sec'] = df.v_MB_sec_v4.map(str) + ',' + df.v_MB_sec_v6.map(str)\n",
    "df['v4v6_a_MB_sec'] = df.a_MB_sec_v4.map(str) + ',' + df.a_MB_sec_v6.map(str)"
   ]
  },
  {
   "cell_type": "code",
   "execution_count": 32,
   "metadata": {},
   "outputs": [
    {
     "data": {
      "text/plain": [
       "dtime            6581885\n",
       "v_MB_sec_v4      6581885\n",
       "a_MB_sec_v4      6581885\n",
       "name             6581885\n",
       "v_MB_sec_v6      6581885\n",
       "a_MB_sec_v6      6581885\n",
       "v4v6_v_MB_sec    6581885\n",
       "v4v6_a_MB_sec    6581885\n",
       "dtype: int64"
      ]
     },
     "execution_count": 32,
     "metadata": {},
     "output_type": "execute_result"
    }
   ],
   "source": [
    "df.count()"
   ]
  },
  {
   "cell_type": "markdown",
   "metadata": {},
   "source": [
    "### Calculate Absolute Difference"
   ]
  },
  {
   "cell_type": "code",
   "execution_count": 33,
   "metadata": {
    "collapsed": true
   },
   "outputs": [],
   "source": [
    "def get_difference(v4v6_throughput):\n",
    "    \n",
    "    v4, v6 = v4v6_throughput.split(',')\n",
    "    try: v4 = float(v4); v6 = float(v6)\n",
    "    except Exception as e: print(e, v4v6_throughput)\n",
    "    \n",
    "    difference = (v6 - v4) \n",
    "    return float('%0.2f'%difference)\n",
    "\n",
    "df['v_MB_sec_a'] = df['v4v6_v_MB_sec'].apply(get_difference)\n",
    "df['a_MB_sec_a'] = df['v4v6_a_MB_sec'].apply(get_difference)"
   ]
  },
  {
   "cell_type": "markdown",
   "metadata": {},
   "source": [
    "### Calculate Relative Difference"
   ]
  },
  {
   "cell_type": "code",
   "execution_count": 34,
   "metadata": {
    "collapsed": true
   },
   "outputs": [],
   "source": [
    "def get_slowness(v4v6_throughput):\n",
    "    \n",
    "    v4, v6 = v4v6_throughput.split(',')\n",
    "    try: v4 = float(v4); v6 = float(v6)\n",
    "    except Exception as e: print(e, v4v6_throughput)\n",
    "    \n",
    "    try: slowness = (v6 - v4) / v4\n",
    "    except Exception as e: return 0\n",
    "    return float('%0.2f'%slowness)\n",
    "\n",
    "df['v_MB_sec_r'] = df['v4v6_v_MB_sec'].apply(get_slowness)\n",
    "df['a_MB_sec_r'] = df['v4v6_a_MB_sec'].apply(get_slowness)"
   ]
  },
  {
   "cell_type": "code",
   "execution_count": 35,
   "metadata": {
    "collapsed": true
   },
   "outputs": [],
   "source": [
    "del df['v4v6_a_MB_sec']; del df['v4v6_v_MB_sec']"
   ]
  },
  {
   "cell_type": "code",
   "execution_count": 36,
   "metadata": {
    "collapsed": true
   },
   "outputs": [],
   "source": [
    "def round_time_to_day(dtime):\n",
    "    import datetime;    \n",
    "    d = datetime.datetime.strptime(dtime, \"%Y-%m-%d %H:%M:%S\")\n",
    "    d = d.replace(hour=0, minute=0, second=0)\n",
    "    dtime = d.strftime('%Y-%m-%d')\n",
    "    return dtime\n",
    "\n",
    "df['dtime'] = df['dtime'].apply(round_time_to_day)"
   ]
  },
  {
   "cell_type": "code",
   "execution_count": 37,
   "metadata": {},
   "outputs": [
    {
     "data": {
      "text/plain": [
       "dtime          6581885\n",
       "v_MB_sec_v4    6581885\n",
       "a_MB_sec_v4    6581885\n",
       "name           6581885\n",
       "v_MB_sec_v6    6581885\n",
       "a_MB_sec_v6    6581885\n",
       "v_MB_sec_a     6581885\n",
       "a_MB_sec_a     6581885\n",
       "v_MB_sec_r     6581885\n",
       "a_MB_sec_r     6581885\n",
       "dtype: int64"
      ]
     },
     "execution_count": 37,
     "metadata": {},
     "output_type": "execute_result"
    }
   ],
   "source": [
    "df.count()"
   ]
  },
  {
   "cell_type": "code",
   "execution_count": 38,
   "metadata": {
    "collapsed": true
   },
   "outputs": [],
   "source": [
    "targets = ['v_MB_sec_v4', 'a_MB_sec_v4', \n",
    "           'v_MB_sec_v6', 'a_MB_sec_v6',\n",
    "           \n",
    "           'v_MB_sec_a', 'a_MB_sec_a',\n",
    "           'v_MB_sec_r', 'a_MB_sec_r' ,          \n",
    "          ]\n",
    "\n",
    "def get_throughput_across_probes(df):\n",
    "    dfgroupby  = cbc.group(df, column=['dtime'])\n",
    "    df_agg     = cbc.aggregate(dfgroupby, targets, ['median'])\n",
    "    df_merged  = cbc.merge(df, df_agg, column=['dtime'])\n",
    "    df         = df_merged.drop(targets + ['name'], axis=1)\n",
    "    df         = df.drop_duplicates()\n",
    "    df.columns = ['dtime'] + targets\n",
    "    return df\n",
    "\n",
    "df = get_throughput_across_probes(df)"
   ]
  },
  {
   "cell_type": "code",
   "execution_count": 39,
   "metadata": {},
   "outputs": [
    {
     "ename": "AttributeError",
     "evalue": "'DataFrame' object has no attribute 'sort'",
     "output_type": "error",
     "traceback": [
      "\u001b[0;31m---------------------------------------------------------------------------\u001b[0m",
      "\u001b[0;31mAttributeError\u001b[0m                            Traceback (most recent call last)",
      "\u001b[0;32m<ipython-input-39-6cbabfe4ed8a>\u001b[0m in \u001b[0;36m<module>\u001b[0;34m()\u001b[0m\n\u001b[1;32m      1\u001b[0m \u001b[0mdf\u001b[0m\u001b[0;34m[\u001b[0m\u001b[0;34m'dtime'\u001b[0m\u001b[0;34m]\u001b[0m \u001b[0;34m=\u001b[0m \u001b[0mdf\u001b[0m\u001b[0;34m[\u001b[0m\u001b[0;34m'dtime'\u001b[0m\u001b[0;34m]\u001b[0m\u001b[0;34m.\u001b[0m\u001b[0mapply\u001b[0m\u001b[0;34m(\u001b[0m\u001b[0;32mlambda\u001b[0m \u001b[0md\u001b[0m\u001b[0;34m:\u001b[0m \u001b[0mdt\u001b[0m\u001b[0;34m.\u001b[0m\u001b[0mstrptime\u001b[0m\u001b[0;34m(\u001b[0m\u001b[0md\u001b[0m\u001b[0;34m,\u001b[0m \u001b[0;34m'%Y-%m-%d'\u001b[0m\u001b[0;34m)\u001b[0m\u001b[0;34m)\u001b[0m\u001b[0;34m\u001b[0m\u001b[0m\n\u001b[0;32m----> 2\u001b[0;31m \u001b[0mdf\u001b[0m\u001b[0;34m.\u001b[0m\u001b[0msort\u001b[0m\u001b[0;34m(\u001b[0m\u001b[0mcolumns\u001b[0m \u001b[0;34m=\u001b[0m \u001b[0;34m'dtime'\u001b[0m\u001b[0;34m,\u001b[0m \u001b[0minplace\u001b[0m \u001b[0;34m=\u001b[0m \u001b[0;32mTrue\u001b[0m\u001b[0;34m)\u001b[0m\u001b[0;34m\u001b[0m\u001b[0m\n\u001b[0m",
      "\u001b[0;32m~/.virtualenvs/youtube-data-analysis-python3/lib/python3.5/site-packages/pandas/core/generic.py\u001b[0m in \u001b[0;36m__getattr__\u001b[0;34m(self, name)\u001b[0m\n\u001b[1;32m   3079\u001b[0m             \u001b[0;32mif\u001b[0m \u001b[0mname\u001b[0m \u001b[0;32min\u001b[0m \u001b[0mself\u001b[0m\u001b[0;34m.\u001b[0m\u001b[0m_info_axis\u001b[0m\u001b[0;34m:\u001b[0m\u001b[0;34m\u001b[0m\u001b[0m\n\u001b[1;32m   3080\u001b[0m                 \u001b[0;32mreturn\u001b[0m \u001b[0mself\u001b[0m\u001b[0;34m[\u001b[0m\u001b[0mname\u001b[0m\u001b[0;34m]\u001b[0m\u001b[0;34m\u001b[0m\u001b[0m\n\u001b[0;32m-> 3081\u001b[0;31m             \u001b[0;32mreturn\u001b[0m \u001b[0mobject\u001b[0m\u001b[0;34m.\u001b[0m\u001b[0m__getattribute__\u001b[0m\u001b[0;34m(\u001b[0m\u001b[0mself\u001b[0m\u001b[0;34m,\u001b[0m \u001b[0mname\u001b[0m\u001b[0;34m)\u001b[0m\u001b[0;34m\u001b[0m\u001b[0m\n\u001b[0m\u001b[1;32m   3082\u001b[0m \u001b[0;34m\u001b[0m\u001b[0m\n\u001b[1;32m   3083\u001b[0m     \u001b[0;32mdef\u001b[0m \u001b[0m__setattr__\u001b[0m\u001b[0;34m(\u001b[0m\u001b[0mself\u001b[0m\u001b[0;34m,\u001b[0m \u001b[0mname\u001b[0m\u001b[0;34m,\u001b[0m \u001b[0mvalue\u001b[0m\u001b[0;34m)\u001b[0m\u001b[0;34m:\u001b[0m\u001b[0;34m\u001b[0m\u001b[0m\n",
      "\u001b[0;31mAttributeError\u001b[0m: 'DataFrame' object has no attribute 'sort'"
     ]
    }
   ],
   "source": [
    "df['dtime'] = df['dtime'].apply(lambda d: dt.strptime(d, '%Y-%m-%d'))"
   ]
  },
  {
   "cell_type": "code",
   "execution_count": 40,
   "metadata": {
    "collapsed": true
   },
   "outputs": [],
   "source": [
    "df.sort_values(by = 'dtime', inplace = True)"
   ]
  },
  {
   "cell_type": "code",
   "execution_count": 41,
   "metadata": {},
   "outputs": [
    {
     "data": {
      "text/html": [
       "<div>\n",
       "<style>\n",
       "    .dataframe thead tr:only-child th {\n",
       "        text-align: right;\n",
       "    }\n",
       "\n",
       "    .dataframe thead th {\n",
       "        text-align: left;\n",
       "    }\n",
       "\n",
       "    .dataframe tbody tr th {\n",
       "        vertical-align: top;\n",
       "    }\n",
       "</style>\n",
       "<table border=\"1\" class=\"dataframe\">\n",
       "  <thead>\n",
       "    <tr style=\"text-align: right;\">\n",
       "      <th></th>\n",
       "      <th>dtime</th>\n",
       "      <th>v_MB_sec_v4</th>\n",
       "      <th>a_MB_sec_v4</th>\n",
       "      <th>v_MB_sec_v6</th>\n",
       "      <th>a_MB_sec_v6</th>\n",
       "      <th>v_MB_sec_a</th>\n",
       "      <th>a_MB_sec_a</th>\n",
       "      <th>v_MB_sec_r</th>\n",
       "      <th>a_MB_sec_r</th>\n",
       "    </tr>\n",
       "  </thead>\n",
       "  <tbody>\n",
       "    <tr>\n",
       "      <th>1592615</th>\n",
       "      <td>2014-08-21</td>\n",
       "      <td>0.923781</td>\n",
       "      <td>0.058216</td>\n",
       "      <td>0.023630</td>\n",
       "      <td>0.022566</td>\n",
       "      <td>-0.88</td>\n",
       "      <td>-0.04</td>\n",
       "      <td>-0.97</td>\n",
       "      <td>-0.615</td>\n",
       "    </tr>\n",
       "    <tr>\n",
       "      <th>1592625</th>\n",
       "      <td>2014-08-22</td>\n",
       "      <td>0.923466</td>\n",
       "      <td>0.058382</td>\n",
       "      <td>0.021913</td>\n",
       "      <td>0.021980</td>\n",
       "      <td>-0.88</td>\n",
       "      <td>-0.04</td>\n",
       "      <td>-0.98</td>\n",
       "      <td>-0.620</td>\n",
       "    </tr>\n",
       "    <tr>\n",
       "      <th>1592648</th>\n",
       "      <td>2014-08-23</td>\n",
       "      <td>0.924054</td>\n",
       "      <td>0.058375</td>\n",
       "      <td>0.021990</td>\n",
       "      <td>0.021621</td>\n",
       "      <td>-0.88</td>\n",
       "      <td>-0.04</td>\n",
       "      <td>-0.98</td>\n",
       "      <td>-0.630</td>\n",
       "    </tr>\n",
       "    <tr>\n",
       "      <th>1592671</th>\n",
       "      <td>2014-08-24</td>\n",
       "      <td>0.924189</td>\n",
       "      <td>0.058300</td>\n",
       "      <td>0.024550</td>\n",
       "      <td>0.025263</td>\n",
       "      <td>-0.88</td>\n",
       "      <td>-0.03</td>\n",
       "      <td>-0.97</td>\n",
       "      <td>-0.570</td>\n",
       "    </tr>\n",
       "    <tr>\n",
       "      <th>1592694</th>\n",
       "      <td>2014-08-25</td>\n",
       "      <td>0.822330</td>\n",
       "      <td>0.058096</td>\n",
       "      <td>0.026024</td>\n",
       "      <td>0.025701</td>\n",
       "      <td>-0.78</td>\n",
       "      <td>-0.03</td>\n",
       "      <td>-0.97</td>\n",
       "      <td>-0.565</td>\n",
       "    </tr>\n",
       "  </tbody>\n",
       "</table>\n",
       "</div>"
      ],
      "text/plain": [
       "             dtime  v_MB_sec_v4  a_MB_sec_v4  v_MB_sec_v6  a_MB_sec_v6  \\\n",
       "1592615 2014-08-21     0.923781     0.058216     0.023630     0.022566   \n",
       "1592625 2014-08-22     0.923466     0.058382     0.021913     0.021980   \n",
       "1592648 2014-08-23     0.924054     0.058375     0.021990     0.021621   \n",
       "1592671 2014-08-24     0.924189     0.058300     0.024550     0.025263   \n",
       "1592694 2014-08-25     0.822330     0.058096     0.026024     0.025701   \n",
       "\n",
       "         v_MB_sec_a  a_MB_sec_a  v_MB_sec_r  a_MB_sec_r  \n",
       "1592615       -0.88       -0.04       -0.97      -0.615  \n",
       "1592625       -0.88       -0.04       -0.98      -0.620  \n",
       "1592648       -0.88       -0.04       -0.98      -0.630  \n",
       "1592671       -0.88       -0.03       -0.97      -0.570  \n",
       "1592694       -0.78       -0.03       -0.97      -0.565  "
      ]
     },
     "execution_count": 41,
     "metadata": {},
     "output_type": "execute_result"
    }
   ],
   "source": [
    "df.head()"
   ]
  },
  {
   "cell_type": "code",
   "execution_count": 42,
   "metadata": {},
   "outputs": [
    {
     "data": {
      "text/html": [
       "<div>\n",
       "<style>\n",
       "    .dataframe thead tr:only-child th {\n",
       "        text-align: right;\n",
       "    }\n",
       "\n",
       "    .dataframe thead th {\n",
       "        text-align: left;\n",
       "    }\n",
       "\n",
       "    .dataframe tbody tr th {\n",
       "        vertical-align: top;\n",
       "    }\n",
       "</style>\n",
       "<table border=\"1\" class=\"dataframe\">\n",
       "  <thead>\n",
       "    <tr style=\"text-align: right;\">\n",
       "      <th></th>\n",
       "      <th>dtime</th>\n",
       "      <th>v_MB_sec_v4</th>\n",
       "      <th>a_MB_sec_v4</th>\n",
       "      <th>v_MB_sec_v6</th>\n",
       "      <th>a_MB_sec_v6</th>\n",
       "      <th>v_MB_sec_a</th>\n",
       "      <th>a_MB_sec_a</th>\n",
       "      <th>v_MB_sec_r</th>\n",
       "      <th>a_MB_sec_r</th>\n",
       "    </tr>\n",
       "  </thead>\n",
       "  <tbody>\n",
       "    <tr>\n",
       "      <th>98576</th>\n",
       "      <td>2017-06-23</td>\n",
       "      <td>0.572040</td>\n",
       "      <td>0.756555</td>\n",
       "      <td>0.571938</td>\n",
       "      <td>0.724823</td>\n",
       "      <td>-0.00</td>\n",
       "      <td>-0.02</td>\n",
       "      <td>-0.00</td>\n",
       "      <td>-0.03</td>\n",
       "    </tr>\n",
       "    <tr>\n",
       "      <th>99176</th>\n",
       "      <td>2017-06-24</td>\n",
       "      <td>0.686526</td>\n",
       "      <td>0.745583</td>\n",
       "      <td>0.682394</td>\n",
       "      <td>0.686921</td>\n",
       "      <td>-0.00</td>\n",
       "      <td>-0.02</td>\n",
       "      <td>0.00</td>\n",
       "      <td>-0.03</td>\n",
       "    </tr>\n",
       "    <tr>\n",
       "      <th>99560</th>\n",
       "      <td>2017-06-25</td>\n",
       "      <td>1.531445</td>\n",
       "      <td>0.604259</td>\n",
       "      <td>1.496117</td>\n",
       "      <td>0.552988</td>\n",
       "      <td>-0.02</td>\n",
       "      <td>-0.03</td>\n",
       "      <td>-0.01</td>\n",
       "      <td>-0.04</td>\n",
       "    </tr>\n",
       "    <tr>\n",
       "      <th>99758</th>\n",
       "      <td>2017-06-26</td>\n",
       "      <td>2.026135</td>\n",
       "      <td>0.593721</td>\n",
       "      <td>2.069180</td>\n",
       "      <td>0.524764</td>\n",
       "      <td>-0.03</td>\n",
       "      <td>-0.03</td>\n",
       "      <td>-0.02</td>\n",
       "      <td>-0.05</td>\n",
       "    </tr>\n",
       "    <tr>\n",
       "      <th>99854</th>\n",
       "      <td>2017-06-27</td>\n",
       "      <td>1.193176</td>\n",
       "      <td>0.571957</td>\n",
       "      <td>1.172191</td>\n",
       "      <td>0.512903</td>\n",
       "      <td>-0.01</td>\n",
       "      <td>-0.02</td>\n",
       "      <td>-0.01</td>\n",
       "      <td>-0.04</td>\n",
       "    </tr>\n",
       "  </tbody>\n",
       "</table>\n",
       "</div>"
      ],
      "text/plain": [
       "           dtime  v_MB_sec_v4  a_MB_sec_v4  v_MB_sec_v6  a_MB_sec_v6  \\\n",
       "98576 2017-06-23     0.572040     0.756555     0.571938     0.724823   \n",
       "99176 2017-06-24     0.686526     0.745583     0.682394     0.686921   \n",
       "99560 2017-06-25     1.531445     0.604259     1.496117     0.552988   \n",
       "99758 2017-06-26     2.026135     0.593721     2.069180     0.524764   \n",
       "99854 2017-06-27     1.193176     0.571957     1.172191     0.512903   \n",
       "\n",
       "       v_MB_sec_a  a_MB_sec_a  v_MB_sec_r  a_MB_sec_r  \n",
       "98576       -0.00       -0.02       -0.00       -0.03  \n",
       "99176       -0.00       -0.02        0.00       -0.03  \n",
       "99560       -0.02       -0.03       -0.01       -0.04  \n",
       "99758       -0.03       -0.03       -0.02       -0.05  \n",
       "99854       -0.01       -0.02       -0.01       -0.04  "
      ]
     },
     "execution_count": 42,
     "metadata": {},
     "output_type": "execute_result"
    }
   ],
   "source": [
    "df.tail()"
   ]
  },
  {
   "cell_type": "code",
   "execution_count": 43,
   "metadata": {},
   "outputs": [
    {
     "data": {
      "text/plain": [
       "dtime          1040\n",
       "v_MB_sec_v4    1040\n",
       "a_MB_sec_v4    1040\n",
       "v_MB_sec_v6    1040\n",
       "a_MB_sec_v6    1040\n",
       "v_MB_sec_a     1040\n",
       "a_MB_sec_a     1040\n",
       "v_MB_sec_r     1040\n",
       "a_MB_sec_r     1040\n",
       "dtype: int64"
      ]
     },
     "execution_count": 43,
     "metadata": {},
     "output_type": "execute_result"
    }
   ],
   "source": [
    "df.count()"
   ]
  },
  {
   "cell_type": "markdown",
   "metadata": {},
   "source": [
    "### Hardcoded dates"
   ]
  },
  {
   "cell_type": "code",
   "execution_count": 44,
   "metadata": {
    "collapsed": true
   },
   "outputs": [],
   "source": [
    "from dateutil import rrule\n",
    "a=dt.strptime(str('2014-08-01'), '%Y-%m-%d')\n",
    "b=dt.strptime(str('2017-07-01'), '%Y-%m-%d')\n",
    "dateranges = rrule.rrule(rrule.DAILY, dtstart=a).between(a, b, inc=True)"
   ]
  },
  {
   "cell_type": "code",
   "execution_count": 46,
   "metadata": {
    "collapsed": true
   },
   "outputs": [],
   "source": [
    "df_ = pd.DataFrame(dateranges, columns=['dtime']).sort_values(by = 'dtime').reset_index(drop = True)\n",
    "df = pd.merge(df_, df, how='outer')"
   ]
  },
  {
   "cell_type": "code",
   "execution_count": 49,
   "metadata": {},
   "outputs": [
    {
     "data": {
      "image/png": "[encoded data removed]",
      "text/plain": [
       "<matplotlib.figure.Figure at 0x7efd1b66f978>"
      ]
     },
     "metadata": {},
     "output_type": "display_data"
    }
   ],
   "source": [
    "fig = plt.figure(figsize = (6, 1.3))\n",
    "plt.rcParams['font.size'] = 12\n",
    "ax = plt.gca()\n",
    "\n",
    "sl = df.plot(  x='dtime'\n",
    "             , y=['v_MB_sec_a', 'a_MB_sec_a']\n",
    "             , color=['Cyan', 'Magenta']\n",
    "             , kind='line'\n",
    "             , linewidth = 1\n",
    "             , ax = ax\n",
    "            )\n",
    "\n",
    "ax.grid(False)\n",
    "ax.set_xlabel('', fontsize=22)\n",
    "ax.set_ylabel('∆tp (MB/s)', fontsize=12)\n",
    "ax.legend(['Video', 'Audio'], fontsize=12, loc='best', ncol = 2)\n",
    "ax.set_yscale('linear')\n",
    "ax.set_ylim([-1, 0.2])\n",
    "\n",
    "yticks = np.arange(-1,0.3,0.3)\n",
    "ax.set_yticks(yticks)\n",
    "\n",
    "ax.spines['right'].set_color('none')\n",
    "ax.spines['top'].set_color('none')\n",
    "ax.yaxis.set_ticks_position('left')\n",
    "ax.xaxis.set_ticks_position('bottom')\n",
    "ax.spines['bottom'].set_position(('axes', -0.05))\n",
    "ax.spines['left'].set_position(('axes', -0.05))\n",
    "\n",
    "from datetime import datetime as dt\n",
    "ax.axvline(x=dt.strptime('2014-08-21', \"%Y-%m-%d\"), linewidth=1.0, ymax = 0.95, ymin = 0, color='black', ls = 'dotted')\n",
    "ax.axvline(x=dt.strptime('2014-12-10', \"%Y-%m-%d\"), linewidth=1.0, ymax = 0.95, ymin = 0, color='black', ls = 'dotted')\n",
    "ax.axvline(x=dt.strptime('2015-01-22', \"%Y-%m-%d\"), linewidth=1.0, ymax = 0.95, ymin = 0, color='black', ls = 'dotted')\n",
    "ax.axvline(x=dt.strptime('2016-09-05', \"%Y-%m-%d\"), linewidth=1.0, ymax = 0.95, ymin = 0, color='black', ls = 'dotted')\n",
    "\n",
    "plt.title('Throughput', fontsize=12, y=1.05)\n",
    "plt.savefig('youtube-audio-video-throughput-timeseries.pdf', format='pdf', bbox_inches='tight')"
   ]
  }
 ],
 "metadata": {
  "kernelspec": {
   "display_name": "Python 3",
   "language": "python",
   "name": "python3"
  },
  "language_info": {
   "codemirror_mode": {
    "name": "ipython",
    "version": 3
   },
   "file_extension": ".py",
   "mimetype": "text/x-python",
   "name": "python",
   "nbconvert_exporter": "python",
   "pygments_lexer": "ipython3",
   "version": "3.5.3"
  }
 },
 "nbformat": 4,
 "nbformat_minor": 1
}
