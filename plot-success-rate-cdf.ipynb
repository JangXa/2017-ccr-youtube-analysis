{
 "cells": [
  {
   "cell_type": "code",
   "execution_count": 1,
   "metadata": {
    "collapsed": true
   },
   "outputs": [],
   "source": [
    "import sqlite3\n",
    "import pandas as pd\n",
    "import filterbyip as fbi\n",
    "import clusterbycolumn as cbc\n",
    "import requests\n",
    "import asinfo"
   ]
  },
  {
   "cell_type": "code",
   "execution_count": 2,
   "metadata": {},
   "outputs": [
    {
     "name": "stdout",
     "output_type": "stream",
     "text": [
      "Populating the interactive namespace from numpy and matplotlib\n"
     ]
    }
   ],
   "source": [
    "import warnings\n",
    "warnings.filterwarnings('ignore')\n",
    "\n",
    "%pylab inline"
   ]
  },
  {
   "cell_type": "code",
   "execution_count": 3,
   "metadata": {},
   "outputs": [
    {
     "data": {
      "text/html": [
       "<style>body {\n",
       "    margin: 0;\n",
       "    font-family: Helvetica;\n",
       "}\n",
       "table.dataframe {\n",
       "    border-collapse: collapse;\n",
       "    border: none;\n",
       "}\n",
       "table.dataframe tr {\n",
       "    border: none;\n",
       "}\n",
       "table.dataframe td, table.dataframe th {\n",
       "    margin: 0;\n",
       "    border: 1px solid white;\n",
       "    padding-left: 0.25em;\n",
       "    padding-right: 0.25em;\n",
       "}\n",
       "table.dataframe th:not(:empty) {\n",
       "    background-color: #fec;\n",
       "    text-align: left;\n",
       "    font-weight: normal;\n",
       "}\n",
       "table.dataframe tr:nth-child(2) th:empty {\n",
       "    border-left: none;\n",
       "    border-right: 1px dashed #888;\n",
       "}\n",
       "table.dataframe td {\n",
       "    border: 2px solid #ccf;\n",
       "    background-color: #f4f4ff;\n",
       "}\n",
       "h3 {\n",
       "    color: white;\n",
       "    background-color: black;\n",
       "    padding: 0.5em;\n",
       "}\n",
       "\n",
       ".CodeMirror {\n",
       "    font-family: 'Monaco for Powerline';\n",
       "}\n",
       "\n",
       "div.cell.code_cell {\n",
       "    font-family: 'Monaco for Powerline';\n",
       "}\n",
       "\n",
       "div.output_area pre {\n",
       "    font-family: 'Monaco for Powerline';\n",
       "}\n",
       "</style>"
      ],
      "text/plain": [
       "<IPython.core.display.HTML object>"
      ]
     },
     "execution_count": 3,
     "metadata": {},
     "output_type": "execute_result"
    }
   ],
   "source": [
    "from IPython.core.display import HTML\n",
    "css = open('style-table.css').read() + open('style-notebook.css').read()\n",
    "HTML('<style>{}</style>'.format(css))"
   ]
  },
  {
   "cell_type": "code",
   "execution_count": 4,
   "metadata": {
    "collapsed": true
   },
   "outputs": [],
   "source": [
    "def asn_from_probe_name(probe_name):\n",
    "    base = 'http://leone-collector.eecs.jacobs-university.de/msmpoint'\n",
    "    msm_metadata = requests.get('%s/%s'%(base, probe_name))\n",
    "    asn4 = str(msm_metadata.json()['asn4'])\n",
    "    asn6 = str(msm_metadata.json()['asn6'])\n",
    "    return asn4,asn6"
   ]
  },
  {
   "cell_type": "code",
   "execution_count": 5,
   "metadata": {
    "collapsed": true
   },
   "outputs": [],
   "source": [
    "dailydb_location = '/data/vbajpai/datasets/youtube-data-collection-python3/youtube.db'"
   ]
  },
  {
   "cell_type": "code",
   "execution_count": 6,
   "metadata": {
    "collapsed": true
   },
   "outputs": [],
   "source": [
    "query = '''select   msmpoint.name as probe\n",
    "                  , dtime\n",
    "                  , video_address\n",
    "                  , successes\n",
    "                  , failures\n",
    "           from youtube, msmpoint\n",
    "           where youtube.unit_id = msmpoint.skunitid\n",
    "           and error_code <> 607\n",
    "           and msmpoint.skunitid <> ''\n",
    "           order by dtime DESC\n",
    "        '''"
   ]
  },
  {
   "cell_type": "code",
   "execution_count": 7,
   "metadata": {
    "collapsed": true
   },
   "outputs": [],
   "source": [
    "con = sqlite3.connect(dailydb_location)\n",
    "df = pd.read_sql(query, con)"
   ]
  },
  {
   "cell_type": "code",
   "execution_count": 8,
   "metadata": {},
   "outputs": [
    {
     "data": {
      "text/html": [
       "<div>\n",
       "<style>\n",
       "    .dataframe thead tr:only-child th {\n",
       "        text-align: right;\n",
       "    }\n",
       "\n",
       "    .dataframe thead th {\n",
       "        text-align: left;\n",
       "    }\n",
       "\n",
       "    .dataframe tbody tr th {\n",
       "        vertical-align: top;\n",
       "    }\n",
       "</style>\n",
       "<table border=\"1\" class=\"dataframe\">\n",
       "  <thead>\n",
       "    <tr style=\"text-align: right;\">\n",
       "      <th></th>\n",
       "      <th>probe</th>\n",
       "      <th>dtime</th>\n",
       "      <th>video_address</th>\n",
       "      <th>successes</th>\n",
       "      <th>failures</th>\n",
       "    </tr>\n",
       "  </thead>\n",
       "  <tbody>\n",
       "    <tr>\n",
       "      <th>0</th>\n",
       "      <td>samsbox08</td>\n",
       "      <td>2017-06-27 23:37:44</td>\n",
       "      <td>2001:b30:ef00:99ca::c</td>\n",
       "      <td>1</td>\n",
       "      <td>0</td>\n",
       "    </tr>\n",
       "    <tr>\n",
       "      <th>1</th>\n",
       "      <td>samsbox08</td>\n",
       "      <td>2017-06-27 23:36:40</td>\n",
       "      <td>195.95.178.204</td>\n",
       "      <td>1</td>\n",
       "      <td>0</td>\n",
       "    </tr>\n",
       "    <tr>\n",
       "      <th>2</th>\n",
       "      <td>samsbox45</td>\n",
       "      <td>2017-06-27 23:36:12</td>\n",
       "      <td>None</td>\n",
       "      <td>0</td>\n",
       "      <td>1</td>\n",
       "    </tr>\n",
       "    <tr>\n",
       "      <th>3</th>\n",
       "      <td>samsbox03</td>\n",
       "      <td>2017-06-27 23:36:00</td>\n",
       "      <td>2001:1a80:801::c</td>\n",
       "      <td>1</td>\n",
       "      <td>0</td>\n",
       "    </tr>\n",
       "    <tr>\n",
       "      <th>4</th>\n",
       "      <td>samsbox45</td>\n",
       "      <td>2017-06-27 23:35:09</td>\n",
       "      <td>173.194.20.202</td>\n",
       "      <td>1</td>\n",
       "      <td>0</td>\n",
       "    </tr>\n",
       "  </tbody>\n",
       "</table>\n",
       "</div>"
      ],
      "text/plain": [
       "       probe                dtime          video_address  successes  failures\n",
       "0  samsbox08  2017-06-27 23:37:44  2001:b30:ef00:99ca::c          1         0\n",
       "1  samsbox08  2017-06-27 23:36:40         195.95.178.204          1         0\n",
       "2  samsbox45  2017-06-27 23:36:12                   None          0         1\n",
       "3  samsbox03  2017-06-27 23:36:00       2001:1a80:801::c          1         0\n",
       "4  samsbox45  2017-06-27 23:35:09         173.194.20.202          1         0"
      ]
     },
     "execution_count": 8,
     "metadata": {},
     "output_type": "execute_result"
    }
   ],
   "source": [
    "df.head()"
   ]
  },
  {
   "cell_type": "code",
   "execution_count": 9,
   "metadata": {
    "collapsed": true
   },
   "outputs": [],
   "source": [
    "num_probes = len(set(df['probe']))"
   ]
  },
  {
   "cell_type": "code",
   "execution_count": 10,
   "metadata": {
    "collapsed": true
   },
   "outputs": [],
   "source": [
    "def round_time_to_nearest_hour(dtime):\n",
    "    import datetime;    \n",
    "    d = datetime.datetime.strptime(dtime, \"%Y-%m-%d %H:%M:%S\")\n",
    "    d = d.replace(minute=0, second=0)\n",
    "    dtime = d.strftime('%Y-%m-%d %H:%M:%S')\n",
    "    return dtime"
   ]
  },
  {
   "cell_type": "code",
   "execution_count": 11,
   "metadata": {
    "collapsed": true
   },
   "outputs": [],
   "source": [
    "df['dtime'] = df['dtime'].apply(round_time_to_nearest_hour)"
   ]
  },
  {
   "cell_type": "code",
   "execution_count": 12,
   "metadata": {},
   "outputs": [
    {
     "data": {
      "text/html": [
       "<div>\n",
       "<style>\n",
       "    .dataframe thead tr:only-child th {\n",
       "        text-align: right;\n",
       "    }\n",
       "\n",
       "    .dataframe thead th {\n",
       "        text-align: left;\n",
       "    }\n",
       "\n",
       "    .dataframe tbody tr th {\n",
       "        vertical-align: top;\n",
       "    }\n",
       "</style>\n",
       "<table border=\"1\" class=\"dataframe\">\n",
       "  <thead>\n",
       "    <tr style=\"text-align: right;\">\n",
       "      <th></th>\n",
       "      <th>probe</th>\n",
       "      <th>dtime</th>\n",
       "      <th>video_address</th>\n",
       "      <th>successes</th>\n",
       "      <th>failures</th>\n",
       "    </tr>\n",
       "  </thead>\n",
       "  <tbody>\n",
       "    <tr>\n",
       "      <th>0</th>\n",
       "      <td>samsbox08</td>\n",
       "      <td>2017-06-27 23:00:00</td>\n",
       "      <td>2001:b30:ef00:99ca::c</td>\n",
       "      <td>1</td>\n",
       "      <td>0</td>\n",
       "    </tr>\n",
       "    <tr>\n",
       "      <th>1</th>\n",
       "      <td>samsbox08</td>\n",
       "      <td>2017-06-27 23:00:00</td>\n",
       "      <td>195.95.178.204</td>\n",
       "      <td>1</td>\n",
       "      <td>0</td>\n",
       "    </tr>\n",
       "    <tr>\n",
       "      <th>2</th>\n",
       "      <td>samsbox45</td>\n",
       "      <td>2017-06-27 23:00:00</td>\n",
       "      <td>None</td>\n",
       "      <td>0</td>\n",
       "      <td>1</td>\n",
       "    </tr>\n",
       "    <tr>\n",
       "      <th>3</th>\n",
       "      <td>samsbox03</td>\n",
       "      <td>2017-06-27 23:00:00</td>\n",
       "      <td>2001:1a80:801::c</td>\n",
       "      <td>1</td>\n",
       "      <td>0</td>\n",
       "    </tr>\n",
       "    <tr>\n",
       "      <th>4</th>\n",
       "      <td>samsbox45</td>\n",
       "      <td>2017-06-27 23:00:00</td>\n",
       "      <td>173.194.20.202</td>\n",
       "      <td>1</td>\n",
       "      <td>0</td>\n",
       "    </tr>\n",
       "  </tbody>\n",
       "</table>\n",
       "</div>"
      ],
      "text/plain": [
       "       probe                dtime          video_address  successes  failures\n",
       "0  samsbox08  2017-06-27 23:00:00  2001:b30:ef00:99ca::c          1         0\n",
       "1  samsbox08  2017-06-27 23:00:00         195.95.178.204          1         0\n",
       "2  samsbox45  2017-06-27 23:00:00                   None          0         1\n",
       "3  samsbox03  2017-06-27 23:00:00       2001:1a80:801::c          1         0\n",
       "4  samsbox45  2017-06-27 23:00:00         173.194.20.202          1         0"
      ]
     },
     "execution_count": 12,
     "metadata": {},
     "output_type": "execute_result"
    }
   ],
   "source": [
    "df.head()"
   ]
  },
  {
   "cell_type": "code",
   "execution_count": 13,
   "metadata": {},
   "outputs": [
    {
     "data": {
      "text/html": [
       "<div>\n",
       "<style>\n",
       "    .dataframe thead tr:only-child th {\n",
       "        text-align: right;\n",
       "    }\n",
       "\n",
       "    .dataframe thead th {\n",
       "        text-align: left;\n",
       "    }\n",
       "\n",
       "    .dataframe tbody tr th {\n",
       "        vertical-align: top;\n",
       "    }\n",
       "</style>\n",
       "<table border=\"1\" class=\"dataframe\">\n",
       "  <thead>\n",
       "    <tr style=\"text-align: right;\">\n",
       "      <th></th>\n",
       "      <th>probe</th>\n",
       "      <th>dtime</th>\n",
       "      <th>video_address</th>\n",
       "      <th>successes</th>\n",
       "      <th>failures</th>\n",
       "    </tr>\n",
       "  </thead>\n",
       "  <tbody>\n",
       "    <tr>\n",
       "      <th>4886447</th>\n",
       "      <td>samsbox03</td>\n",
       "      <td>2014-12-10 12:00:00</td>\n",
       "      <td>2001:1a80:100:1b::e</td>\n",
       "      <td>1</td>\n",
       "      <td>0</td>\n",
       "    </tr>\n",
       "    <tr>\n",
       "      <th>4886448</th>\n",
       "      <td>samsbox02</td>\n",
       "      <td>2014-12-10 12:00:00</td>\n",
       "      <td>2a00:1450:4005:6::12</td>\n",
       "      <td>1</td>\n",
       "      <td>0</td>\n",
       "    </tr>\n",
       "    <tr>\n",
       "      <th>4886449</th>\n",
       "      <td>samsbox02</td>\n",
       "      <td>2014-12-10 12:00:00</td>\n",
       "      <td>64.15.112.79</td>\n",
       "      <td>1</td>\n",
       "      <td>0</td>\n",
       "    </tr>\n",
       "    <tr>\n",
       "      <th>4886450</th>\n",
       "      <td>samsbox06</td>\n",
       "      <td>2014-12-10 12:00:00</td>\n",
       "      <td>2a00:1450:4002:9::12</td>\n",
       "      <td>1</td>\n",
       "      <td>0</td>\n",
       "    </tr>\n",
       "    <tr>\n",
       "      <th>4886451</th>\n",
       "      <td>samsbox06</td>\n",
       "      <td>2014-12-10 12:00:00</td>\n",
       "      <td>149.3.177.111</td>\n",
       "      <td>1</td>\n",
       "      <td>0</td>\n",
       "    </tr>\n",
       "  </tbody>\n",
       "</table>\n",
       "</div>"
      ],
      "text/plain": [
       "             probe                dtime         video_address  successes  \\\n",
       "4886447  samsbox03  2014-12-10 12:00:00   2001:1a80:100:1b::e          1   \n",
       "4886448  samsbox02  2014-12-10 12:00:00  2a00:1450:4005:6::12          1   \n",
       "4886449  samsbox02  2014-12-10 12:00:00          64.15.112.79          1   \n",
       "4886450  samsbox06  2014-12-10 12:00:00  2a00:1450:4002:9::12          1   \n",
       "4886451  samsbox06  2014-12-10 12:00:00         149.3.177.111          1   \n",
       "\n",
       "         failures  \n",
       "4886447         0  \n",
       "4886448         0  \n",
       "4886449         0  \n",
       "4886450         0  \n",
       "4886451         0  "
      ]
     },
     "execution_count": 13,
     "metadata": {},
     "output_type": "execute_result"
    }
   ],
   "source": [
    "df.tail()"
   ]
  },
  {
   "cell_type": "code",
   "execution_count": 14,
   "metadata": {},
   "outputs": [
    {
     "data": {
      "text/plain": [
       "probe            4886452\n",
       "dtime            4886452\n",
       "video_address    4378415\n",
       "successes        4886452\n",
       "failures         4886452\n",
       "dtype: int64"
      ]
     },
     "execution_count": 14,
     "metadata": {},
     "output_type": "execute_result"
    }
   ],
   "source": [
    "df.count()"
   ]
  },
  {
   "cell_type": "code",
   "execution_count": 15,
   "metadata": {
    "collapsed": true
   },
   "outputs": [],
   "source": [
    "def get_af_from_endpoint(ep):\n",
    "    if ep is None: return None\n",
    "    elif fbi.if_ipv6(ep): return 'v6'\n",
    "    elif fbi.if_ipv4(ep): return 'v4'\n",
    "    else: print('.'); return None"
   ]
  },
  {
   "cell_type": "code",
   "execution_count": 16,
   "metadata": {},
   "outputs": [
    {
     "name": "stdout",
     "output_type": "stream",
     "text": [
      ".\n"
     ]
    }
   ],
   "source": [
    "df['af'] = df['video_address'].apply(get_af_from_endpoint)"
   ]
  },
  {
   "cell_type": "code",
   "execution_count": 17,
   "metadata": {},
   "outputs": [
    {
     "data": {
      "text/plain": [
       "probe            4886452\n",
       "dtime            4886452\n",
       "video_address    4378415\n",
       "successes        4886452\n",
       "failures         4886452\n",
       "af               4378414\n",
       "dtype: int64"
      ]
     },
     "execution_count": 17,
     "metadata": {},
     "output_type": "execute_result"
    }
   ],
   "source": [
    "df.count()"
   ]
  },
  {
   "cell_type": "code",
   "execution_count": 18,
   "metadata": {},
   "outputs": [
    {
     "data": {
      "text/html": [
       "<div>\n",
       "<style>\n",
       "    .dataframe thead tr:only-child th {\n",
       "        text-align: right;\n",
       "    }\n",
       "\n",
       "    .dataframe thead th {\n",
       "        text-align: left;\n",
       "    }\n",
       "\n",
       "    .dataframe tbody tr th {\n",
       "        vertical-align: top;\n",
       "    }\n",
       "</style>\n",
       "<table border=\"1\" class=\"dataframe\">\n",
       "  <thead>\n",
       "    <tr style=\"text-align: right;\">\n",
       "      <th></th>\n",
       "      <th>probe</th>\n",
       "      <th>dtime</th>\n",
       "      <th>video_address</th>\n",
       "      <th>successes</th>\n",
       "      <th>failures</th>\n",
       "      <th>af</th>\n",
       "    </tr>\n",
       "  </thead>\n",
       "  <tbody>\n",
       "    <tr>\n",
       "      <th>0</th>\n",
       "      <td>samsbox08</td>\n",
       "      <td>2017-06-27 23:00:00</td>\n",
       "      <td>2001:b30:ef00:99ca::c</td>\n",
       "      <td>1</td>\n",
       "      <td>0</td>\n",
       "      <td>v6</td>\n",
       "    </tr>\n",
       "    <tr>\n",
       "      <th>1</th>\n",
       "      <td>samsbox08</td>\n",
       "      <td>2017-06-27 23:00:00</td>\n",
       "      <td>195.95.178.204</td>\n",
       "      <td>1</td>\n",
       "      <td>0</td>\n",
       "      <td>v4</td>\n",
       "    </tr>\n",
       "    <tr>\n",
       "      <th>2</th>\n",
       "      <td>samsbox45</td>\n",
       "      <td>2017-06-27 23:00:00</td>\n",
       "      <td>None</td>\n",
       "      <td>0</td>\n",
       "      <td>1</td>\n",
       "      <td>None</td>\n",
       "    </tr>\n",
       "    <tr>\n",
       "      <th>3</th>\n",
       "      <td>samsbox03</td>\n",
       "      <td>2017-06-27 23:00:00</td>\n",
       "      <td>2001:1a80:801::c</td>\n",
       "      <td>1</td>\n",
       "      <td>0</td>\n",
       "      <td>v6</td>\n",
       "    </tr>\n",
       "    <tr>\n",
       "      <th>4</th>\n",
       "      <td>samsbox45</td>\n",
       "      <td>2017-06-27 23:00:00</td>\n",
       "      <td>173.194.20.202</td>\n",
       "      <td>1</td>\n",
       "      <td>0</td>\n",
       "      <td>v4</td>\n",
       "    </tr>\n",
       "  </tbody>\n",
       "</table>\n",
       "</div>"
      ],
      "text/plain": [
       "       probe                dtime          video_address  successes  failures  \\\n",
       "0  samsbox08  2017-06-27 23:00:00  2001:b30:ef00:99ca::c          1         0   \n",
       "1  samsbox08  2017-06-27 23:00:00         195.95.178.204          1         0   \n",
       "2  samsbox45  2017-06-27 23:00:00                   None          0         1   \n",
       "3  samsbox03  2017-06-27 23:00:00       2001:1a80:801::c          1         0   \n",
       "4  samsbox45  2017-06-27 23:00:00         173.194.20.202          1         0   \n",
       "\n",
       "     af  \n",
       "0    v6  \n",
       "1    v4  \n",
       "2  None  \n",
       "3    v6  \n",
       "4    v4  "
      ]
     },
     "execution_count": 18,
     "metadata": {},
     "output_type": "execute_result"
    }
   ],
   "source": [
    "df.head()"
   ]
  },
  {
   "cell_type": "code",
   "execution_count": 19,
   "metadata": {
    "collapsed": true
   },
   "outputs": [],
   "source": [
    "dfgroupby = cbc.group(df, column=['probe', 'af'])"
   ]
  },
  {
   "cell_type": "code",
   "execution_count": 20,
   "metadata": {
    "collapsed": true
   },
   "outputs": [],
   "source": [
    "df_agg = cbc.aggregate(dfgroupby, ['successes', 'failures'], ['sum', 'count'])"
   ]
  },
  {
   "cell_type": "code",
   "execution_count": 21,
   "metadata": {
    "collapsed": true
   },
   "outputs": [],
   "source": [
    "df_merged = cbc.merge(df, df_agg, column=['probe', 'af'])"
   ]
  },
  {
   "cell_type": "code",
   "execution_count": 22,
   "metadata": {
    "collapsed": true
   },
   "outputs": [],
   "source": [
    "df = df_merged.drop(['dtime', 'video_address', 'successes', 'failures'], axis=1)"
   ]
  },
  {
   "cell_type": "code",
   "execution_count": 23,
   "metadata": {
    "collapsed": true
   },
   "outputs": [],
   "source": [
    "df = df.drop_duplicates()"
   ]
  },
  {
   "cell_type": "code",
   "execution_count": 24,
   "metadata": {
    "collapsed": true
   },
   "outputs": [],
   "source": [
    "df.rename( columns={  df.columns[-1]: 'failures_count'\n",
    "                    , df.columns[-2]: 'failures_sum'\n",
    "                    , df.columns[-3]: 'successes_count'\n",
    "                    , df.columns[-4]: 'successes_sum'}\n",
    "                , inplace=True)"
   ]
  },
  {
   "cell_type": "code",
   "execution_count": 25,
   "metadata": {
    "collapsed": true
   },
   "outputs": [],
   "source": [
    "dfv6 = df[df.af == 'v6']\n",
    "dfv4 = df[df.af == 'v4']"
   ]
  },
  {
   "cell_type": "code",
   "execution_count": 26,
   "metadata": {},
   "outputs": [
    {
     "data": {
      "text/html": [
       "<div>\n",
       "<style>\n",
       "    .dataframe thead tr:only-child th {\n",
       "        text-align: right;\n",
       "    }\n",
       "\n",
       "    .dataframe thead th {\n",
       "        text-align: left;\n",
       "    }\n",
       "\n",
       "    .dataframe tbody tr th {\n",
       "        vertical-align: top;\n",
       "    }\n",
       "</style>\n",
       "<table border=\"1\" class=\"dataframe\">\n",
       "  <thead>\n",
       "    <tr style=\"text-align: right;\">\n",
       "      <th></th>\n",
       "      <th>probe</th>\n",
       "      <th>af</th>\n",
       "      <th>successes_sum</th>\n",
       "      <th>successes_count</th>\n",
       "      <th>failures_sum</th>\n",
       "      <th>failures_count</th>\n",
       "    </tr>\n",
       "  </thead>\n",
       "  <tbody>\n",
       "    <tr>\n",
       "      <th>0</th>\n",
       "      <td>samsbox08</td>\n",
       "      <td>v6</td>\n",
       "      <td>24245</td>\n",
       "      <td>24554</td>\n",
       "      <td>309</td>\n",
       "      <td>24554</td>\n",
       "    </tr>\n",
       "    <tr>\n",
       "      <th>3</th>\n",
       "      <td>samsbox03</td>\n",
       "      <td>v6</td>\n",
       "      <td>35640</td>\n",
       "      <td>35730</td>\n",
       "      <td>90</td>\n",
       "      <td>35730</td>\n",
       "    </tr>\n",
       "    <tr>\n",
       "      <th>6</th>\n",
       "      <td>samsbox97</td>\n",
       "      <td>v6</td>\n",
       "      <td>14350</td>\n",
       "      <td>14353</td>\n",
       "      <td>3</td>\n",
       "      <td>14353</td>\n",
       "    </tr>\n",
       "    <tr>\n",
       "      <th>8</th>\n",
       "      <td>samsbox51</td>\n",
       "      <td>v6</td>\n",
       "      <td>27986</td>\n",
       "      <td>28323</td>\n",
       "      <td>337</td>\n",
       "      <td>28323</td>\n",
       "    </tr>\n",
       "    <tr>\n",
       "      <th>9</th>\n",
       "      <td>samsbox33</td>\n",
       "      <td>v6</td>\n",
       "      <td>28717</td>\n",
       "      <td>29152</td>\n",
       "      <td>435</td>\n",
       "      <td>29152</td>\n",
       "    </tr>\n",
       "  </tbody>\n",
       "</table>\n",
       "</div>"
      ],
      "text/plain": [
       "       probe  af  successes_sum  successes_count  failures_sum  failures_count\n",
       "0  samsbox08  v6          24245            24554           309           24554\n",
       "3  samsbox03  v6          35640            35730            90           35730\n",
       "6  samsbox97  v6          14350            14353             3           14353\n",
       "8  samsbox51  v6          27986            28323           337           28323\n",
       "9  samsbox33  v6          28717            29152           435           29152"
      ]
     },
     "execution_count": 26,
     "metadata": {},
     "output_type": "execute_result"
    }
   ],
   "source": [
    "dfv6.head()"
   ]
  },
  {
   "cell_type": "code",
   "execution_count": 27,
   "metadata": {
    "collapsed": true
   },
   "outputs": [],
   "source": [
    "def cal_success_rate(x):\n",
    "    success = x['successes_sum']\n",
    "    total   = x['successes_count']    \n",
    "    \n",
    "    rate = (success / total) * 100\n",
    "    return rate\n",
    "\n",
    "dfv6['success_rate'] = dfv6.apply(cal_success_rate, axis = 1)\n",
    "dfv4['success_rate'] = dfv4.apply(cal_success_rate, axis = 1)"
   ]
  },
  {
   "cell_type": "code",
   "execution_count": 28,
   "metadata": {},
   "outputs": [
    {
     "data": {
      "text/html": [
       "<div>\n",
       "<style>\n",
       "    .dataframe thead tr:only-child th {\n",
       "        text-align: right;\n",
       "    }\n",
       "\n",
       "    .dataframe thead th {\n",
       "        text-align: left;\n",
       "    }\n",
       "\n",
       "    .dataframe tbody tr th {\n",
       "        vertical-align: top;\n",
       "    }\n",
       "</style>\n",
       "<table border=\"1\" class=\"dataframe\">\n",
       "  <thead>\n",
       "    <tr style=\"text-align: right;\">\n",
       "      <th></th>\n",
       "      <th>probe</th>\n",
       "      <th>af</th>\n",
       "      <th>successes_sum</th>\n",
       "      <th>successes_count</th>\n",
       "      <th>failures_sum</th>\n",
       "      <th>failures_count</th>\n",
       "      <th>success_rate</th>\n",
       "    </tr>\n",
       "  </thead>\n",
       "  <tbody>\n",
       "    <tr>\n",
       "      <th>1</th>\n",
       "      <td>samsbox08</td>\n",
       "      <td>v4</td>\n",
       "      <td>29529</td>\n",
       "      <td>29844</td>\n",
       "      <td>315</td>\n",
       "      <td>29844</td>\n",
       "      <td>98.944511</td>\n",
       "    </tr>\n",
       "    <tr>\n",
       "      <th>4</th>\n",
       "      <td>samsbox45</td>\n",
       "      <td>v4</td>\n",
       "      <td>33295</td>\n",
       "      <td>33604</td>\n",
       "      <td>309</td>\n",
       "      <td>33604</td>\n",
       "      <td>99.080467</td>\n",
       "    </tr>\n",
       "    <tr>\n",
       "      <th>5</th>\n",
       "      <td>samsbox03</td>\n",
       "      <td>v4</td>\n",
       "      <td>34424</td>\n",
       "      <td>34454</td>\n",
       "      <td>30</td>\n",
       "      <td>34454</td>\n",
       "      <td>99.912927</td>\n",
       "    </tr>\n",
       "    <tr>\n",
       "      <th>7</th>\n",
       "      <td>samsbox97</td>\n",
       "      <td>v4</td>\n",
       "      <td>15413</td>\n",
       "      <td>15413</td>\n",
       "      <td>0</td>\n",
       "      <td>15413</td>\n",
       "      <td>100.000000</td>\n",
       "    </tr>\n",
       "    <tr>\n",
       "      <th>12</th>\n",
       "      <td>samsbox51</td>\n",
       "      <td>v4</td>\n",
       "      <td>28422</td>\n",
       "      <td>28831</td>\n",
       "      <td>409</td>\n",
       "      <td>28831</td>\n",
       "      <td>98.581388</td>\n",
       "    </tr>\n",
       "  </tbody>\n",
       "</table>\n",
       "</div>"
      ],
      "text/plain": [
       "        probe  af  successes_sum  successes_count  failures_sum  \\\n",
       "1   samsbox08  v4          29529            29844           315   \n",
       "4   samsbox45  v4          33295            33604           309   \n",
       "5   samsbox03  v4          34424            34454            30   \n",
       "7   samsbox97  v4          15413            15413             0   \n",
       "12  samsbox51  v4          28422            28831           409   \n",
       "\n",
       "    failures_count  success_rate  \n",
       "1            29844     98.944511  \n",
       "4            33604     99.080467  \n",
       "5            34454     99.912927  \n",
       "7            15413    100.000000  \n",
       "12           28831     98.581388  "
      ]
     },
     "execution_count": 28,
     "metadata": {},
     "output_type": "execute_result"
    }
   ],
   "source": [
    "dfv4.head()"
   ]
  },
  {
   "cell_type": "code",
   "execution_count": 29,
   "metadata": {
    "collapsed": true
   },
   "outputs": [],
   "source": [
    "import Cdf\n",
    "import Pmf\n",
    "samplev4 = dfv4['success_rate'].values\n",
    "samplev6 = dfv6['success_rate'].values\n",
    "\n",
    "c4 = Cdf.MakeCdfFromList(samplev4)\n",
    "c6 = Cdf.MakeCdfFromList(samplev6)\n",
    "\n",
    "cc4 = [1 - p for x, p in c4.Items()]\n",
    "cc6 = [1 - p for x, p in c6.Items()]"
   ]
  },
  {
   "cell_type": "code",
   "execution_count": 55,
   "metadata": {},
   "outputs": [
    {
     "data": {
      "image/png": "[encoded data removed]",
      "text/plain": [
       "<matplotlib.figure.Figure at 0x7efca21a3dd8>"
      ]
     },
     "metadata": {},
     "output_type": "display_data"
    }
   ],
   "source": [
    "fig = plt.figure(figsize=(5, 3))\n",
    "plt.rcParams['font.size'] = 12\n",
    "\n",
    "yticks = np.arange(0,1.1,0.2)\n",
    "xticks = np.arange(80,110,10)\n",
    "\n",
    "ax1 = fig.add_subplot(211)\n",
    "ax2 = fig.add_subplot(212, sharex=ax1)\n",
    "\n",
    "ax1.spines['right'].set_color('none')\n",
    "ax1.spines['top'].set_color('none')\n",
    "ax1.yaxis.set_ticks_position('left')\n",
    "ax1.xaxis.set_ticks_position('bottom')\n",
    "ax1.spines['bottom'].set_position(('axes', -0.05))\n",
    "ax1.spines['left'].set_position(('axes', -0.05))\n",
    "\n",
    "ax2.spines['right'].set_color('none')\n",
    "ax2.spines['top'].set_color('none')\n",
    "ax2.yaxis.set_ticks_position('left')\n",
    "ax2.xaxis.set_ticks_position('bottom')\n",
    "ax2.spines['bottom'].set_position(('axes', -0.05))\n",
    "ax2.spines['left'].set_position(('axes', -0.05))\n",
    "\n",
    "ax1.plot(c6.xs, cc6, marker='s', linewidth=0, markersize=5, fillstyle='none', color = 'Red')\n",
    "ax2.plot(c4.xs, cc4, marker='o', linewidth=0, markersize=5, fillstyle='none', color = 'Blue')\n",
    "\n",
    "ax1.set_xlim([80,101])\n",
    "ax1.set_yticks(yticks)\n",
    "ax1.set_xticks(xticks)\n",
    "ax1.set_xscale('linear')\n",
    "ax1.set_xlabel('', fontsize=12)\n",
    "\n",
    "ax1.grid(False)\n",
    "ax1.legend(['IPv6 (102)'], fontsize=12, loc='best')\n",
    "\n",
    "ax2.set_xlim([80,101])\n",
    "ax2.set_yticks(yticks)\n",
    "ax2.set_xticks(xticks)\n",
    "ax2.set_xscale('linear')\n",
    "ax2.set_xlabel('', fontsize=12)\n",
    "\n",
    "ax2.grid(False)\n",
    "ax2.legend(['IPv4 (102)'], fontsize=12, loc='best')\n",
    "\n",
    "ax1_ = ax1.twinx()\n",
    "ax1_.spines['right'].set_color('none')\n",
    "ax1_.spines['top'].set_color('none')\n",
    "ax1_.spines['left'].set_color('none')\n",
    "ax1_.spines['bottom'].set_color('none')\n",
    "ax1_.yaxis.set_ticks_position('none')\n",
    "ax1_.set_ylabel('[\\'14 - \\'17]', fontsize = 12)\n",
    "ax1_.yaxis.set_label_coords(1.05, -0.2)\n",
    "plt.setp(ax1_.get_yticklabels(), visible=False)\n",
    "\n",
    "fig.subplots_adjust(hspace = 0.3)\n",
    "\n",
    "def to_percent(x, position): return str(int(x)) + '%'\n",
    "ax1.xaxis.set_major_formatter(FuncFormatter(to_percent))\n",
    "ax2.xaxis.set_major_formatter(FuncFormatter(to_percent))\n",
    "\n",
    "plt.setp(ax1.get_xticklabels(), visible=False)\n",
    "\n",
    "ax1.yaxis.set_label_coords(-0.18, -0.2)\n",
    "ax1.set_ylabel('CCDF', fontsize=12)\n",
    "\n",
    "ax1.set_title('Success Rate', fontsize=12, y=1.05)\n",
    "plt.savefig('yt-success-rate-ccdf.pdf', format='pdf', bbox_inches='tight')"
   ]
  },
  {
   "cell_type": "code",
   "execution_count": 33,
   "metadata": {
    "collapsed": true
   },
   "outputs": [],
   "source": [
    "with open('yt-success-rate-v4.csv', 'w') as f: \n",
    "    f.write('values; percentile\\n')\n",
    "    for x, y in zip(c4.xs, cc4): f.write('%.2f; %.2f\\n'%(x,y))\n",
    "        \n",
    "with open('yt-success-rate-v6.csv', 'w') as f: \n",
    "    f.write('values; percentile\\n')\n",
    "    for x, y in zip(c6.xs, cc6): f.write('%.2f; %.2f\\n'%(x,y))        "
   ]
  }
 ],
 "metadata": {
  "kernelspec": {
   "display_name": "Python 3",
   "language": "python",
   "name": "python3"
  },
  "language_info": {
   "codemirror_mode": {
    "name": "ipython",
    "version": 3
   },
   "file_extension": ".py",
   "mimetype": "text/x-python",
   "name": "python",
   "nbconvert_exporter": "python",
   "pygments_lexer": "ipython3",
   "version": "3.5.3"
  }
 },
 "nbformat": 4,
 "nbformat_minor": 1
}
