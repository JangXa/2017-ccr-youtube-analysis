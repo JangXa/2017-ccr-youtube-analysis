{
 "cells": [
  {
   "cell_type": "code",
   "execution_count": 1,
   "metadata": {
    "collapsed": true
   },
   "outputs": [],
   "source": [
    "import sqlite3\n",
    "import pandas as pd\n",
    "import filterbyip as fbi\n",
    "import clusterbycolumn as cbc\n",
    "import requests\n",
    "import asinfo\n",
    "\n",
    "import matplotlib.dates as dates\n",
    "from datetime import datetime as dt"
   ]
  },
  {
   "cell_type": "code",
   "execution_count": 2,
   "metadata": {},
   "outputs": [
    {
     "name": "stdout",
     "output_type": "stream",
     "text": [
      "Populating the interactive namespace from numpy and matplotlib\n"
     ]
    }
   ],
   "source": [
    "import warnings\n",
    "warnings.filterwarnings('ignore')\n",
    "\n",
    "%pylab inline"
   ]
  },
  {
   "cell_type": "code",
   "execution_count": 3,
   "metadata": {},
   "outputs": [
    {
     "data": {
      "text/html": [
       "<style>body {\n",
       "    margin: 0;\n",
       "    font-family: Helvetica;\n",
       "}\n",
       "table.dataframe {\n",
       "    border-collapse: collapse;\n",
       "    border: none;\n",
       "}\n",
       "table.dataframe tr {\n",
       "    border: none;\n",
       "}\n",
       "table.dataframe td, table.dataframe th {\n",
       "    margin: 0;\n",
       "    border: 1px solid white;\n",
       "    padding-left: 0.25em;\n",
       "    padding-right: 0.25em;\n",
       "}\n",
       "table.dataframe th:not(:empty) {\n",
       "    background-color: #fec;\n",
       "    text-align: left;\n",
       "    font-weight: normal;\n",
       "}\n",
       "table.dataframe tr:nth-child(2) th:empty {\n",
       "    border-left: none;\n",
       "    border-right: 1px dashed #888;\n",
       "}\n",
       "table.dataframe td {\n",
       "    border: 2px solid #ccf;\n",
       "    background-color: #f4f4ff;\n",
       "}\n",
       "h3 {\n",
       "    color: white;\n",
       "    background-color: black;\n",
       "    padding: 0.5em;\n",
       "}\n",
       "\n",
       ".CodeMirror {\n",
       "    font-family: 'Monaco for Powerline';\n",
       "}\n",
       "\n",
       "div.cell.code_cell {\n",
       "    font-family: 'Monaco for Powerline';\n",
       "}\n",
       "\n",
       "div.output_area pre {\n",
       "    font-family: 'Monaco for Powerline';\n",
       "}\n",
       "</style>"
      ],
      "text/plain": [
       "<IPython.core.display.HTML object>"
      ]
     },
     "execution_count": 3,
     "metadata": {},
     "output_type": "execute_result"
    }
   ],
   "source": [
    "from IPython.core.display import HTML\n",
    "css = open('style-table.css').read() + open('style-notebook.css').read()\n",
    "HTML('<style>{}</style>'.format(css))"
   ]
  },
  {
   "cell_type": "code",
   "execution_count": 4,
   "metadata": {
    "collapsed": true
   },
   "outputs": [],
   "source": [
    "def asn_from_probe_name(probe_name):\n",
    "    base = 'http://leone-collector.eecs.jacobs-university.de/msmpoint'\n",
    "    msm_metadata = requests.get('%s/%s'%(base, probe_name))\n",
    "    asn4 = str(msm_metadata.json()['asn4'])\n",
    "    asn6 = str(msm_metadata.json()['asn6'])\n",
    "    return asn4,asn6"
   ]
  },
  {
   "cell_type": "code",
   "execution_count": 5,
   "metadata": {
    "collapsed": true
   },
   "outputs": [],
   "source": [
    "dailydb_location = '/data/vbajpai/datasets/youtube-data-collection-python3/youtube.db'"
   ]
  },
  {
   "cell_type": "code",
   "execution_count": 6,
   "metadata": {
    "collapsed": true
   },
   "outputs": [],
   "source": [
    "query = '''select   msmpoint.name as probe\n",
    "                  , dtime\n",
    "                  , video_address\n",
    "                  , video_download_bytes_sec\n",
    "                  , audio_download_bytes_sec\n",
    "           from youtube, msmpoint\n",
    "           where youtube.unit_id = msmpoint.skunitid\n",
    "           and msmpoint.skunitid <> ''\n",
    "           and successes = 1\n",
    "           and failures = 0;\n",
    "        '''"
   ]
  },
  {
   "cell_type": "code",
   "execution_count": 7,
   "metadata": {
    "collapsed": true
   },
   "outputs": [],
   "source": [
    "con = sqlite3.connect(dailydb_location)\n",
    "df = pd.read_sql(query, con)"
   ]
  },
  {
   "cell_type": "code",
   "execution_count": 8,
   "metadata": {},
   "outputs": [
    {
     "data": {
      "text/plain": [
       "probe                       4422465\n",
       "dtime                       4422465\n",
       "video_address               4422465\n",
       "video_download_bytes_sec    4422465\n",
       "audio_download_bytes_sec    4422465\n",
       "dtype: int64"
      ]
     },
     "execution_count": 8,
     "metadata": {},
     "output_type": "execute_result"
    }
   ],
   "source": [
    "df.count()"
   ]
  },
  {
   "cell_type": "code",
   "execution_count": 9,
   "metadata": {},
   "outputs": [
    {
     "data": {
      "text/html": [
       "<div>\n",
       "<style>\n",
       "    .dataframe thead tr:only-child th {\n",
       "        text-align: right;\n",
       "    }\n",
       "\n",
       "    .dataframe thead th {\n",
       "        text-align: left;\n",
       "    }\n",
       "\n",
       "    .dataframe tbody tr th {\n",
       "        vertical-align: top;\n",
       "    }\n",
       "</style>\n",
       "<table border=\"1\" class=\"dataframe\">\n",
       "  <thead>\n",
       "    <tr style=\"text-align: right;\">\n",
       "      <th></th>\n",
       "      <th>probe</th>\n",
       "      <th>dtime</th>\n",
       "      <th>video_address</th>\n",
       "      <th>video_download_bytes_sec</th>\n",
       "      <th>audio_download_bytes_sec</th>\n",
       "    </tr>\n",
       "  </thead>\n",
       "  <tbody>\n",
       "    <tr>\n",
       "      <th>0</th>\n",
       "      <td>samsbox81</td>\n",
       "      <td>2016-09-05 16:29:41</td>\n",
       "      <td>193.212.4.15</td>\n",
       "      <td>2006335</td>\n",
       "      <td>1242187</td>\n",
       "    </tr>\n",
       "    <tr>\n",
       "      <th>1</th>\n",
       "      <td>samsbox81</td>\n",
       "      <td>2016-09-05 16:30:23</td>\n",
       "      <td>2001:4600:9:307::f</td>\n",
       "      <td>2032809</td>\n",
       "      <td>1146949</td>\n",
       "    </tr>\n",
       "    <tr>\n",
       "      <th>2</th>\n",
       "      <td>samsbox81</td>\n",
       "      <td>2016-09-05 17:26:17</td>\n",
       "      <td>193.212.4.15</td>\n",
       "      <td>1946785</td>\n",
       "      <td>1214358</td>\n",
       "    </tr>\n",
       "    <tr>\n",
       "      <th>3</th>\n",
       "      <td>samsbox81</td>\n",
       "      <td>2016-09-05 17:26:59</td>\n",
       "      <td>2001:4600:9:307::f</td>\n",
       "      <td>2008980</td>\n",
       "      <td>889966</td>\n",
       "    </tr>\n",
       "    <tr>\n",
       "      <th>4</th>\n",
       "      <td>samsbox81</td>\n",
       "      <td>2016-09-05 18:25:53</td>\n",
       "      <td>193.212.4.15</td>\n",
       "      <td>1927047</td>\n",
       "      <td>1181569</td>\n",
       "    </tr>\n",
       "  </tbody>\n",
       "</table>\n",
       "</div>"
      ],
      "text/plain": [
       "       probe                dtime       video_address  \\\n",
       "0  samsbox81  2016-09-05 16:29:41        193.212.4.15   \n",
       "1  samsbox81  2016-09-05 16:30:23  2001:4600:9:307::f   \n",
       "2  samsbox81  2016-09-05 17:26:17        193.212.4.15   \n",
       "3  samsbox81  2016-09-05 17:26:59  2001:4600:9:307::f   \n",
       "4  samsbox81  2016-09-05 18:25:53        193.212.4.15   \n",
       "\n",
       "   video_download_bytes_sec  audio_download_bytes_sec  \n",
       "0                   2006335                   1242187  \n",
       "1                   2032809                   1146949  \n",
       "2                   1946785                   1214358  \n",
       "3                   2008980                    889966  \n",
       "4                   1927047                   1181569  "
      ]
     },
     "execution_count": 9,
     "metadata": {},
     "output_type": "execute_result"
    }
   ],
   "source": [
    "df.head()"
   ]
  },
  {
   "cell_type": "code",
   "execution_count": 10,
   "metadata": {
    "collapsed": true
   },
   "outputs": [],
   "source": [
    "def round_time_to_nearest_hour(dtime):\n",
    "    import datetime;    \n",
    "    d = datetime.datetime.strptime(dtime, \"%Y-%m-%d %H:%M:%S\")\n",
    "    d = d.replace(minute=0, second=0)\n",
    "    dtime = d.strftime('%Y-%m-%d %H:%M:%S')\n",
    "    return dtime"
   ]
  },
  {
   "cell_type": "code",
   "execution_count": 11,
   "metadata": {
    "collapsed": true
   },
   "outputs": [],
   "source": [
    "df['dtime'] = df['dtime'].apply(round_time_to_nearest_hour)"
   ]
  },
  {
   "cell_type": "code",
   "execution_count": 14,
   "metadata": {
    "collapsed": true
   },
   "outputs": [],
   "source": [
    "df = df.sort_values('dtime')"
   ]
  },
  {
   "cell_type": "code",
   "execution_count": 15,
   "metadata": {},
   "outputs": [
    {
     "data": {
      "text/html": [
       "<div>\n",
       "<style>\n",
       "    .dataframe thead tr:only-child th {\n",
       "        text-align: right;\n",
       "    }\n",
       "\n",
       "    .dataframe thead th {\n",
       "        text-align: left;\n",
       "    }\n",
       "\n",
       "    .dataframe tbody tr th {\n",
       "        vertical-align: top;\n",
       "    }\n",
       "</style>\n",
       "<table border=\"1\" class=\"dataframe\">\n",
       "  <thead>\n",
       "    <tr style=\"text-align: right;\">\n",
       "      <th></th>\n",
       "      <th>probe</th>\n",
       "      <th>dtime</th>\n",
       "      <th>video_address</th>\n",
       "      <th>video_download_bytes_sec</th>\n",
       "      <th>audio_download_bytes_sec</th>\n",
       "    </tr>\n",
       "  </thead>\n",
       "  <tbody>\n",
       "    <tr>\n",
       "      <th>3036654</th>\n",
       "      <td>samsbox24</td>\n",
       "      <td>2014-08-20 01:00:00</td>\n",
       "      <td>173.194.137.147</td>\n",
       "      <td>457484</td>\n",
       "      <td>81165</td>\n",
       "    </tr>\n",
       "    <tr>\n",
       "      <th>3036655</th>\n",
       "      <td>samsbox24</td>\n",
       "      <td>2014-08-20 04:00:00</td>\n",
       "      <td>173.194.137.147</td>\n",
       "      <td>456881</td>\n",
       "      <td>83834</td>\n",
       "    </tr>\n",
       "    <tr>\n",
       "      <th>3036656</th>\n",
       "      <td>samsbox24</td>\n",
       "      <td>2014-08-20 06:00:00</td>\n",
       "      <td>173.194.137.147</td>\n",
       "      <td>454969</td>\n",
       "      <td>83514</td>\n",
       "    </tr>\n",
       "    <tr>\n",
       "      <th>3036657</th>\n",
       "      <td>samsbox24</td>\n",
       "      <td>2014-08-20 08:00:00</td>\n",
       "      <td>173.194.137.147</td>\n",
       "      <td>456777</td>\n",
       "      <td>83162</td>\n",
       "    </tr>\n",
       "    <tr>\n",
       "      <th>3036658</th>\n",
       "      <td>samsbox24</td>\n",
       "      <td>2014-08-20 09:00:00</td>\n",
       "      <td>173.194.137.147</td>\n",
       "      <td>459497</td>\n",
       "      <td>83982</td>\n",
       "    </tr>\n",
       "  </tbody>\n",
       "</table>\n",
       "</div>"
      ],
      "text/plain": [
       "             probe                dtime    video_address  \\\n",
       "3036654  samsbox24  2014-08-20 01:00:00  173.194.137.147   \n",
       "3036655  samsbox24  2014-08-20 04:00:00  173.194.137.147   \n",
       "3036656  samsbox24  2014-08-20 06:00:00  173.194.137.147   \n",
       "3036657  samsbox24  2014-08-20 08:00:00  173.194.137.147   \n",
       "3036658  samsbox24  2014-08-20 09:00:00  173.194.137.147   \n",
       "\n",
       "         video_download_bytes_sec  audio_download_bytes_sec  \n",
       "3036654                    457484                     81165  \n",
       "3036655                    456881                     83834  \n",
       "3036656                    454969                     83514  \n",
       "3036657                    456777                     83162  \n",
       "3036658                    459497                     83982  "
      ]
     },
     "execution_count": 15,
     "metadata": {},
     "output_type": "execute_result"
    }
   ],
   "source": [
    "df.head()"
   ]
  },
  {
   "cell_type": "code",
   "execution_count": 16,
   "metadata": {},
   "outputs": [
    {
     "data": {
      "text/html": [
       "<div>\n",
       "<style>\n",
       "    .dataframe thead tr:only-child th {\n",
       "        text-align: right;\n",
       "    }\n",
       "\n",
       "    .dataframe thead th {\n",
       "        text-align: left;\n",
       "    }\n",
       "\n",
       "    .dataframe tbody tr th {\n",
       "        vertical-align: top;\n",
       "    }\n",
       "</style>\n",
       "<table border=\"1\" class=\"dataframe\">\n",
       "  <thead>\n",
       "    <tr style=\"text-align: right;\">\n",
       "      <th></th>\n",
       "      <th>probe</th>\n",
       "      <th>dtime</th>\n",
       "      <th>video_address</th>\n",
       "      <th>video_download_bytes_sec</th>\n",
       "      <th>audio_download_bytes_sec</th>\n",
       "    </tr>\n",
       "  </thead>\n",
       "  <tbody>\n",
       "    <tr>\n",
       "      <th>1490979</th>\n",
       "      <td>samsbox63</td>\n",
       "      <td>2017-06-27 23:00:00</td>\n",
       "      <td>2607:f8b0:400b:f::8</td>\n",
       "      <td>938389</td>\n",
       "      <td>627823</td>\n",
       "    </tr>\n",
       "    <tr>\n",
       "      <th>516635</th>\n",
       "      <td>samsbox45</td>\n",
       "      <td>2017-06-27 23:00:00</td>\n",
       "      <td>173.194.20.202</td>\n",
       "      <td>810563</td>\n",
       "      <td>535373</td>\n",
       "    </tr>\n",
       "    <tr>\n",
       "      <th>1490978</th>\n",
       "      <td>samsbox63</td>\n",
       "      <td>2017-06-27 23:00:00</td>\n",
       "      <td>74.216.233.205</td>\n",
       "      <td>942901</td>\n",
       "      <td>568052</td>\n",
       "    </tr>\n",
       "    <tr>\n",
       "      <th>961953</th>\n",
       "      <td>samsbox30</td>\n",
       "      <td>2017-06-27 23:00:00</td>\n",
       "      <td>173.194.11.170</td>\n",
       "      <td>812448</td>\n",
       "      <td>559443</td>\n",
       "    </tr>\n",
       "    <tr>\n",
       "      <th>4422464</th>\n",
       "      <td>samsbox91</td>\n",
       "      <td>2017-06-27 23:00:00</td>\n",
       "      <td>62.231.78.13</td>\n",
       "      <td>1019577</td>\n",
       "      <td>1266532</td>\n",
       "    </tr>\n",
       "  </tbody>\n",
       "</table>\n",
       "</div>"
      ],
      "text/plain": [
       "             probe                dtime        video_address  \\\n",
       "1490979  samsbox63  2017-06-27 23:00:00  2607:f8b0:400b:f::8   \n",
       "516635   samsbox45  2017-06-27 23:00:00       173.194.20.202   \n",
       "1490978  samsbox63  2017-06-27 23:00:00       74.216.233.205   \n",
       "961953   samsbox30  2017-06-27 23:00:00       173.194.11.170   \n",
       "4422464  samsbox91  2017-06-27 23:00:00         62.231.78.13   \n",
       "\n",
       "         video_download_bytes_sec  audio_download_bytes_sec  \n",
       "1490979                    938389                    627823  \n",
       "516635                     810563                    535373  \n",
       "1490978                    942901                    568052  \n",
       "961953                     812448                    559443  \n",
       "4422464                   1019577                   1266532  "
      ]
     },
     "execution_count": 16,
     "metadata": {},
     "output_type": "execute_result"
    }
   ],
   "source": [
    "df.tail()"
   ]
  },
  {
   "cell_type": "code",
   "execution_count": 17,
   "metadata": {
    "collapsed": true
   },
   "outputs": [],
   "source": [
    "num_probes = len(set(df['probe']))"
   ]
  },
  {
   "cell_type": "code",
   "execution_count": 18,
   "metadata": {},
   "outputs": [
    {
     "data": {
      "text/plain": [
       "probe                       4422465\n",
       "dtime                       4422465\n",
       "video_address               4422465\n",
       "video_download_bytes_sec    4422465\n",
       "audio_download_bytes_sec    4422465\n",
       "dtype: int64"
      ]
     },
     "execution_count": 18,
     "metadata": {},
     "output_type": "execute_result"
    }
   ],
   "source": [
    "df.count()"
   ]
  },
  {
   "cell_type": "code",
   "execution_count": 19,
   "metadata": {
    "collapsed": true
   },
   "outputs": [],
   "source": [
    "df = df.dropna()"
   ]
  },
  {
   "cell_type": "code",
   "execution_count": 20,
   "metadata": {},
   "outputs": [
    {
     "data": {
      "text/plain": [
       "probe                       4422465\n",
       "dtime                       4422465\n",
       "video_address               4422465\n",
       "video_download_bytes_sec    4422465\n",
       "audio_download_bytes_sec    4422465\n",
       "dtype: int64"
      ]
     },
     "execution_count": 20,
     "metadata": {},
     "output_type": "execute_result"
    }
   ],
   "source": [
    "df.count()"
   ]
  },
  {
   "cell_type": "code",
   "execution_count": 21,
   "metadata": {
    "collapsed": true
   },
   "outputs": [],
   "source": [
    "df['v_MB_sec'] = df['video_download_bytes_sec'].div(1024).div(1024)\n",
    "df['a_MB_sec'] = df['audio_download_bytes_sec'].div(1024).div(1024)\n",
    "\n",
    "del df['video_download_bytes_sec']\n",
    "del df['audio_download_bytes_sec']"
   ]
  },
  {
   "cell_type": "code",
   "execution_count": 22,
   "metadata": {
    "collapsed": true
   },
   "outputs": [],
   "source": [
    "def filter_by_ip(df, column):\n",
    "  \"\"\"reads a DataFrame, calls fbi.filter_v{4,6} to get DataFrames with rows\n",
    "     containing only v4, v6 endpoints. Returns the two DataFrame as a tuple\"\"\"\n",
    "\n",
    "  dfv6 = fbi.filter_v6(df, column)\n",
    "  dfv4 = fbi.filter_v4(df, column)\n",
    "  return dfv4, dfv6"
   ]
  },
  {
   "cell_type": "code",
   "execution_count": 23,
   "metadata": {
    "collapsed": true
   },
   "outputs": [],
   "source": [
    "dfv4, dfv6 = filter_by_ip(df, column = 'video_address')"
   ]
  },
  {
   "cell_type": "code",
   "execution_count": 24,
   "metadata": {
    "collapsed": true
   },
   "outputs": [],
   "source": [
    "dfv4['name'] = dfv4['probe'].apply(lambda name: \"#%02d\"%int(name[7:]))\n",
    "dfv6['name'] = dfv6['probe'].apply(lambda name: \"#%02d\"%int(name[7:]))\n",
    "del dfv4['probe']; del dfv6['probe']"
   ]
  },
  {
   "cell_type": "code",
   "execution_count": 25,
   "metadata": {},
   "outputs": [
    {
     "data": {
      "text/html": [
       "<div>\n",
       "<style>\n",
       "    .dataframe thead tr:only-child th {\n",
       "        text-align: right;\n",
       "    }\n",
       "\n",
       "    .dataframe thead th {\n",
       "        text-align: left;\n",
       "    }\n",
       "\n",
       "    .dataframe tbody tr th {\n",
       "        vertical-align: top;\n",
       "    }\n",
       "</style>\n",
       "<table border=\"1\" class=\"dataframe\">\n",
       "  <thead>\n",
       "    <tr style=\"text-align: right;\">\n",
       "      <th></th>\n",
       "      <th>dtime</th>\n",
       "      <th>video_address</th>\n",
       "      <th>v_MB_sec</th>\n",
       "      <th>a_MB_sec</th>\n",
       "      <th>name</th>\n",
       "    </tr>\n",
       "  </thead>\n",
       "  <tbody>\n",
       "    <tr>\n",
       "      <th>3036654</th>\n",
       "      <td>2014-08-20 01:00:00</td>\n",
       "      <td>173.194.137.147</td>\n",
       "      <td>0.436291</td>\n",
       "      <td>0.077405</td>\n",
       "      <td>#24</td>\n",
       "    </tr>\n",
       "    <tr>\n",
       "      <th>3036655</th>\n",
       "      <td>2014-08-20 04:00:00</td>\n",
       "      <td>173.194.137.147</td>\n",
       "      <td>0.435716</td>\n",
       "      <td>0.079950</td>\n",
       "      <td>#24</td>\n",
       "    </tr>\n",
       "    <tr>\n",
       "      <th>3036656</th>\n",
       "      <td>2014-08-20 06:00:00</td>\n",
       "      <td>173.194.137.147</td>\n",
       "      <td>0.433892</td>\n",
       "      <td>0.079645</td>\n",
       "      <td>#24</td>\n",
       "    </tr>\n",
       "    <tr>\n",
       "      <th>3036657</th>\n",
       "      <td>2014-08-20 08:00:00</td>\n",
       "      <td>173.194.137.147</td>\n",
       "      <td>0.435616</td>\n",
       "      <td>0.079309</td>\n",
       "      <td>#24</td>\n",
       "    </tr>\n",
       "    <tr>\n",
       "      <th>3036658</th>\n",
       "      <td>2014-08-20 09:00:00</td>\n",
       "      <td>173.194.137.147</td>\n",
       "      <td>0.438210</td>\n",
       "      <td>0.080091</td>\n",
       "      <td>#24</td>\n",
       "    </tr>\n",
       "  </tbody>\n",
       "</table>\n",
       "</div>"
      ],
      "text/plain": [
       "                       dtime    video_address  v_MB_sec  a_MB_sec name\n",
       "3036654  2014-08-20 01:00:00  173.194.137.147  0.436291  0.077405  #24\n",
       "3036655  2014-08-20 04:00:00  173.194.137.147  0.435716  0.079950  #24\n",
       "3036656  2014-08-20 06:00:00  173.194.137.147  0.433892  0.079645  #24\n",
       "3036657  2014-08-20 08:00:00  173.194.137.147  0.435616  0.079309  #24\n",
       "3036658  2014-08-20 09:00:00  173.194.137.147  0.438210  0.080091  #24"
      ]
     },
     "execution_count": 25,
     "metadata": {},
     "output_type": "execute_result"
    }
   ],
   "source": [
    "dfv4.head()"
   ]
  },
  {
   "cell_type": "code",
   "execution_count": 26,
   "metadata": {},
   "outputs": [
    {
     "data": {
      "text/html": [
       "<div>\n",
       "<style>\n",
       "    .dataframe thead tr:only-child th {\n",
       "        text-align: right;\n",
       "    }\n",
       "\n",
       "    .dataframe thead th {\n",
       "        text-align: left;\n",
       "    }\n",
       "\n",
       "    .dataframe tbody tr th {\n",
       "        vertical-align: top;\n",
       "    }\n",
       "</style>\n",
       "<table border=\"1\" class=\"dataframe\">\n",
       "  <thead>\n",
       "    <tr style=\"text-align: right;\">\n",
       "      <th></th>\n",
       "      <th>dtime</th>\n",
       "      <th>video_address</th>\n",
       "      <th>v_MB_sec</th>\n",
       "      <th>a_MB_sec</th>\n",
       "      <th>name</th>\n",
       "    </tr>\n",
       "  </thead>\n",
       "  <tbody>\n",
       "    <tr>\n",
       "      <th>1053420</th>\n",
       "      <td>2014-08-21 13:00:00</td>\n",
       "      <td>2a00:1450:4009:36::e</td>\n",
       "      <td>0.017399</td>\n",
       "      <td>0.018577</td>\n",
       "      <td>#10</td>\n",
       "    </tr>\n",
       "    <tr>\n",
       "      <th>1775431</th>\n",
       "      <td>2014-08-21 13:00:00</td>\n",
       "      <td>2a00:1450:4009:36::e</td>\n",
       "      <td>0.018060</td>\n",
       "      <td>0.022757</td>\n",
       "      <td>#07</td>\n",
       "    </tr>\n",
       "    <tr>\n",
       "      <th>1775433</th>\n",
       "      <td>2014-08-21 14:00:00</td>\n",
       "      <td>2a00:1450:4009:36::e</td>\n",
       "      <td>0.023813</td>\n",
       "      <td>0.022521</td>\n",
       "      <td>#07</td>\n",
       "    </tr>\n",
       "    <tr>\n",
       "      <th>2196472</th>\n",
       "      <td>2014-08-21 14:00:00</td>\n",
       "      <td>2a02:c7a:8000:306::e</td>\n",
       "      <td>0.915850</td>\n",
       "      <td>0.058596</td>\n",
       "      <td>#05</td>\n",
       "    </tr>\n",
       "    <tr>\n",
       "      <th>1053422</th>\n",
       "      <td>2014-08-21 14:00:00</td>\n",
       "      <td>2a00:1450:4009:36::e</td>\n",
       "      <td>0.018871</td>\n",
       "      <td>0.017064</td>\n",
       "      <td>#10</td>\n",
       "    </tr>\n",
       "  </tbody>\n",
       "</table>\n",
       "</div>"
      ],
      "text/plain": [
       "                       dtime         video_address  v_MB_sec  a_MB_sec name\n",
       "1053420  2014-08-21 13:00:00  2a00:1450:4009:36::e  0.017399  0.018577  #10\n",
       "1775431  2014-08-21 13:00:00  2a00:1450:4009:36::e  0.018060  0.022757  #07\n",
       "1775433  2014-08-21 14:00:00  2a00:1450:4009:36::e  0.023813  0.022521  #07\n",
       "2196472  2014-08-21 14:00:00  2a02:c7a:8000:306::e  0.915850  0.058596  #05\n",
       "1053422  2014-08-21 14:00:00  2a00:1450:4009:36::e  0.018871  0.017064  #10"
      ]
     },
     "execution_count": 26,
     "metadata": {},
     "output_type": "execute_result"
    },
    {
     "name": "stdout",
     "output_type": "stream",
     "text": [
      "The history saving thread hit an unexpected error (OperationalError('database is locked',)).History will not be written to the database.\n"
     ]
    }
   ],
   "source": [
    "dfv6.head()"
   ]
  },
  {
   "cell_type": "code",
   "execution_count": 27,
   "metadata": {
    "collapsed": true
   },
   "outputs": [],
   "source": [
    "df = pd.merge(dfv4, dfv6, on=[\"name\", \"dtime\"])"
   ]
  },
  {
   "cell_type": "code",
   "execution_count": 28,
   "metadata": {},
   "outputs": [
    {
     "data": {
      "text/plain": [
       "dtime              6581885\n",
       "video_address_x    6581885\n",
       "v_MB_sec_x         6581885\n",
       "a_MB_sec_x         6581885\n",
       "name               6581885\n",
       "video_address_y    6581885\n",
       "v_MB_sec_y         6581885\n",
       "a_MB_sec_y         6581885\n",
       "dtype: int64"
      ]
     },
     "execution_count": 28,
     "metadata": {},
     "output_type": "execute_result"
    }
   ],
   "source": [
    "df.count()"
   ]
  },
  {
   "cell_type": "code",
   "execution_count": 29,
   "metadata": {},
   "outputs": [
    {
     "data": {
      "text/html": [
       "<div>\n",
       "<style>\n",
       "    .dataframe thead tr:only-child th {\n",
       "        text-align: right;\n",
       "    }\n",
       "\n",
       "    .dataframe thead th {\n",
       "        text-align: left;\n",
       "    }\n",
       "\n",
       "    .dataframe tbody tr th {\n",
       "        vertical-align: top;\n",
       "    }\n",
       "</style>\n",
       "<table border=\"1\" class=\"dataframe\">\n",
       "  <thead>\n",
       "    <tr style=\"text-align: right;\">\n",
       "      <th></th>\n",
       "      <th>dtime</th>\n",
       "      <th>video_address_x</th>\n",
       "      <th>v_MB_sec_x</th>\n",
       "      <th>a_MB_sec_x</th>\n",
       "      <th>name</th>\n",
       "      <th>video_address_y</th>\n",
       "      <th>v_MB_sec_y</th>\n",
       "      <th>a_MB_sec_y</th>\n",
       "    </tr>\n",
       "  </thead>\n",
       "  <tbody>\n",
       "    <tr>\n",
       "      <th>0</th>\n",
       "      <td>2014-08-21 13:00:00</td>\n",
       "      <td>173.194.13.78</td>\n",
       "      <td>0.899893</td>\n",
       "      <td>0.058582</td>\n",
       "      <td>#07</td>\n",
       "      <td>2a00:1450:4009:36::e</td>\n",
       "      <td>0.018060</td>\n",
       "      <td>0.022757</td>\n",
       "    </tr>\n",
       "    <tr>\n",
       "      <th>1</th>\n",
       "      <td>2014-08-21 13:00:00</td>\n",
       "      <td>173.194.3.78</td>\n",
       "      <td>0.995450</td>\n",
       "      <td>0.058147</td>\n",
       "      <td>#10</td>\n",
       "      <td>2a00:1450:4009:36::e</td>\n",
       "      <td>0.017399</td>\n",
       "      <td>0.018577</td>\n",
       "    </tr>\n",
       "    <tr>\n",
       "      <th>2</th>\n",
       "      <td>2014-08-21 14:00:00</td>\n",
       "      <td>2.127.252.206</td>\n",
       "      <td>0.923759</td>\n",
       "      <td>0.058353</td>\n",
       "      <td>#05</td>\n",
       "      <td>2a02:c7a:8000:306::e</td>\n",
       "      <td>0.915850</td>\n",
       "      <td>0.058596</td>\n",
       "    </tr>\n",
       "    <tr>\n",
       "      <th>3</th>\n",
       "      <td>2014-08-21 14:00:00</td>\n",
       "      <td>173.194.13.78</td>\n",
       "      <td>0.901196</td>\n",
       "      <td>0.058470</td>\n",
       "      <td>#07</td>\n",
       "      <td>2a00:1450:4009:36::e</td>\n",
       "      <td>0.023813</td>\n",
       "      <td>0.022521</td>\n",
       "    </tr>\n",
       "    <tr>\n",
       "      <th>4</th>\n",
       "      <td>2014-08-21 14:00:00</td>\n",
       "      <td>173.194.3.78</td>\n",
       "      <td>0.984295</td>\n",
       "      <td>0.057911</td>\n",
       "      <td>#10</td>\n",
       "      <td>2a00:1450:4009:36::e</td>\n",
       "      <td>0.018871</td>\n",
       "      <td>0.017064</td>\n",
       "    </tr>\n",
       "  </tbody>\n",
       "</table>\n",
       "</div>"
      ],
      "text/plain": [
       "                 dtime video_address_x  v_MB_sec_x  a_MB_sec_x name  \\\n",
       "0  2014-08-21 13:00:00   173.194.13.78    0.899893    0.058582  #07   \n",
       "1  2014-08-21 13:00:00    173.194.3.78    0.995450    0.058147  #10   \n",
       "2  2014-08-21 14:00:00   2.127.252.206    0.923759    0.058353  #05   \n",
       "3  2014-08-21 14:00:00   173.194.13.78    0.901196    0.058470  #07   \n",
       "4  2014-08-21 14:00:00    173.194.3.78    0.984295    0.057911  #10   \n",
       "\n",
       "        video_address_y  v_MB_sec_y  a_MB_sec_y  \n",
       "0  2a00:1450:4009:36::e    0.018060    0.022757  \n",
       "1  2a00:1450:4009:36::e    0.017399    0.018577  \n",
       "2  2a02:c7a:8000:306::e    0.915850    0.058596  \n",
       "3  2a00:1450:4009:36::e    0.023813    0.022521  \n",
       "4  2a00:1450:4009:36::e    0.018871    0.017064  "
      ]
     },
     "execution_count": 29,
     "metadata": {},
     "output_type": "execute_result"
    }
   ],
   "source": [
    "df.head()"
   ]
  },
  {
   "cell_type": "code",
   "execution_count": 30,
   "metadata": {
    "collapsed": true
   },
   "outputs": [],
   "source": [
    "df.rename(columns={  'video_address_x'      : 'video_ep_v4'\n",
    "                   , 'v_MB_sec_x'           : 'v_MB_sec_v4'\n",
    "                   , 'a_MB_sec_x'           : 'a_MB_sec_v4'                   \n",
    "                   , 'video_address_y'      : 'video_ep_v6'\n",
    "                   , 'v_MB_sec_y'           : 'v_MB_sec_v6'\n",
    "                   , 'a_MB_sec_y'           : 'a_MB_sec_v6'                                      \n",
    "                  } ,  inplace=True)"
   ]
  },
  {
   "cell_type": "code",
   "execution_count": 31,
   "metadata": {
    "collapsed": true
   },
   "outputs": [],
   "source": [
    "del df['video_ep_v4']; del df['video_ep_v6']"
   ]
  },
  {
   "cell_type": "code",
   "execution_count": 32,
   "metadata": {},
   "outputs": [
    {
     "data": {
      "text/html": [
       "<div>\n",
       "<style>\n",
       "    .dataframe thead tr:only-child th {\n",
       "        text-align: right;\n",
       "    }\n",
       "\n",
       "    .dataframe thead th {\n",
       "        text-align: left;\n",
       "    }\n",
       "\n",
       "    .dataframe tbody tr th {\n",
       "        vertical-align: top;\n",
       "    }\n",
       "</style>\n",
       "<table border=\"1\" class=\"dataframe\">\n",
       "  <thead>\n",
       "    <tr style=\"text-align: right;\">\n",
       "      <th></th>\n",
       "      <th>dtime</th>\n",
       "      <th>v_MB_sec_v4</th>\n",
       "      <th>a_MB_sec_v4</th>\n",
       "      <th>name</th>\n",
       "      <th>v_MB_sec_v6</th>\n",
       "      <th>a_MB_sec_v6</th>\n",
       "    </tr>\n",
       "  </thead>\n",
       "  <tbody>\n",
       "    <tr>\n",
       "      <th>0</th>\n",
       "      <td>2014-08-21 13:00:00</td>\n",
       "      <td>0.899893</td>\n",
       "      <td>0.058582</td>\n",
       "      <td>#07</td>\n",
       "      <td>0.018060</td>\n",
       "      <td>0.022757</td>\n",
       "    </tr>\n",
       "    <tr>\n",
       "      <th>1</th>\n",
       "      <td>2014-08-21 13:00:00</td>\n",
       "      <td>0.995450</td>\n",
       "      <td>0.058147</td>\n",
       "      <td>#10</td>\n",
       "      <td>0.017399</td>\n",
       "      <td>0.018577</td>\n",
       "    </tr>\n",
       "    <tr>\n",
       "      <th>2</th>\n",
       "      <td>2014-08-21 14:00:00</td>\n",
       "      <td>0.923759</td>\n",
       "      <td>0.058353</td>\n",
       "      <td>#05</td>\n",
       "      <td>0.915850</td>\n",
       "      <td>0.058596</td>\n",
       "    </tr>\n",
       "    <tr>\n",
       "      <th>3</th>\n",
       "      <td>2014-08-21 14:00:00</td>\n",
       "      <td>0.901196</td>\n",
       "      <td>0.058470</td>\n",
       "      <td>#07</td>\n",
       "      <td>0.023813</td>\n",
       "      <td>0.022521</td>\n",
       "    </tr>\n",
       "    <tr>\n",
       "      <th>4</th>\n",
       "      <td>2014-08-21 14:00:00</td>\n",
       "      <td>0.984295</td>\n",
       "      <td>0.057911</td>\n",
       "      <td>#10</td>\n",
       "      <td>0.018871</td>\n",
       "      <td>0.017064</td>\n",
       "    </tr>\n",
       "  </tbody>\n",
       "</table>\n",
       "</div>"
      ],
      "text/plain": [
       "                 dtime  v_MB_sec_v4  a_MB_sec_v4 name  v_MB_sec_v6  \\\n",
       "0  2014-08-21 13:00:00     0.899893     0.058582  #07     0.018060   \n",
       "1  2014-08-21 13:00:00     0.995450     0.058147  #10     0.017399   \n",
       "2  2014-08-21 14:00:00     0.923759     0.058353  #05     0.915850   \n",
       "3  2014-08-21 14:00:00     0.901196     0.058470  #07     0.023813   \n",
       "4  2014-08-21 14:00:00     0.984295     0.057911  #10     0.018871   \n",
       "\n",
       "   a_MB_sec_v6  \n",
       "0     0.022757  \n",
       "1     0.018577  \n",
       "2     0.058596  \n",
       "3     0.022521  \n",
       "4     0.017064  "
      ]
     },
     "execution_count": 32,
     "metadata": {},
     "output_type": "execute_result"
    }
   ],
   "source": [
    "df.head()"
   ]
  },
  {
   "cell_type": "code",
   "execution_count": 33,
   "metadata": {},
   "outputs": [
    {
     "data": {
      "text/html": [
       "<div>\n",
       "<style>\n",
       "    .dataframe thead tr:only-child th {\n",
       "        text-align: right;\n",
       "    }\n",
       "\n",
       "    .dataframe thead th {\n",
       "        text-align: left;\n",
       "    }\n",
       "\n",
       "    .dataframe tbody tr th {\n",
       "        vertical-align: top;\n",
       "    }\n",
       "</style>\n",
       "<table border=\"1\" class=\"dataframe\">\n",
       "  <thead>\n",
       "    <tr style=\"text-align: right;\">\n",
       "      <th></th>\n",
       "      <th>dtime</th>\n",
       "      <th>v_MB_sec_v4</th>\n",
       "      <th>a_MB_sec_v4</th>\n",
       "      <th>name</th>\n",
       "      <th>v_MB_sec_v6</th>\n",
       "      <th>a_MB_sec_v6</th>\n",
       "    </tr>\n",
       "  </thead>\n",
       "  <tbody>\n",
       "    <tr>\n",
       "      <th>6581880</th>\n",
       "      <td>2017-06-27 23:00:00</td>\n",
       "      <td>0.934583</td>\n",
       "      <td>0.560267</td>\n",
       "      <td>#85</td>\n",
       "      <td>0.946038</td>\n",
       "      <td>0.565170</td>\n",
       "    </tr>\n",
       "    <tr>\n",
       "      <th>6581881</th>\n",
       "      <td>2017-06-27 23:00:00</td>\n",
       "      <td>0.742577</td>\n",
       "      <td>0.374588</td>\n",
       "      <td>#17</td>\n",
       "      <td>0.722433</td>\n",
       "      <td>0.318105</td>\n",
       "    </tr>\n",
       "    <tr>\n",
       "      <th>6581882</th>\n",
       "      <td>2017-06-27 23:00:00</td>\n",
       "      <td>0.763723</td>\n",
       "      <td>0.541965</td>\n",
       "      <td>#14</td>\n",
       "      <td>0.761852</td>\n",
       "      <td>0.522307</td>\n",
       "    </tr>\n",
       "    <tr>\n",
       "      <th>6581883</th>\n",
       "      <td>2017-06-27 23:00:00</td>\n",
       "      <td>0.899220</td>\n",
       "      <td>0.541737</td>\n",
       "      <td>#63</td>\n",
       "      <td>0.894917</td>\n",
       "      <td>0.598739</td>\n",
       "    </tr>\n",
       "    <tr>\n",
       "      <th>6581884</th>\n",
       "      <td>2017-06-27 23:00:00</td>\n",
       "      <td>0.774811</td>\n",
       "      <td>0.533526</td>\n",
       "      <td>#30</td>\n",
       "      <td>0.765129</td>\n",
       "      <td>0.470574</td>\n",
       "    </tr>\n",
       "  </tbody>\n",
       "</table>\n",
       "</div>"
      ],
      "text/plain": [
       "                       dtime  v_MB_sec_v4  a_MB_sec_v4 name  v_MB_sec_v6  \\\n",
       "6581880  2017-06-27 23:00:00     0.934583     0.560267  #85     0.946038   \n",
       "6581881  2017-06-27 23:00:00     0.742577     0.374588  #17     0.722433   \n",
       "6581882  2017-06-27 23:00:00     0.763723     0.541965  #14     0.761852   \n",
       "6581883  2017-06-27 23:00:00     0.899220     0.541737  #63     0.894917   \n",
       "6581884  2017-06-27 23:00:00     0.774811     0.533526  #30     0.765129   \n",
       "\n",
       "         a_MB_sec_v6  \n",
       "6581880     0.565170  \n",
       "6581881     0.318105  \n",
       "6581882     0.522307  \n",
       "6581883     0.598739  \n",
       "6581884     0.470574  "
      ]
     },
     "execution_count": 33,
     "metadata": {},
     "output_type": "execute_result"
    }
   ],
   "source": [
    "df.tail()"
   ]
  },
  {
   "cell_type": "code",
   "execution_count": 34,
   "metadata": {},
   "outputs": [
    {
     "data": {
      "text/plain": [
       "dtime          6581885\n",
       "v_MB_sec_v4    6581885\n",
       "a_MB_sec_v4    6581885\n",
       "name           6581885\n",
       "v_MB_sec_v6    6581885\n",
       "a_MB_sec_v6    6581885\n",
       "dtype: int64"
      ]
     },
     "execution_count": 34,
     "metadata": {},
     "output_type": "execute_result"
    }
   ],
   "source": [
    "df.count()"
   ]
  },
  {
   "cell_type": "code",
   "execution_count": 35,
   "metadata": {
    "collapsed": true
   },
   "outputs": [],
   "source": [
    "df['v4v6_v_MB_sec'] = df.v_MB_sec_v4.map(str) + ',' + df.v_MB_sec_v6.map(str)\n",
    "df['v4v6_a_MB_sec'] = df.a_MB_sec_v4.map(str) + ',' + df.a_MB_sec_v6.map(str)"
   ]
  },
  {
   "cell_type": "code",
   "execution_count": 36,
   "metadata": {},
   "outputs": [
    {
     "data": {
      "text/plain": [
       "dtime            6581885\n",
       "v_MB_sec_v4      6581885\n",
       "a_MB_sec_v4      6581885\n",
       "name             6581885\n",
       "v_MB_sec_v6      6581885\n",
       "a_MB_sec_v6      6581885\n",
       "v4v6_v_MB_sec    6581885\n",
       "v4v6_a_MB_sec    6581885\n",
       "dtype: int64"
      ]
     },
     "execution_count": 36,
     "metadata": {},
     "output_type": "execute_result"
    }
   ],
   "source": [
    "df.count()"
   ]
  },
  {
   "cell_type": "markdown",
   "metadata": {},
   "source": [
    "### Calculate Absolute Difference"
   ]
  },
  {
   "cell_type": "code",
   "execution_count": 37,
   "metadata": {
    "collapsed": true
   },
   "outputs": [],
   "source": [
    "def get_difference(v4v6_throughput):\n",
    "    \n",
    "    v4, v6 = v4v6_throughput.split(',')\n",
    "    try: v4 = float(v4); v6 = float(v6)\n",
    "    except Exception as e: print(e, v4v6_throughput)\n",
    "    \n",
    "    difference = (v6 - v4) \n",
    "    return float('%0.2f'%difference)\n",
    "\n",
    "df['v_MB_sec_a'] = df['v4v6_v_MB_sec'].apply(get_difference)\n",
    "df['a_MB_sec_a'] = df['v4v6_a_MB_sec'].apply(get_difference)"
   ]
  },
  {
   "cell_type": "markdown",
   "metadata": {},
   "source": [
    "### Calculate Relative Difference"
   ]
  },
  {
   "cell_type": "code",
   "execution_count": 38,
   "metadata": {
    "collapsed": true
   },
   "outputs": [],
   "source": [
    "def get_slowness(v4v6_throughput):\n",
    "    \n",
    "    v4, v6 = v4v6_throughput.split(',')\n",
    "    try: v4 = float(v4); v6 = float(v6)\n",
    "    except Exception as e: print(e, v4v6_throughput)\n",
    "    \n",
    "    try: slowness = (v6 - v4) / v4\n",
    "    except Exception as e: return 0\n",
    "    return float('%0.2f'%slowness)\n",
    "\n",
    "df['v_MB_sec_r'] = df['v4v6_v_MB_sec'].apply(get_slowness)\n",
    "df['a_MB_sec_r'] = df['v4v6_a_MB_sec'].apply(get_slowness)"
   ]
  },
  {
   "cell_type": "code",
   "execution_count": 39,
   "metadata": {
    "collapsed": true
   },
   "outputs": [],
   "source": [
    "del df['v4v6_a_MB_sec']; del df['v4v6_v_MB_sec']"
   ]
  },
  {
   "cell_type": "code",
   "execution_count": 40,
   "metadata": {},
   "outputs": [
    {
     "data": {
      "text/html": [
       "<div>\n",
       "<style>\n",
       "    .dataframe thead tr:only-child th {\n",
       "        text-align: right;\n",
       "    }\n",
       "\n",
       "    .dataframe thead th {\n",
       "        text-align: left;\n",
       "    }\n",
       "\n",
       "    .dataframe tbody tr th {\n",
       "        vertical-align: top;\n",
       "    }\n",
       "</style>\n",
       "<table border=\"1\" class=\"dataframe\">\n",
       "  <thead>\n",
       "    <tr style=\"text-align: right;\">\n",
       "      <th></th>\n",
       "      <th>dtime</th>\n",
       "      <th>v_MB_sec_v4</th>\n",
       "      <th>a_MB_sec_v4</th>\n",
       "      <th>name</th>\n",
       "      <th>v_MB_sec_v6</th>\n",
       "      <th>a_MB_sec_v6</th>\n",
       "      <th>v_MB_sec_a</th>\n",
       "      <th>a_MB_sec_a</th>\n",
       "      <th>v_MB_sec_r</th>\n",
       "      <th>a_MB_sec_r</th>\n",
       "    </tr>\n",
       "  </thead>\n",
       "  <tbody>\n",
       "    <tr>\n",
       "      <th>0</th>\n",
       "      <td>2014-08-21 13:00:00</td>\n",
       "      <td>0.899893</td>\n",
       "      <td>0.058582</td>\n",
       "      <td>#07</td>\n",
       "      <td>0.018060</td>\n",
       "      <td>0.022757</td>\n",
       "      <td>-0.88</td>\n",
       "      <td>-0.04</td>\n",
       "      <td>-0.98</td>\n",
       "      <td>-0.61</td>\n",
       "    </tr>\n",
       "    <tr>\n",
       "      <th>1</th>\n",
       "      <td>2014-08-21 13:00:00</td>\n",
       "      <td>0.995450</td>\n",
       "      <td>0.058147</td>\n",
       "      <td>#10</td>\n",
       "      <td>0.017399</td>\n",
       "      <td>0.018577</td>\n",
       "      <td>-0.98</td>\n",
       "      <td>-0.04</td>\n",
       "      <td>-0.98</td>\n",
       "      <td>-0.68</td>\n",
       "    </tr>\n",
       "    <tr>\n",
       "      <th>2</th>\n",
       "      <td>2014-08-21 14:00:00</td>\n",
       "      <td>0.923759</td>\n",
       "      <td>0.058353</td>\n",
       "      <td>#05</td>\n",
       "      <td>0.915850</td>\n",
       "      <td>0.058596</td>\n",
       "      <td>-0.01</td>\n",
       "      <td>0.00</td>\n",
       "      <td>-0.01</td>\n",
       "      <td>0.00</td>\n",
       "    </tr>\n",
       "    <tr>\n",
       "      <th>3</th>\n",
       "      <td>2014-08-21 14:00:00</td>\n",
       "      <td>0.901196</td>\n",
       "      <td>0.058470</td>\n",
       "      <td>#07</td>\n",
       "      <td>0.023813</td>\n",
       "      <td>0.022521</td>\n",
       "      <td>-0.88</td>\n",
       "      <td>-0.04</td>\n",
       "      <td>-0.97</td>\n",
       "      <td>-0.61</td>\n",
       "    </tr>\n",
       "    <tr>\n",
       "      <th>4</th>\n",
       "      <td>2014-08-21 14:00:00</td>\n",
       "      <td>0.984295</td>\n",
       "      <td>0.057911</td>\n",
       "      <td>#10</td>\n",
       "      <td>0.018871</td>\n",
       "      <td>0.017064</td>\n",
       "      <td>-0.97</td>\n",
       "      <td>-0.04</td>\n",
       "      <td>-0.98</td>\n",
       "      <td>-0.71</td>\n",
       "    </tr>\n",
       "  </tbody>\n",
       "</table>\n",
       "</div>"
      ],
      "text/plain": [
       "                 dtime  v_MB_sec_v4  a_MB_sec_v4 name  v_MB_sec_v6  \\\n",
       "0  2014-08-21 13:00:00     0.899893     0.058582  #07     0.018060   \n",
       "1  2014-08-21 13:00:00     0.995450     0.058147  #10     0.017399   \n",
       "2  2014-08-21 14:00:00     0.923759     0.058353  #05     0.915850   \n",
       "3  2014-08-21 14:00:00     0.901196     0.058470  #07     0.023813   \n",
       "4  2014-08-21 14:00:00     0.984295     0.057911  #10     0.018871   \n",
       "\n",
       "   a_MB_sec_v6  v_MB_sec_a  a_MB_sec_a  v_MB_sec_r  a_MB_sec_r  \n",
       "0     0.022757       -0.88       -0.04       -0.98       -0.61  \n",
       "1     0.018577       -0.98       -0.04       -0.98       -0.68  \n",
       "2     0.058596       -0.01        0.00       -0.01        0.00  \n",
       "3     0.022521       -0.88       -0.04       -0.97       -0.61  \n",
       "4     0.017064       -0.97       -0.04       -0.98       -0.71  "
      ]
     },
     "execution_count": 40,
     "metadata": {},
     "output_type": "execute_result"
    }
   ],
   "source": [
    "df.head()"
   ]
  },
  {
   "cell_type": "code",
   "execution_count": 41,
   "metadata": {},
   "outputs": [
    {
     "data": {
      "text/plain": [
       "dtime          6581885\n",
       "v_MB_sec_v4    6581885\n",
       "a_MB_sec_v4    6581885\n",
       "name           6581885\n",
       "v_MB_sec_v6    6581885\n",
       "a_MB_sec_v6    6581885\n",
       "v_MB_sec_a     6581885\n",
       "a_MB_sec_a     6581885\n",
       "v_MB_sec_r     6581885\n",
       "a_MB_sec_r     6581885\n",
       "dtype: int64"
      ]
     },
     "execution_count": 41,
     "metadata": {},
     "output_type": "execute_result"
    }
   ],
   "source": [
    "df.count()"
   ]
  },
  {
   "cell_type": "code",
   "execution_count": 42,
   "metadata": {
    "collapsed": true
   },
   "outputs": [],
   "source": [
    "import Cdf\n",
    "import Pmf\n",
    "\n",
    "sample = df['v_MB_sec_a'].values\n",
    "c_v      = Cdf.MakeCdfFromList(sample)\n",
    "cc_v     = [1 - p for x, p in c_v.Items()]\n",
    "\n",
    "sample = df['a_MB_sec_a'].values\n",
    "c_a      = Cdf.MakeCdfFromList(sample)\n",
    "cc_a     = [1 - p for x, p in c_a.Items()]"
   ]
  },
  {
   "cell_type": "code",
   "execution_count": 50,
   "metadata": {},
   "outputs": [
    {
     "data": {
      "image/png": "[encoded data removed]",
      "text/plain": [
       "<matplotlib.figure.Figure at 0x7f79f883c2e8>"
      ]
     },
     "metadata": {},
     "output_type": "display_data"
    }
   ],
   "source": [
    "fig = plt.figure(figsize = (5,1.5))\n",
    "plt.rcParams['font.size'] = 12\n",
    "ax = plt.gca()\n",
    "yticks = np.arange(0,1.1,0.2)\n",
    "\n",
    "plt.plot(c_v.xs, c_v.ps, marker='s', linewidth=0.3, markersize=5, fillstyle='none', color = 'Cyan')\n",
    "plt.plot(c_a.xs, c_a.ps, marker='x', linewidth=0.3, markersize=5, fillstyle='none', color = 'Magenta')\n",
    "\n",
    "ax = fig.axes[0]\n",
    "ax.grid(False)\n",
    "ax.set_yticks(yticks)\n",
    "ax.set_ylim([0,1.05])\n",
    "ax.set_xlim([-5,5])\n",
    "ax.set_xscale('linear')\n",
    "ax.set_xlabel('∆tp (MB/s)', fontsize=12)\n",
    "ax.set_ylabel('CDF', fontsize=12)\n",
    "\n",
    "plt.legend([\"Video (6.5M)\", \"Audio (6.5M)\"], fontsize=11, loc='upper left')\n",
    "\n",
    "ax.spines['right'].set_color('none')\n",
    "ax.spines['top'].set_color('none')\n",
    "ax.yaxis.set_ticks_position('left')\n",
    "ax.xaxis.set_ticks_position('bottom')\n",
    "ax.spines['bottom'].set_position(('axes', -0.05))\n",
    "ax.spines['left'].set_position(('axes', -0.05))\n",
    "\n",
    "ax3 = ax.twinx()\n",
    "ax3.spines['right'].set_color('none')\n",
    "ax3.spines['top'].set_color('none')\n",
    "ax3.spines['left'].set_color('none')\n",
    "ax3.spines['bottom'].set_color('none')\n",
    "ax3.yaxis.set_ticks_position('none')\n",
    "ax3.set_ylabel('[\\'14 - \\'17]')\n",
    "plt.setp(ax3.get_yticklabels(), visible=False)\n",
    "\n",
    "plt.title('Throughput', fontsize=12, y=1.05)\n",
    "plt.savefig('yt-throughput-difference.pdf', format='pdf', bbox_inches='tight')"
   ]
  },
  {
   "cell_type": "markdown",
   "metadata": {},
   "source": [
    "### CDF of absolute difference of throughput between IPv4 and IPv6 over the entire duration. 20% of the video samples achieve higher throughput over IPv6 with 5% of them being achieving more than 1MB/s higher throughput. On the contrary, 9% achieve lower than 1MB/s throughput over IPv6. Similarly 35% of the audio samples achieve higher throughput over IPv6 with 4% of them achieving more than 1MB/s higher throughput. On the contrary, 7% achieve lower than 1MB/s throughput over IPv6. "
   ]
  },
  {
   "cell_type": "code",
   "execution_count": 44,
   "metadata": {
    "collapsed": true
   },
   "outputs": [],
   "source": [
    "with open('throughput-video.csv', 'w') as f: \n",
    "    f.write('values; percentile\\n')\n",
    "    for x, y in zip(c_v.xs, c_v.ps): f.write('%.2f; %.2f\\n'%(x,y))\n",
    "        \n",
    "with open('throughput-audio.csv', 'w') as f: \n",
    "    f.write('values; percentile\\n')\n",
    "    for x, y in zip(c_a.xs, c_a.ps): f.write('%.2f; %.2f\\n'%(x,y))        "
   ]
  }
 ],
 "metadata": {
  "kernelspec": {
   "display_name": "Python 3",
   "language": "python",
   "name": "python3"
  },
  "language_info": {
   "codemirror_mode": {
    "name": "ipython",
    "version": 3
   },
   "file_extension": ".py",
   "mimetype": "text/x-python",
   "name": "python",
   "nbconvert_exporter": "python",
   "pygments_lexer": "ipython3",
   "version": "3.5.3"
  }
 },
 "nbformat": 4,
 "nbformat_minor": 1
}
