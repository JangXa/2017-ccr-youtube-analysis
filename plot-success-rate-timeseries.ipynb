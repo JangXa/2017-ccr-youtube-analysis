{
 "cells": [
  {
   "cell_type": "code",
   "execution_count": 1,
   "metadata": {
    "collapsed": true
   },
   "outputs": [],
   "source": [
    "import sqlite3\n",
    "import pandas as pd\n",
    "import requests\n",
    "import asinfo\n",
    "import matplotlib.dates as dates\n",
    "\n",
    "from datetime import datetime as dt\n",
    "import filterbyip as fbi\n",
    "import clusterbycolumn as cbc"
   ]
  },
  {
   "cell_type": "code",
   "execution_count": 2,
   "metadata": {},
   "outputs": [
    {
     "name": "stdout",
     "output_type": "stream",
     "text": [
      "Populating the interactive namespace from numpy and matplotlib\n"
     ]
    }
   ],
   "source": [
    "import warnings\n",
    "warnings.filterwarnings('ignore')\n",
    "\n",
    "%pylab inline"
   ]
  },
  {
   "cell_type": "code",
   "execution_count": 3,
   "metadata": {},
   "outputs": [
    {
     "data": {
      "text/html": [
       "<style>body {\n",
       "    margin: 0;\n",
       "    font-family: Helvetica;\n",
       "}\n",
       "table.dataframe {\n",
       "    border-collapse: collapse;\n",
       "    border: none;\n",
       "}\n",
       "table.dataframe tr {\n",
       "    border: none;\n",
       "}\n",
       "table.dataframe td, table.dataframe th {\n",
       "    margin: 0;\n",
       "    border: 1px solid white;\n",
       "    padding-left: 0.25em;\n",
       "    padding-right: 0.25em;\n",
       "}\n",
       "table.dataframe th:not(:empty) {\n",
       "    background-color: #fec;\n",
       "    text-align: left;\n",
       "    font-weight: normal;\n",
       "}\n",
       "table.dataframe tr:nth-child(2) th:empty {\n",
       "    border-left: none;\n",
       "    border-right: 1px dashed #888;\n",
       "}\n",
       "table.dataframe td {\n",
       "    border: 2px solid #ccf;\n",
       "    background-color: #f4f4ff;\n",
       "}\n",
       "h3 {\n",
       "    color: white;\n",
       "    background-color: black;\n",
       "    padding: 0.5em;\n",
       "}\n",
       "\n",
       ".CodeMirror {\n",
       "    font-family: 'Monaco for Powerline';\n",
       "}\n",
       "\n",
       "div.cell.code_cell {\n",
       "    font-family: 'Monaco for Powerline';\n",
       "}\n",
       "\n",
       "div.output_area pre {\n",
       "    font-family: 'Monaco for Powerline';\n",
       "}\n",
       "</style>"
      ],
      "text/plain": [
       "<IPython.core.display.HTML object>"
      ]
     },
     "execution_count": 3,
     "metadata": {},
     "output_type": "execute_result"
    }
   ],
   "source": [
    "from IPython.core.display import HTML\n",
    "css = open('style-table.css').read() + open('style-notebook.css').read()\n",
    "HTML('<style>{}</style>'.format(css))"
   ]
  },
  {
   "cell_type": "code",
   "execution_count": 4,
   "metadata": {
    "collapsed": true
   },
   "outputs": [],
   "source": [
    "def asn_from_probe_name(probe_name):\n",
    "    base = 'http://leone-collector.eecs.jacobs-university.de/msmpoint'\n",
    "    msm_metadata = requests.get('%s/%s'%(base, probe_name))\n",
    "    asn4 = str(msm_metadata.json()['asn4'])\n",
    "    asn6 = str(msm_metadata.json()['asn6'])\n",
    "    return asn4,asn6"
   ]
  },
  {
   "cell_type": "code",
   "execution_count": 5,
   "metadata": {
    "collapsed": true
   },
   "outputs": [],
   "source": [
    "dailydb_location = '/data/vbajpai/datasets/youtube-data-collection-python3/youtube.db'"
   ]
  },
  {
   "cell_type": "markdown",
   "metadata": {},
   "source": [
    "### The failures mostly happen due to stall (607) or when the test completes too fast (608)"
   ]
  },
  {
   "cell_type": "code",
   "execution_count": 6,
   "metadata": {
    "collapsed": true
   },
   "outputs": [],
   "source": [
    "query = '''select   msmpoint.name as probe\n",
    "                  , dtime\n",
    "                  , video_address\n",
    "                  , video_id\n",
    "                  , successes\n",
    "                  , failures\n",
    "           from youtube, msmpoint\n",
    "           where youtube.unit_id = msmpoint.skunitid\n",
    "           and msmpoint.skunitid <> ''\n",
    "        --   and error_code <> 607       -- stall happened\n",
    "        --   and error_code <> 608       -- test completed too fast\n",
    "           order by dtime DESC\n",
    "        '''"
   ]
  },
  {
   "cell_type": "code",
   "execution_count": 7,
   "metadata": {
    "collapsed": true
   },
   "outputs": [],
   "source": [
    "con = sqlite3.connect(dailydb_location)\n",
    "df = pd.read_sql(query, con)"
   ]
  },
  {
   "cell_type": "code",
   "execution_count": 8,
   "metadata": {},
   "outputs": [
    {
     "data": {
      "text/html": [
       "<div>\n",
       "<style>\n",
       "    .dataframe thead tr:only-child th {\n",
       "        text-align: right;\n",
       "    }\n",
       "\n",
       "    .dataframe thead th {\n",
       "        text-align: left;\n",
       "    }\n",
       "\n",
       "    .dataframe tbody tr th {\n",
       "        vertical-align: top;\n",
       "    }\n",
       "</style>\n",
       "<table border=\"1\" class=\"dataframe\">\n",
       "  <thead>\n",
       "    <tr style=\"text-align: right;\">\n",
       "      <th></th>\n",
       "      <th>probe</th>\n",
       "      <th>dtime</th>\n",
       "      <th>video_address</th>\n",
       "      <th>video_id</th>\n",
       "      <th>successes</th>\n",
       "      <th>failures</th>\n",
       "    </tr>\n",
       "  </thead>\n",
       "  <tbody>\n",
       "    <tr>\n",
       "      <th>0</th>\n",
       "      <td>samsbox08</td>\n",
       "      <td>2017-06-27 23:37:44</td>\n",
       "      <td>2001:b30:ef00:99ca::c</td>\n",
       "      <td>qzlGB3eOjlU</td>\n",
       "      <td>1</td>\n",
       "      <td>0</td>\n",
       "    </tr>\n",
       "    <tr>\n",
       "      <th>1</th>\n",
       "      <td>samsbox08</td>\n",
       "      <td>2017-06-27 23:36:40</td>\n",
       "      <td>195.95.178.204</td>\n",
       "      <td>qzlGB3eOjlU</td>\n",
       "      <td>1</td>\n",
       "      <td>0</td>\n",
       "    </tr>\n",
       "    <tr>\n",
       "      <th>2</th>\n",
       "      <td>samsbox45</td>\n",
       "      <td>2017-06-27 23:36:12</td>\n",
       "      <td>None</td>\n",
       "      <td>qzlGB3eOjlU</td>\n",
       "      <td>0</td>\n",
       "      <td>1</td>\n",
       "    </tr>\n",
       "    <tr>\n",
       "      <th>3</th>\n",
       "      <td>samsbox03</td>\n",
       "      <td>2017-06-27 23:36:00</td>\n",
       "      <td>2001:1a80:801::c</td>\n",
       "      <td>qzlGB3eOjlU</td>\n",
       "      <td>1</td>\n",
       "      <td>0</td>\n",
       "    </tr>\n",
       "    <tr>\n",
       "      <th>4</th>\n",
       "      <td>samsbox45</td>\n",
       "      <td>2017-06-27 23:35:09</td>\n",
       "      <td>173.194.20.202</td>\n",
       "      <td>qzlGB3eOjlU</td>\n",
       "      <td>1</td>\n",
       "      <td>0</td>\n",
       "    </tr>\n",
       "  </tbody>\n",
       "</table>\n",
       "</div>"
      ],
      "text/plain": [
       "       probe                dtime          video_address     video_id  \\\n",
       "0  samsbox08  2017-06-27 23:37:44  2001:b30:ef00:99ca::c  qzlGB3eOjlU   \n",
       "1  samsbox08  2017-06-27 23:36:40         195.95.178.204  qzlGB3eOjlU   \n",
       "2  samsbox45  2017-06-27 23:36:12                   None  qzlGB3eOjlU   \n",
       "3  samsbox03  2017-06-27 23:36:00       2001:1a80:801::c  qzlGB3eOjlU   \n",
       "4  samsbox45  2017-06-27 23:35:09         173.194.20.202  qzlGB3eOjlU   \n",
       "\n",
       "   successes  failures  \n",
       "0          1         0  \n",
       "1          1         0  \n",
       "2          0         1  \n",
       "3          1         0  \n",
       "4          1         0  "
      ]
     },
     "execution_count": 8,
     "metadata": {},
     "output_type": "execute_result"
    }
   ],
   "source": [
    "df.head()"
   ]
  },
  {
   "cell_type": "code",
   "execution_count": 9,
   "metadata": {
    "collapsed": true
   },
   "outputs": [],
   "source": [
    "num_probes = len(set(df['probe']))"
   ]
  },
  {
   "cell_type": "code",
   "execution_count": 10,
   "metadata": {
    "collapsed": true
   },
   "outputs": [],
   "source": [
    "def round_time_to_day(dtime):\n",
    "    import datetime;    \n",
    "    d = datetime.datetime.strptime(dtime, \"%Y-%m-%d %H:%M:%S\")\n",
    "    d = d.replace(hour=0, minute=0, second=0)\n",
    "    dtime = d.strftime('%Y-%m-%d')\n",
    "    return dtime"
   ]
  },
  {
   "cell_type": "code",
   "execution_count": 11,
   "metadata": {
    "collapsed": true
   },
   "outputs": [],
   "source": [
    "df['dtime'] = df['dtime'].apply(round_time_to_day)"
   ]
  },
  {
   "cell_type": "code",
   "execution_count": 12,
   "metadata": {},
   "outputs": [
    {
     "data": {
      "text/html": [
       "<div>\n",
       "<style>\n",
       "    .dataframe thead tr:only-child th {\n",
       "        text-align: right;\n",
       "    }\n",
       "\n",
       "    .dataframe thead th {\n",
       "        text-align: left;\n",
       "    }\n",
       "\n",
       "    .dataframe tbody tr th {\n",
       "        vertical-align: top;\n",
       "    }\n",
       "</style>\n",
       "<table border=\"1\" class=\"dataframe\">\n",
       "  <thead>\n",
       "    <tr style=\"text-align: right;\">\n",
       "      <th></th>\n",
       "      <th>probe</th>\n",
       "      <th>dtime</th>\n",
       "      <th>video_address</th>\n",
       "      <th>video_id</th>\n",
       "      <th>successes</th>\n",
       "      <th>failures</th>\n",
       "    </tr>\n",
       "  </thead>\n",
       "  <tbody>\n",
       "    <tr>\n",
       "      <th>0</th>\n",
       "      <td>samsbox08</td>\n",
       "      <td>2017-06-27</td>\n",
       "      <td>2001:b30:ef00:99ca::c</td>\n",
       "      <td>qzlGB3eOjlU</td>\n",
       "      <td>1</td>\n",
       "      <td>0</td>\n",
       "    </tr>\n",
       "    <tr>\n",
       "      <th>1</th>\n",
       "      <td>samsbox08</td>\n",
       "      <td>2017-06-27</td>\n",
       "      <td>195.95.178.204</td>\n",
       "      <td>qzlGB3eOjlU</td>\n",
       "      <td>1</td>\n",
       "      <td>0</td>\n",
       "    </tr>\n",
       "    <tr>\n",
       "      <th>2</th>\n",
       "      <td>samsbox45</td>\n",
       "      <td>2017-06-27</td>\n",
       "      <td>None</td>\n",
       "      <td>qzlGB3eOjlU</td>\n",
       "      <td>0</td>\n",
       "      <td>1</td>\n",
       "    </tr>\n",
       "    <tr>\n",
       "      <th>3</th>\n",
       "      <td>samsbox03</td>\n",
       "      <td>2017-06-27</td>\n",
       "      <td>2001:1a80:801::c</td>\n",
       "      <td>qzlGB3eOjlU</td>\n",
       "      <td>1</td>\n",
       "      <td>0</td>\n",
       "    </tr>\n",
       "    <tr>\n",
       "      <th>4</th>\n",
       "      <td>samsbox45</td>\n",
       "      <td>2017-06-27</td>\n",
       "      <td>173.194.20.202</td>\n",
       "      <td>qzlGB3eOjlU</td>\n",
       "      <td>1</td>\n",
       "      <td>0</td>\n",
       "    </tr>\n",
       "  </tbody>\n",
       "</table>\n",
       "</div>"
      ],
      "text/plain": [
       "       probe       dtime          video_address     video_id  successes  \\\n",
       "0  samsbox08  2017-06-27  2001:b30:ef00:99ca::c  qzlGB3eOjlU          1   \n",
       "1  samsbox08  2017-06-27         195.95.178.204  qzlGB3eOjlU          1   \n",
       "2  samsbox45  2017-06-27                   None  qzlGB3eOjlU          0   \n",
       "3  samsbox03  2017-06-27       2001:1a80:801::c  qzlGB3eOjlU          1   \n",
       "4  samsbox45  2017-06-27         173.194.20.202  qzlGB3eOjlU          1   \n",
       "\n",
       "   failures  \n",
       "0         0  \n",
       "1         0  \n",
       "2         1  \n",
       "3         0  \n",
       "4         0  "
      ]
     },
     "execution_count": 12,
     "metadata": {},
     "output_type": "execute_result"
    }
   ],
   "source": [
    "df.head()"
   ]
  },
  {
   "cell_type": "code",
   "execution_count": 13,
   "metadata": {},
   "outputs": [
    {
     "data": {
      "text/html": [
       "<div>\n",
       "<style>\n",
       "    .dataframe thead tr:only-child th {\n",
       "        text-align: right;\n",
       "    }\n",
       "\n",
       "    .dataframe thead th {\n",
       "        text-align: left;\n",
       "    }\n",
       "\n",
       "    .dataframe tbody tr th {\n",
       "        vertical-align: top;\n",
       "    }\n",
       "</style>\n",
       "<table border=\"1\" class=\"dataframe\">\n",
       "  <thead>\n",
       "    <tr style=\"text-align: right;\">\n",
       "      <th></th>\n",
       "      <th>probe</th>\n",
       "      <th>dtime</th>\n",
       "      <th>video_address</th>\n",
       "      <th>video_id</th>\n",
       "      <th>successes</th>\n",
       "      <th>failures</th>\n",
       "    </tr>\n",
       "  </thead>\n",
       "  <tbody>\n",
       "    <tr>\n",
       "      <th>5241629</th>\n",
       "      <td>samsbox24</td>\n",
       "      <td>2014-08-20</td>\n",
       "      <td>173.194.137.147</td>\n",
       "      <td>u5KQQWlIgGc</td>\n",
       "      <td>1</td>\n",
       "      <td>0</td>\n",
       "    </tr>\n",
       "    <tr>\n",
       "      <th>5241630</th>\n",
       "      <td>samsbox24</td>\n",
       "      <td>2014-08-20</td>\n",
       "      <td>None</td>\n",
       "      <td>u5KQQWlIgGc</td>\n",
       "      <td>0</td>\n",
       "      <td>1</td>\n",
       "    </tr>\n",
       "    <tr>\n",
       "      <th>5241631</th>\n",
       "      <td>samsbox24</td>\n",
       "      <td>2014-08-20</td>\n",
       "      <td>None</td>\n",
       "      <td>u5KQQWlIgGc</td>\n",
       "      <td>0</td>\n",
       "      <td>1</td>\n",
       "    </tr>\n",
       "    <tr>\n",
       "      <th>5241632</th>\n",
       "      <td>samsbox24</td>\n",
       "      <td>2014-08-20</td>\n",
       "      <td>173.194.137.147</td>\n",
       "      <td>u5KQQWlIgGc</td>\n",
       "      <td>1</td>\n",
       "      <td>0</td>\n",
       "    </tr>\n",
       "    <tr>\n",
       "      <th>5241633</th>\n",
       "      <td>samsbox24</td>\n",
       "      <td>2014-08-20</td>\n",
       "      <td>None</td>\n",
       "      <td>u5KQQWlIgGc</td>\n",
       "      <td>0</td>\n",
       "      <td>1</td>\n",
       "    </tr>\n",
       "  </tbody>\n",
       "</table>\n",
       "</div>"
      ],
      "text/plain": [
       "             probe       dtime    video_address     video_id  successes  \\\n",
       "5241629  samsbox24  2014-08-20  173.194.137.147  u5KQQWlIgGc          1   \n",
       "5241630  samsbox24  2014-08-20             None  u5KQQWlIgGc          0   \n",
       "5241631  samsbox24  2014-08-20             None  u5KQQWlIgGc          0   \n",
       "5241632  samsbox24  2014-08-20  173.194.137.147  u5KQQWlIgGc          1   \n",
       "5241633  samsbox24  2014-08-20             None  u5KQQWlIgGc          0   \n",
       "\n",
       "         failures  \n",
       "5241629         0  \n",
       "5241630         1  \n",
       "5241631         1  \n",
       "5241632         0  \n",
       "5241633         1  "
      ]
     },
     "execution_count": 13,
     "metadata": {},
     "output_type": "execute_result"
    }
   ],
   "source": [
    "df.tail()"
   ]
  },
  {
   "cell_type": "code",
   "execution_count": 14,
   "metadata": {},
   "outputs": [
    {
     "data": {
      "text/plain": [
       "probe            5241634\n",
       "dtime            5241634\n",
       "video_address    4727767\n",
       "video_id         5241633\n",
       "successes        5241634\n",
       "failures         5241634\n",
       "dtype: int64"
      ]
     },
     "execution_count": 14,
     "metadata": {},
     "output_type": "execute_result"
    }
   ],
   "source": [
    "df.count()"
   ]
  },
  {
   "cell_type": "code",
   "execution_count": 15,
   "metadata": {
    "collapsed": true
   },
   "outputs": [],
   "source": [
    "def get_af_from_endpoint(ep):\n",
    "    if ep is None: return None\n",
    "    elif fbi.if_ipv6(ep): return 'v6'\n",
    "    elif fbi.if_ipv4(ep): return 'v4'\n",
    "    else: print('.'); return None"
   ]
  },
  {
   "cell_type": "code",
   "execution_count": 16,
   "metadata": {},
   "outputs": [
    {
     "name": "stdout",
     "output_type": "stream",
     "text": [
      ".\n"
     ]
    }
   ],
   "source": [
    "df['af'] = df['video_address'].apply(get_af_from_endpoint)"
   ]
  },
  {
   "cell_type": "code",
   "execution_count": 17,
   "metadata": {},
   "outputs": [
    {
     "data": {
      "text/plain": [
       "probe            5241634\n",
       "dtime            5241634\n",
       "video_address    4727767\n",
       "video_id         5241633\n",
       "successes        5241634\n",
       "failures         5241634\n",
       "af               4727766\n",
       "dtype: int64"
      ]
     },
     "execution_count": 17,
     "metadata": {},
     "output_type": "execute_result"
    }
   ],
   "source": [
    "df.count()"
   ]
  },
  {
   "cell_type": "code",
   "execution_count": 18,
   "metadata": {},
   "outputs": [
    {
     "data": {
      "text/html": [
       "<div>\n",
       "<style>\n",
       "    .dataframe thead tr:only-child th {\n",
       "        text-align: right;\n",
       "    }\n",
       "\n",
       "    .dataframe thead th {\n",
       "        text-align: left;\n",
       "    }\n",
       "\n",
       "    .dataframe tbody tr th {\n",
       "        vertical-align: top;\n",
       "    }\n",
       "</style>\n",
       "<table border=\"1\" class=\"dataframe\">\n",
       "  <thead>\n",
       "    <tr style=\"text-align: right;\">\n",
       "      <th></th>\n",
       "      <th>probe</th>\n",
       "      <th>dtime</th>\n",
       "      <th>video_address</th>\n",
       "      <th>video_id</th>\n",
       "      <th>successes</th>\n",
       "      <th>failures</th>\n",
       "      <th>af</th>\n",
       "    </tr>\n",
       "  </thead>\n",
       "  <tbody>\n",
       "    <tr>\n",
       "      <th>0</th>\n",
       "      <td>samsbox08</td>\n",
       "      <td>2017-06-27</td>\n",
       "      <td>2001:b30:ef00:99ca::c</td>\n",
       "      <td>qzlGB3eOjlU</td>\n",
       "      <td>1</td>\n",
       "      <td>0</td>\n",
       "      <td>v6</td>\n",
       "    </tr>\n",
       "    <tr>\n",
       "      <th>1</th>\n",
       "      <td>samsbox08</td>\n",
       "      <td>2017-06-27</td>\n",
       "      <td>195.95.178.204</td>\n",
       "      <td>qzlGB3eOjlU</td>\n",
       "      <td>1</td>\n",
       "      <td>0</td>\n",
       "      <td>v4</td>\n",
       "    </tr>\n",
       "    <tr>\n",
       "      <th>2</th>\n",
       "      <td>samsbox45</td>\n",
       "      <td>2017-06-27</td>\n",
       "      <td>None</td>\n",
       "      <td>qzlGB3eOjlU</td>\n",
       "      <td>0</td>\n",
       "      <td>1</td>\n",
       "      <td>None</td>\n",
       "    </tr>\n",
       "    <tr>\n",
       "      <th>3</th>\n",
       "      <td>samsbox03</td>\n",
       "      <td>2017-06-27</td>\n",
       "      <td>2001:1a80:801::c</td>\n",
       "      <td>qzlGB3eOjlU</td>\n",
       "      <td>1</td>\n",
       "      <td>0</td>\n",
       "      <td>v6</td>\n",
       "    </tr>\n",
       "    <tr>\n",
       "      <th>4</th>\n",
       "      <td>samsbox45</td>\n",
       "      <td>2017-06-27</td>\n",
       "      <td>173.194.20.202</td>\n",
       "      <td>qzlGB3eOjlU</td>\n",
       "      <td>1</td>\n",
       "      <td>0</td>\n",
       "      <td>v4</td>\n",
       "    </tr>\n",
       "  </tbody>\n",
       "</table>\n",
       "</div>"
      ],
      "text/plain": [
       "       probe       dtime          video_address     video_id  successes  \\\n",
       "0  samsbox08  2017-06-27  2001:b30:ef00:99ca::c  qzlGB3eOjlU          1   \n",
       "1  samsbox08  2017-06-27         195.95.178.204  qzlGB3eOjlU          1   \n",
       "2  samsbox45  2017-06-27                   None  qzlGB3eOjlU          0   \n",
       "3  samsbox03  2017-06-27       2001:1a80:801::c  qzlGB3eOjlU          1   \n",
       "4  samsbox45  2017-06-27         173.194.20.202  qzlGB3eOjlU          1   \n",
       "\n",
       "   failures    af  \n",
       "0         0    v6  \n",
       "1         0    v4  \n",
       "2         1  None  \n",
       "3         0    v6  \n",
       "4         0    v4  "
      ]
     },
     "execution_count": 18,
     "metadata": {},
     "output_type": "execute_result"
    }
   ],
   "source": [
    "df.head()"
   ]
  },
  {
   "cell_type": "code",
   "execution_count": 19,
   "metadata": {},
   "outputs": [
    {
     "data": {
      "text/html": [
       "<div>\n",
       "<style>\n",
       "    .dataframe thead tr:only-child th {\n",
       "        text-align: right;\n",
       "    }\n",
       "\n",
       "    .dataframe thead th {\n",
       "        text-align: left;\n",
       "    }\n",
       "\n",
       "    .dataframe tbody tr th {\n",
       "        vertical-align: top;\n",
       "    }\n",
       "</style>\n",
       "<table border=\"1\" class=\"dataframe\">\n",
       "  <thead>\n",
       "    <tr style=\"text-align: right;\">\n",
       "      <th></th>\n",
       "      <th>probe</th>\n",
       "      <th>dtime</th>\n",
       "      <th>video_address</th>\n",
       "      <th>video_id</th>\n",
       "      <th>successes</th>\n",
       "      <th>failures</th>\n",
       "      <th>af</th>\n",
       "    </tr>\n",
       "  </thead>\n",
       "  <tbody>\n",
       "    <tr>\n",
       "      <th>0</th>\n",
       "      <td>samsbox08</td>\n",
       "      <td>2017-06-27</td>\n",
       "      <td>2001:b30:ef00:99ca::c</td>\n",
       "      <td>qzlGB3eOjlU</td>\n",
       "      <td>1</td>\n",
       "      <td>0</td>\n",
       "      <td>v6</td>\n",
       "    </tr>\n",
       "    <tr>\n",
       "      <th>1</th>\n",
       "      <td>samsbox08</td>\n",
       "      <td>2017-06-27</td>\n",
       "      <td>195.95.178.204</td>\n",
       "      <td>qzlGB3eOjlU</td>\n",
       "      <td>1</td>\n",
       "      <td>0</td>\n",
       "      <td>v4</td>\n",
       "    </tr>\n",
       "    <tr>\n",
       "      <th>2</th>\n",
       "      <td>samsbox45</td>\n",
       "      <td>2017-06-27</td>\n",
       "      <td>None</td>\n",
       "      <td>qzlGB3eOjlU</td>\n",
       "      <td>0</td>\n",
       "      <td>1</td>\n",
       "      <td>None</td>\n",
       "    </tr>\n",
       "    <tr>\n",
       "      <th>3</th>\n",
       "      <td>samsbox03</td>\n",
       "      <td>2017-06-27</td>\n",
       "      <td>2001:1a80:801::c</td>\n",
       "      <td>qzlGB3eOjlU</td>\n",
       "      <td>1</td>\n",
       "      <td>0</td>\n",
       "      <td>v6</td>\n",
       "    </tr>\n",
       "    <tr>\n",
       "      <th>4</th>\n",
       "      <td>samsbox45</td>\n",
       "      <td>2017-06-27</td>\n",
       "      <td>173.194.20.202</td>\n",
       "      <td>qzlGB3eOjlU</td>\n",
       "      <td>1</td>\n",
       "      <td>0</td>\n",
       "      <td>v4</td>\n",
       "    </tr>\n",
       "  </tbody>\n",
       "</table>\n",
       "</div>"
      ],
      "text/plain": [
       "       probe       dtime          video_address     video_id  successes  \\\n",
       "0  samsbox08  2017-06-27  2001:b30:ef00:99ca::c  qzlGB3eOjlU          1   \n",
       "1  samsbox08  2017-06-27         195.95.178.204  qzlGB3eOjlU          1   \n",
       "2  samsbox45  2017-06-27                   None  qzlGB3eOjlU          0   \n",
       "3  samsbox03  2017-06-27       2001:1a80:801::c  qzlGB3eOjlU          1   \n",
       "4  samsbox45  2017-06-27         173.194.20.202  qzlGB3eOjlU          1   \n",
       "\n",
       "   failures    af  \n",
       "0         0    v6  \n",
       "1         0    v4  \n",
       "2         1  None  \n",
       "3         0    v6  \n",
       "4         0    v4  "
      ]
     },
     "execution_count": 19,
     "metadata": {},
     "output_type": "execute_result"
    }
   ],
   "source": [
    "df.head()"
   ]
  },
  {
   "cell_type": "code",
   "execution_count": 21,
   "metadata": {
    "collapsed": true
   },
   "outputs": [],
   "source": [
    "dfgroupby = cbc.group(df, column=['dtime', 'af', 'probe'])"
   ]
  },
  {
   "cell_type": "code",
   "execution_count": 22,
   "metadata": {
    "collapsed": true
   },
   "outputs": [],
   "source": [
    "df_agg = cbc.aggregate(dfgroupby, ['successes', 'failures'], ['sum', 'count'])"
   ]
  },
  {
   "cell_type": "code",
   "execution_count": 23,
   "metadata": {
    "collapsed": true
   },
   "outputs": [],
   "source": [
    "df_merged = cbc.merge(df, df_agg, column=['dtime', 'af', 'probe'])"
   ]
  },
  {
   "cell_type": "code",
   "execution_count": 24,
   "metadata": {
    "collapsed": true
   },
   "outputs": [],
   "source": [
    "df = df_merged.drop(['video_address', 'video_id', 'successes', 'failures'], axis=1)"
   ]
  },
  {
   "cell_type": "code",
   "execution_count": 25,
   "metadata": {
    "collapsed": true
   },
   "outputs": [],
   "source": [
    "df = df.drop_duplicates()"
   ]
  },
  {
   "cell_type": "code",
   "execution_count": 26,
   "metadata": {},
   "outputs": [
    {
     "data": {
      "text/plain": [
       "probe                 117995\n",
       "dtime                 117995\n",
       "af                    117995\n",
       "(successes, sum)      117995\n",
       "(successes, count)    117995\n",
       "(failures, sum)       117995\n",
       "(failures, count)     117995\n",
       "dtype: int64"
      ]
     },
     "execution_count": 26,
     "metadata": {},
     "output_type": "execute_result"
    }
   ],
   "source": [
    "df.count()"
   ]
  },
  {
   "cell_type": "code",
   "execution_count": 27,
   "metadata": {
    "collapsed": true
   },
   "outputs": [],
   "source": [
    "df.rename( columns={  df.columns[-1]: 'failures_count'\n",
    "                    , df.columns[-2]: 'failures_sum'\n",
    "                    , df.columns[-3]: 'successes_count'\n",
    "                    , df.columns[-4]: 'successes_sum'}\n",
    "                , inplace=True)"
   ]
  },
  {
   "cell_type": "code",
   "execution_count": 28,
   "metadata": {},
   "outputs": [
    {
     "data": {
      "text/html": [
       "<div>\n",
       "<style>\n",
       "    .dataframe thead tr:only-child th {\n",
       "        text-align: right;\n",
       "    }\n",
       "\n",
       "    .dataframe thead th {\n",
       "        text-align: left;\n",
       "    }\n",
       "\n",
       "    .dataframe tbody tr th {\n",
       "        vertical-align: top;\n",
       "    }\n",
       "</style>\n",
       "<table border=\"1\" class=\"dataframe\">\n",
       "  <thead>\n",
       "    <tr style=\"text-align: right;\">\n",
       "      <th></th>\n",
       "      <th>probe</th>\n",
       "      <th>dtime</th>\n",
       "      <th>af</th>\n",
       "      <th>successes_sum</th>\n",
       "      <th>successes_count</th>\n",
       "      <th>failures_sum</th>\n",
       "      <th>failures_count</th>\n",
       "    </tr>\n",
       "  </thead>\n",
       "  <tbody>\n",
       "    <tr>\n",
       "      <th>0</th>\n",
       "      <td>samsbox08</td>\n",
       "      <td>2017-06-27</td>\n",
       "      <td>v6</td>\n",
       "      <td>24</td>\n",
       "      <td>24</td>\n",
       "      <td>0</td>\n",
       "      <td>24</td>\n",
       "    </tr>\n",
       "    <tr>\n",
       "      <th>1</th>\n",
       "      <td>samsbox08</td>\n",
       "      <td>2017-06-27</td>\n",
       "      <td>v4</td>\n",
       "      <td>24</td>\n",
       "      <td>24</td>\n",
       "      <td>0</td>\n",
       "      <td>24</td>\n",
       "    </tr>\n",
       "    <tr>\n",
       "      <th>3</th>\n",
       "      <td>samsbox03</td>\n",
       "      <td>2017-06-27</td>\n",
       "      <td>v6</td>\n",
       "      <td>24</td>\n",
       "      <td>24</td>\n",
       "      <td>0</td>\n",
       "      <td>24</td>\n",
       "    </tr>\n",
       "    <tr>\n",
       "      <th>4</th>\n",
       "      <td>samsbox45</td>\n",
       "      <td>2017-06-27</td>\n",
       "      <td>v4</td>\n",
       "      <td>24</td>\n",
       "      <td>24</td>\n",
       "      <td>0</td>\n",
       "      <td>24</td>\n",
       "    </tr>\n",
       "    <tr>\n",
       "      <th>5</th>\n",
       "      <td>samsbox03</td>\n",
       "      <td>2017-06-27</td>\n",
       "      <td>v4</td>\n",
       "      <td>24</td>\n",
       "      <td>24</td>\n",
       "      <td>0</td>\n",
       "      <td>24</td>\n",
       "    </tr>\n",
       "  </tbody>\n",
       "</table>\n",
       "</div>"
      ],
      "text/plain": [
       "       probe       dtime  af  successes_sum  successes_count  failures_sum  \\\n",
       "0  samsbox08  2017-06-27  v6             24               24             0   \n",
       "1  samsbox08  2017-06-27  v4             24               24             0   \n",
       "3  samsbox03  2017-06-27  v6             24               24             0   \n",
       "4  samsbox45  2017-06-27  v4             24               24             0   \n",
       "5  samsbox03  2017-06-27  v4             24               24             0   \n",
       "\n",
       "   failures_count  \n",
       "0              24  \n",
       "1              24  \n",
       "3              24  \n",
       "4              24  \n",
       "5              24  "
      ]
     },
     "execution_count": 28,
     "metadata": {},
     "output_type": "execute_result"
    }
   ],
   "source": [
    "df.head()"
   ]
  },
  {
   "cell_type": "code",
   "execution_count": 29,
   "metadata": {
    "collapsed": true
   },
   "outputs": [],
   "source": [
    "dfv6 = df[df.af == 'v6']\n",
    "dfv4 = df[df.af == 'v4']"
   ]
  },
  {
   "cell_type": "code",
   "execution_count": 30,
   "metadata": {},
   "outputs": [
    {
     "data": {
      "text/html": [
       "<div>\n",
       "<style>\n",
       "    .dataframe thead tr:only-child th {\n",
       "        text-align: right;\n",
       "    }\n",
       "\n",
       "    .dataframe thead th {\n",
       "        text-align: left;\n",
       "    }\n",
       "\n",
       "    .dataframe tbody tr th {\n",
       "        vertical-align: top;\n",
       "    }\n",
       "</style>\n",
       "<table border=\"1\" class=\"dataframe\">\n",
       "  <thead>\n",
       "    <tr style=\"text-align: right;\">\n",
       "      <th></th>\n",
       "      <th>probe</th>\n",
       "      <th>dtime</th>\n",
       "      <th>af</th>\n",
       "      <th>successes_sum</th>\n",
       "      <th>successes_count</th>\n",
       "      <th>failures_sum</th>\n",
       "      <th>failures_count</th>\n",
       "    </tr>\n",
       "  </thead>\n",
       "  <tbody>\n",
       "    <tr>\n",
       "      <th>0</th>\n",
       "      <td>samsbox08</td>\n",
       "      <td>2017-06-27</td>\n",
       "      <td>v6</td>\n",
       "      <td>24</td>\n",
       "      <td>24</td>\n",
       "      <td>0</td>\n",
       "      <td>24</td>\n",
       "    </tr>\n",
       "    <tr>\n",
       "      <th>3</th>\n",
       "      <td>samsbox03</td>\n",
       "      <td>2017-06-27</td>\n",
       "      <td>v6</td>\n",
       "      <td>24</td>\n",
       "      <td>24</td>\n",
       "      <td>0</td>\n",
       "      <td>24</td>\n",
       "    </tr>\n",
       "    <tr>\n",
       "      <th>6</th>\n",
       "      <td>samsbox97</td>\n",
       "      <td>2017-06-27</td>\n",
       "      <td>v6</td>\n",
       "      <td>18</td>\n",
       "      <td>18</td>\n",
       "      <td>0</td>\n",
       "      <td>18</td>\n",
       "    </tr>\n",
       "    <tr>\n",
       "      <th>8</th>\n",
       "      <td>samsbox51</td>\n",
       "      <td>2017-06-27</td>\n",
       "      <td>v6</td>\n",
       "      <td>24</td>\n",
       "      <td>24</td>\n",
       "      <td>0</td>\n",
       "      <td>24</td>\n",
       "    </tr>\n",
       "    <tr>\n",
       "      <th>9</th>\n",
       "      <td>samsbox33</td>\n",
       "      <td>2017-06-27</td>\n",
       "      <td>v6</td>\n",
       "      <td>24</td>\n",
       "      <td>24</td>\n",
       "      <td>0</td>\n",
       "      <td>24</td>\n",
       "    </tr>\n",
       "  </tbody>\n",
       "</table>\n",
       "</div>"
      ],
      "text/plain": [
       "       probe       dtime  af  successes_sum  successes_count  failures_sum  \\\n",
       "0  samsbox08  2017-06-27  v6             24               24             0   \n",
       "3  samsbox03  2017-06-27  v6             24               24             0   \n",
       "6  samsbox97  2017-06-27  v6             18               18             0   \n",
       "8  samsbox51  2017-06-27  v6             24               24             0   \n",
       "9  samsbox33  2017-06-27  v6             24               24             0   \n",
       "\n",
       "   failures_count  \n",
       "0              24  \n",
       "3              24  \n",
       "6              18  \n",
       "8              24  \n",
       "9              24  "
      ]
     },
     "execution_count": 30,
     "metadata": {},
     "output_type": "execute_result"
    }
   ],
   "source": [
    "dfv6.head()"
   ]
  },
  {
   "cell_type": "code",
   "execution_count": 31,
   "metadata": {
    "collapsed": true
   },
   "outputs": [],
   "source": [
    "def cal_success_rate(x):\n",
    "    success = x['successes_sum']\n",
    "    total   = x['successes_count']    \n",
    "    \n",
    "    rate = (success / total) * 100\n",
    "    return rate\n",
    "\n",
    "dfv6['success_rate'] = dfv6.apply(cal_success_rate, axis = 1)\n",
    "dfv4['success_rate'] = dfv4.apply(cal_success_rate, axis = 1)"
   ]
  },
  {
   "cell_type": "code",
   "execution_count": 32,
   "metadata": {
    "collapsed": true
   },
   "outputs": [],
   "source": [
    "del dfv4['successes_sum']; del dfv4['successes_count']\n",
    "del dfv6['successes_sum']; del dfv6['successes_count']\n",
    "\n",
    "del dfv4['failures_sum']; del dfv4['failures_count']\n",
    "del dfv6['failures_sum']; del dfv6['failures_count']"
   ]
  },
  {
   "cell_type": "code",
   "execution_count": 33,
   "metadata": {
    "collapsed": true
   },
   "outputs": [],
   "source": [
    "del dfv4['af']; del dfv6['af']"
   ]
  },
  {
   "cell_type": "code",
   "execution_count": 34,
   "metadata": {},
   "outputs": [
    {
     "data": {
      "text/html": [
       "<div>\n",
       "<style>\n",
       "    .dataframe thead tr:only-child th {\n",
       "        text-align: right;\n",
       "    }\n",
       "\n",
       "    .dataframe thead th {\n",
       "        text-align: left;\n",
       "    }\n",
       "\n",
       "    .dataframe tbody tr th {\n",
       "        vertical-align: top;\n",
       "    }\n",
       "</style>\n",
       "<table border=\"1\" class=\"dataframe\">\n",
       "  <thead>\n",
       "    <tr style=\"text-align: right;\">\n",
       "      <th></th>\n",
       "      <th>probe</th>\n",
       "      <th>dtime</th>\n",
       "      <th>success_rate</th>\n",
       "    </tr>\n",
       "  </thead>\n",
       "  <tbody>\n",
       "    <tr>\n",
       "      <th>1</th>\n",
       "      <td>samsbox08</td>\n",
       "      <td>2017-06-27</td>\n",
       "      <td>100.0</td>\n",
       "    </tr>\n",
       "    <tr>\n",
       "      <th>4</th>\n",
       "      <td>samsbox45</td>\n",
       "      <td>2017-06-27</td>\n",
       "      <td>100.0</td>\n",
       "    </tr>\n",
       "    <tr>\n",
       "      <th>5</th>\n",
       "      <td>samsbox03</td>\n",
       "      <td>2017-06-27</td>\n",
       "      <td>100.0</td>\n",
       "    </tr>\n",
       "    <tr>\n",
       "      <th>7</th>\n",
       "      <td>samsbox97</td>\n",
       "      <td>2017-06-27</td>\n",
       "      <td>100.0</td>\n",
       "    </tr>\n",
       "    <tr>\n",
       "      <th>12</th>\n",
       "      <td>samsbox51</td>\n",
       "      <td>2017-06-27</td>\n",
       "      <td>100.0</td>\n",
       "    </tr>\n",
       "  </tbody>\n",
       "</table>\n",
       "</div>"
      ],
      "text/plain": [
       "        probe       dtime  success_rate\n",
       "1   samsbox08  2017-06-27         100.0\n",
       "4   samsbox45  2017-06-27         100.0\n",
       "5   samsbox03  2017-06-27         100.0\n",
       "7   samsbox97  2017-06-27         100.0\n",
       "12  samsbox51  2017-06-27         100.0"
      ]
     },
     "execution_count": 34,
     "metadata": {},
     "output_type": "execute_result"
    }
   ],
   "source": [
    "dfv4.head()"
   ]
  },
  {
   "cell_type": "code",
   "execution_count": 35,
   "metadata": {},
   "outputs": [
    {
     "data": {
      "text/html": [
       "<div>\n",
       "<style>\n",
       "    .dataframe thead tr:only-child th {\n",
       "        text-align: right;\n",
       "    }\n",
       "\n",
       "    .dataframe thead th {\n",
       "        text-align: left;\n",
       "    }\n",
       "\n",
       "    .dataframe tbody tr th {\n",
       "        vertical-align: top;\n",
       "    }\n",
       "</style>\n",
       "<table border=\"1\" class=\"dataframe\">\n",
       "  <thead>\n",
       "    <tr style=\"text-align: right;\">\n",
       "      <th></th>\n",
       "      <th>probe</th>\n",
       "      <th>dtime</th>\n",
       "      <th>success_rate</th>\n",
       "    </tr>\n",
       "  </thead>\n",
       "  <tbody>\n",
       "    <tr>\n",
       "      <th>0</th>\n",
       "      <td>samsbox08</td>\n",
       "      <td>2017-06-27</td>\n",
       "      <td>100.0</td>\n",
       "    </tr>\n",
       "    <tr>\n",
       "      <th>3</th>\n",
       "      <td>samsbox03</td>\n",
       "      <td>2017-06-27</td>\n",
       "      <td>100.0</td>\n",
       "    </tr>\n",
       "    <tr>\n",
       "      <th>6</th>\n",
       "      <td>samsbox97</td>\n",
       "      <td>2017-06-27</td>\n",
       "      <td>100.0</td>\n",
       "    </tr>\n",
       "    <tr>\n",
       "      <th>8</th>\n",
       "      <td>samsbox51</td>\n",
       "      <td>2017-06-27</td>\n",
       "      <td>100.0</td>\n",
       "    </tr>\n",
       "    <tr>\n",
       "      <th>9</th>\n",
       "      <td>samsbox33</td>\n",
       "      <td>2017-06-27</td>\n",
       "      <td>100.0</td>\n",
       "    </tr>\n",
       "  </tbody>\n",
       "</table>\n",
       "</div>"
      ],
      "text/plain": [
       "       probe       dtime  success_rate\n",
       "0  samsbox08  2017-06-27         100.0\n",
       "3  samsbox03  2017-06-27         100.0\n",
       "6  samsbox97  2017-06-27         100.0\n",
       "8  samsbox51  2017-06-27         100.0\n",
       "9  samsbox33  2017-06-27         100.0"
      ]
     },
     "execution_count": 35,
     "metadata": {},
     "output_type": "execute_result"
    }
   ],
   "source": [
    "dfv6.head()"
   ]
  },
  {
   "cell_type": "code",
   "execution_count": 36,
   "metadata": {
    "collapsed": true
   },
   "outputs": [],
   "source": [
    "def get_success_rate_across_probes(df):\n",
    "    dfgroupby  = cbc.group(df, column=['dtime'])\n",
    "    df_agg     = cbc.aggregate(dfgroupby, ['success_rate'], ['median'])\n",
    "    df_merged  = cbc.merge(df, df_agg, column=['dtime'])\n",
    "    df         = df_merged.drop(['probe', 'success_rate'], axis=1)\n",
    "    df         = df.drop_duplicates()\n",
    "    df.columns = ['dtime', 'success_rate']\n",
    "    return df\n",
    "\n",
    "dfv4 = get_success_rate_across_probes(dfv4)\n",
    "dfv6 = get_success_rate_across_probes(dfv6)"
   ]
  },
  {
   "cell_type": "code",
   "execution_count": 37,
   "metadata": {},
   "outputs": [
    {
     "data": {
      "text/html": [
       "<div>\n",
       "<style>\n",
       "    .dataframe thead tr:only-child th {\n",
       "        text-align: right;\n",
       "    }\n",
       "\n",
       "    .dataframe thead th {\n",
       "        text-align: left;\n",
       "    }\n",
       "\n",
       "    .dataframe tbody tr th {\n",
       "        vertical-align: top;\n",
       "    }\n",
       "</style>\n",
       "<table border=\"1\" class=\"dataframe\">\n",
       "  <thead>\n",
       "    <tr style=\"text-align: right;\">\n",
       "      <th></th>\n",
       "      <th>dtime</th>\n",
       "      <th>success_rate</th>\n",
       "    </tr>\n",
       "  </thead>\n",
       "  <tbody>\n",
       "    <tr>\n",
       "      <th>0</th>\n",
       "      <td>2017-06-27</td>\n",
       "      <td>100.0</td>\n",
       "    </tr>\n",
       "    <tr>\n",
       "      <th>3427</th>\n",
       "      <td>2017-06-26</td>\n",
       "      <td>100.0</td>\n",
       "    </tr>\n",
       "    <tr>\n",
       "      <th>10241</th>\n",
       "      <td>2017-06-25</td>\n",
       "      <td>100.0</td>\n",
       "    </tr>\n",
       "    <tr>\n",
       "      <th>20543</th>\n",
       "      <td>2017-06-24</td>\n",
       "      <td>100.0</td>\n",
       "    </tr>\n",
       "    <tr>\n",
       "      <th>34667</th>\n",
       "      <td>2017-06-23</td>\n",
       "      <td>100.0</td>\n",
       "    </tr>\n",
       "  </tbody>\n",
       "</table>\n",
       "</div>"
      ],
      "text/plain": [
       "            dtime  success_rate\n",
       "0      2017-06-27         100.0\n",
       "3427   2017-06-26         100.0\n",
       "10241  2017-06-25         100.0\n",
       "20543  2017-06-24         100.0\n",
       "34667  2017-06-23         100.0"
      ]
     },
     "execution_count": 37,
     "metadata": {},
     "output_type": "execute_result"
    }
   ],
   "source": [
    "dfv6.head()"
   ]
  },
  {
   "cell_type": "code",
   "execution_count": 39,
   "metadata": {},
   "outputs": [
    {
     "ename": "TypeError",
     "evalue": "strptime() argument 1 must be str, not Timestamp",
     "output_type": "error",
     "traceback": [
      "\u001b[0;31m---------------------------------------------------------------------------\u001b[0m",
      "\u001b[0;31mTypeError\u001b[0m                                 Traceback (most recent call last)",
      "\u001b[0;32m<ipython-input-39-534dffa48c51>\u001b[0m in \u001b[0;36m<module>\u001b[0;34m()\u001b[0m\n\u001b[0;32m----> 1\u001b[0;31m \u001b[0mdfv4\u001b[0m\u001b[0;34m[\u001b[0m\u001b[0;34m'dtime'\u001b[0m\u001b[0;34m]\u001b[0m \u001b[0;34m=\u001b[0m \u001b[0mdfv4\u001b[0m\u001b[0;34m[\u001b[0m\u001b[0;34m'dtime'\u001b[0m\u001b[0;34m]\u001b[0m\u001b[0;34m.\u001b[0m\u001b[0mapply\u001b[0m\u001b[0;34m(\u001b[0m\u001b[0;32mlambda\u001b[0m \u001b[0md\u001b[0m\u001b[0;34m:\u001b[0m \u001b[0mdt\u001b[0m\u001b[0;34m.\u001b[0m\u001b[0mstrptime\u001b[0m\u001b[0;34m(\u001b[0m\u001b[0md\u001b[0m\u001b[0;34m,\u001b[0m \u001b[0;34m'%Y-%m-%d'\u001b[0m\u001b[0;34m)\u001b[0m\u001b[0;34m)\u001b[0m\u001b[0;34m\u001b[0m\u001b[0m\n\u001b[0m\u001b[1;32m      2\u001b[0m \u001b[0mdfv6\u001b[0m\u001b[0;34m[\u001b[0m\u001b[0;34m'dtime'\u001b[0m\u001b[0;34m]\u001b[0m \u001b[0;34m=\u001b[0m \u001b[0mdfv6\u001b[0m\u001b[0;34m[\u001b[0m\u001b[0;34m'dtime'\u001b[0m\u001b[0;34m]\u001b[0m\u001b[0;34m.\u001b[0m\u001b[0mapply\u001b[0m\u001b[0;34m(\u001b[0m\u001b[0;32mlambda\u001b[0m \u001b[0md\u001b[0m\u001b[0;34m:\u001b[0m \u001b[0mdt\u001b[0m\u001b[0;34m.\u001b[0m\u001b[0mstrptime\u001b[0m\u001b[0;34m(\u001b[0m\u001b[0md\u001b[0m\u001b[0;34m,\u001b[0m \u001b[0;34m'%Y-%m-%d'\u001b[0m\u001b[0;34m)\u001b[0m\u001b[0;34m)\u001b[0m\u001b[0;34m\u001b[0m\u001b[0m\n\u001b[1;32m      3\u001b[0m \u001b[0;34m\u001b[0m\u001b[0m\n\u001b[1;32m      4\u001b[0m \u001b[0mdfv4\u001b[0m\u001b[0;34m.\u001b[0m\u001b[0msort_values\u001b[0m\u001b[0;34m(\u001b[0m\u001b[0mcolumns\u001b[0m \u001b[0;34m=\u001b[0m \u001b[0;34m'dtime'\u001b[0m\u001b[0;34m,\u001b[0m \u001b[0minplace\u001b[0m \u001b[0;34m=\u001b[0m \u001b[0;32mTrue\u001b[0m\u001b[0;34m)\u001b[0m\u001b[0;34m\u001b[0m\u001b[0m\n\u001b[1;32m      5\u001b[0m \u001b[0mdfv6\u001b[0m\u001b[0;34m.\u001b[0m\u001b[0msort_values\u001b[0m\u001b[0;34m(\u001b[0m\u001b[0mcolumns\u001b[0m \u001b[0;34m=\u001b[0m \u001b[0;34m'dtime'\u001b[0m\u001b[0;34m,\u001b[0m \u001b[0minplace\u001b[0m \u001b[0;34m=\u001b[0m \u001b[0;32mTrue\u001b[0m\u001b[0;34m)\u001b[0m\u001b[0;34m\u001b[0m\u001b[0m\n",
      "\u001b[0;32m~/.virtualenvs/youtube-data-analysis-python3/lib/python3.5/site-packages/pandas/core/series.py\u001b[0m in \u001b[0;36mapply\u001b[0;34m(self, func, convert_dtype, args, **kwds)\u001b[0m\n\u001b[1;32m   2353\u001b[0m             \u001b[0;32melse\u001b[0m\u001b[0;34m:\u001b[0m\u001b[0;34m\u001b[0m\u001b[0m\n\u001b[1;32m   2354\u001b[0m                 \u001b[0mvalues\u001b[0m \u001b[0;34m=\u001b[0m \u001b[0mself\u001b[0m\u001b[0;34m.\u001b[0m\u001b[0masobject\u001b[0m\u001b[0;34m\u001b[0m\u001b[0m\n\u001b[0;32m-> 2355\u001b[0;31m                 \u001b[0mmapped\u001b[0m \u001b[0;34m=\u001b[0m \u001b[0mlib\u001b[0m\u001b[0;34m.\u001b[0m\u001b[0mmap_infer\u001b[0m\u001b[0;34m(\u001b[0m\u001b[0mvalues\u001b[0m\u001b[0;34m,\u001b[0m \u001b[0mf\u001b[0m\u001b[0;34m,\u001b[0m \u001b[0mconvert\u001b[0m\u001b[0;34m=\u001b[0m\u001b[0mconvert_dtype\u001b[0m\u001b[0;34m)\u001b[0m\u001b[0;34m\u001b[0m\u001b[0m\n\u001b[0m\u001b[1;32m   2356\u001b[0m \u001b[0;34m\u001b[0m\u001b[0m\n\u001b[1;32m   2357\u001b[0m         \u001b[0;32mif\u001b[0m \u001b[0mlen\u001b[0m\u001b[0;34m(\u001b[0m\u001b[0mmapped\u001b[0m\u001b[0;34m)\u001b[0m \u001b[0;32mand\u001b[0m \u001b[0misinstance\u001b[0m\u001b[0;34m(\u001b[0m\u001b[0mmapped\u001b[0m\u001b[0;34m[\u001b[0m\u001b[0;36m0\u001b[0m\u001b[0;34m]\u001b[0m\u001b[0;34m,\u001b[0m \u001b[0mSeries\u001b[0m\u001b[0;34m)\u001b[0m\u001b[0;34m:\u001b[0m\u001b[0;34m\u001b[0m\u001b[0m\n",
      "\u001b[0;32mpandas/_libs/src/inference.pyx\u001b[0m in \u001b[0;36mpandas._libs.lib.map_infer (pandas/_libs/lib.c:66645)\u001b[0;34m()\u001b[0m\n",
      "\u001b[0;32m<ipython-input-39-534dffa48c51>\u001b[0m in \u001b[0;36m<lambda>\u001b[0;34m(d)\u001b[0m\n\u001b[0;32m----> 1\u001b[0;31m \u001b[0mdfv4\u001b[0m\u001b[0;34m[\u001b[0m\u001b[0;34m'dtime'\u001b[0m\u001b[0;34m]\u001b[0m \u001b[0;34m=\u001b[0m \u001b[0mdfv4\u001b[0m\u001b[0;34m[\u001b[0m\u001b[0;34m'dtime'\u001b[0m\u001b[0;34m]\u001b[0m\u001b[0;34m.\u001b[0m\u001b[0mapply\u001b[0m\u001b[0;34m(\u001b[0m\u001b[0;32mlambda\u001b[0m \u001b[0md\u001b[0m\u001b[0;34m:\u001b[0m \u001b[0mdt\u001b[0m\u001b[0;34m.\u001b[0m\u001b[0mstrptime\u001b[0m\u001b[0;34m(\u001b[0m\u001b[0md\u001b[0m\u001b[0;34m,\u001b[0m \u001b[0;34m'%Y-%m-%d'\u001b[0m\u001b[0;34m)\u001b[0m\u001b[0;34m)\u001b[0m\u001b[0;34m\u001b[0m\u001b[0m\n\u001b[0m\u001b[1;32m      2\u001b[0m \u001b[0mdfv6\u001b[0m\u001b[0;34m[\u001b[0m\u001b[0;34m'dtime'\u001b[0m\u001b[0;34m]\u001b[0m \u001b[0;34m=\u001b[0m \u001b[0mdfv6\u001b[0m\u001b[0;34m[\u001b[0m\u001b[0;34m'dtime'\u001b[0m\u001b[0;34m]\u001b[0m\u001b[0;34m.\u001b[0m\u001b[0mapply\u001b[0m\u001b[0;34m(\u001b[0m\u001b[0;32mlambda\u001b[0m \u001b[0md\u001b[0m\u001b[0;34m:\u001b[0m \u001b[0mdt\u001b[0m\u001b[0;34m.\u001b[0m\u001b[0mstrptime\u001b[0m\u001b[0;34m(\u001b[0m\u001b[0md\u001b[0m\u001b[0;34m,\u001b[0m \u001b[0;34m'%Y-%m-%d'\u001b[0m\u001b[0;34m)\u001b[0m\u001b[0;34m)\u001b[0m\u001b[0;34m\u001b[0m\u001b[0m\n\u001b[1;32m      3\u001b[0m \u001b[0;34m\u001b[0m\u001b[0m\n\u001b[1;32m      4\u001b[0m \u001b[0mdfv4\u001b[0m\u001b[0;34m.\u001b[0m\u001b[0msort_values\u001b[0m\u001b[0;34m(\u001b[0m\u001b[0mcolumns\u001b[0m \u001b[0;34m=\u001b[0m \u001b[0;34m'dtime'\u001b[0m\u001b[0;34m,\u001b[0m \u001b[0minplace\u001b[0m \u001b[0;34m=\u001b[0m \u001b[0;32mTrue\u001b[0m\u001b[0;34m)\u001b[0m\u001b[0;34m\u001b[0m\u001b[0m\n\u001b[1;32m      5\u001b[0m \u001b[0mdfv6\u001b[0m\u001b[0;34m.\u001b[0m\u001b[0msort_values\u001b[0m\u001b[0;34m(\u001b[0m\u001b[0mcolumns\u001b[0m \u001b[0;34m=\u001b[0m \u001b[0;34m'dtime'\u001b[0m\u001b[0;34m,\u001b[0m \u001b[0minplace\u001b[0m \u001b[0;34m=\u001b[0m \u001b[0;32mTrue\u001b[0m\u001b[0;34m)\u001b[0m\u001b[0;34m\u001b[0m\u001b[0m\n",
      "\u001b[0;31mTypeError\u001b[0m: strptime() argument 1 must be str, not Timestamp"
     ]
    }
   ],
   "source": [
    "dfv4['dtime'] = dfv4['dtime'].apply(lambda d: dt.strptime(d, '%Y-%m-%d'))\n",
    "dfv6['dtime'] = dfv6['dtime'].apply(lambda d: dt.strptime(d, '%Y-%m-%d'))"
   ]
  },
  {
   "cell_type": "code",
   "execution_count": 41,
   "metadata": {
    "collapsed": true
   },
   "outputs": [],
   "source": [
    "dfv4.sort_values(by = 'dtime', inplace = True)\n",
    "dfv6.sort_values(by = 'dtime', inplace = True)"
   ]
  },
  {
   "cell_type": "code",
   "execution_count": 42,
   "metadata": {
    "collapsed": true
   },
   "outputs": [],
   "source": [
    "num_4 = dfv4['dtime'].count()"
   ]
  },
  {
   "cell_type": "code",
   "execution_count": 43,
   "metadata": {
    "collapsed": true
   },
   "outputs": [],
   "source": [
    "num_6 = dfv6['dtime'].count()"
   ]
  },
  {
   "cell_type": "markdown",
   "metadata": {},
   "source": [
    "### Hardcoded dates"
   ]
  },
  {
   "cell_type": "code",
   "execution_count": 45,
   "metadata": {
    "collapsed": true
   },
   "outputs": [],
   "source": [
    "from dateutil import rrule\n",
    "a=dt.strptime(str('2014-08-01'), '%Y-%m-%d')\n",
    "b=dt.strptime(str('2017-07-01'), '%Y-%m-%d')\n",
    "dateranges = rrule.rrule(rrule.DAILY, dtstart=a).between(a, b, inc=True)"
   ]
  },
  {
   "cell_type": "code",
   "execution_count": 48,
   "metadata": {
    "collapsed": true
   },
   "outputs": [],
   "source": [
    "df_ = pd.DataFrame(dateranges, columns=['dtime']).sort_values(by = 'dtime').reset_index(drop = True)"
   ]
  },
  {
   "cell_type": "code",
   "execution_count": 49,
   "metadata": {
    "collapsed": true
   },
   "outputs": [],
   "source": [
    "dfv4 = pd.merge(df_, dfv4, how='outer')\n",
    "dfv6 = pd.merge(df_, dfv6, how='outer')"
   ]
  },
  {
   "cell_type": "code",
   "execution_count": 55,
   "metadata": {},
   "outputs": [
    {
     "data": {
      "image/png": "[encoded data removed]",
      "text/plain": [
       "<matplotlib.figure.Figure at 0x7fd876270fd0>"
      ]
     },
     "metadata": {},
     "output_type": "display_data"
    }
   ],
   "source": [
    "fig = plt.figure(figsize=(6, 3))\n",
    "plt.rcParams['font.size'] = 12\n",
    "\n",
    "ax1 = fig.add_subplot(211)\n",
    "ax2 = fig.add_subplot(212, sharex=ax1)\n",
    "\n",
    "ax1.spines['right'].set_color('none')\n",
    "ax1.spines['top'].set_color('none')\n",
    "ax1.yaxis.set_ticks_position('left')\n",
    "ax1.xaxis.set_ticks_position('bottom')\n",
    "ax1.spines['bottom'].set_position(('axes', -0.05))\n",
    "ax1.spines['left'].set_position(('axes', -0.05))\n",
    "\n",
    "ax2.spines['right'].set_color('none')\n",
    "ax2.spines['top'].set_color('none')\n",
    "ax2.yaxis.set_ticks_position('left')\n",
    "ax2.xaxis.set_ticks_position('bottom')\n",
    "ax2.spines['bottom'].set_position(('axes', -0.05))\n",
    "ax2.spines['left'].set_position(('axes', -0.05))\n",
    "\n",
    "sl = dfv6.plot(  x='dtime'\n",
    "               , y=['success_rate']\n",
    "               , color='red'\n",
    "               , kind='line'\n",
    "               , linewidth = 1\n",
    "               , ax = ax1\n",
    "              )\n",
    "\n",
    "st = dfv4.plot(  x='dtime'\n",
    "               , y=['success_rate']\n",
    "               , color='blue'\n",
    "               , kind='line'\n",
    "               , linewidth = 1\n",
    "               , ax = ax2\n",
    "              )\n",
    "\n",
    "ax1.grid(False)\n",
    "ax1.legend(['IPv6'], fontsize=12, loc='best')\n",
    "ax1.set_yscale('linear')\n",
    "ax1.set_ylim([70, 101])\n",
    "\n",
    "ax2.grid(False)\n",
    "ax2.legend(['IPv4'], fontsize=12, loc='best')\n",
    "ax2.set_yscale('linear')\n",
    "ax2.set_ylim([70, 101])\n",
    "\n",
    "yticks = np.arange(70,110,10)\n",
    "ax1.set_yticks(yticks)\n",
    "ax2.set_yticks(yticks)\n",
    "\n",
    "def to_percent(y, position): return str(int(y)) + '%'\n",
    "ax1.yaxis.set_major_formatter(FuncFormatter(to_percent))\n",
    "ax2.yaxis.set_major_formatter(FuncFormatter(to_percent))\n",
    "\n",
    "from datetime import datetime as dt\n",
    "ax1.axvline(x=dt.strptime('2014-08-21', \"%Y-%m-%d\"), linewidth=1.0, ymax = 0.95, ymin = 0, color='black', ls = 'dotted')\n",
    "ax1.axvline(x=dt.strptime('2014-12-10', \"%Y-%m-%d\"), linewidth=1.0, ymax = 0.95, ymin = 0, color='black', ls = 'dotted')\n",
    "ax1.axvline(x=dt.strptime('2015-01-22', \"%Y-%m-%d\"), linewidth=1.0, ymax = 0.95, ymin = 0, color='black', ls = 'dotted')\n",
    "ax1.axvline(x=dt.strptime('2016-09-05', \"%Y-%m-%d\"), linewidth=1.0, ymax = 0.95, ymin = 0, color='black', ls = 'dotted')\n",
    "ax2.axvline(x=dt.strptime('2014-08-21', \"%Y-%m-%d\"), linewidth=1.0, ymax = 0.95, ymin = 0, color='black', ls = 'dotted')\n",
    "ax2.axvline(x=dt.strptime('2014-12-10', \"%Y-%m-%d\"), linewidth=1.0, ymax = 0.95, ymin = 0, color='black', ls = 'dotted')\n",
    "ax2.axvline(x=dt.strptime('2015-01-22', \"%Y-%m-%d\"), linewidth=1.0, ymax = 0.95, ymin = 0, color='black', ls = 'dotted')\n",
    "ax2.axvline(x=dt.strptime('2016-09-05', \"%Y-%m-%d\"), linewidth=1.0, ymax = 0.95, ymin = 0, color='black', ls = 'dotted')\n",
    "\n",
    "ax1.set_xlabel('', fontsize=22)\n",
    "ax1.set_ylabel('', fontsize=22)\n",
    "ax2.set_xlabel('', fontsize=22)\n",
    "ax2.set_ylabel('', fontsize=22)\n",
    "\n",
    "fig.subplots_adjust(hspace = 0.6)\n",
    "\n",
    "ax1.set_title('Success Rate', fontsize=12, y=1.05)\n",
    "plt.savefig('youtube-success-rate-timeseries.pdf', format='pdf', bbox_inches='tight')"
   ]
  },
  {
   "cell_type": "code",
   "execution_count": 56,
   "metadata": {
    "collapsed": true
   },
   "outputs": [],
   "source": [
    "dfv4 = dfv4.dropna()\n",
    "dfv6 = dfv6.dropna()"
   ]
  },
  {
   "cell_type": "code",
   "execution_count": 57,
   "metadata": {
    "collapsed": true
   },
   "outputs": [],
   "source": [
    "import Cdf\n",
    "import Pmf\n",
    "samplev4 = dfv4['success_rate'].values\n",
    "samplev6 = dfv6['success_rate'].values\n",
    "\n",
    "c4 = Cdf.MakeCdfFromList(samplev4)\n",
    "c6 = Cdf.MakeCdfFromList(samplev6)\n",
    "\n",
    "cc4 = [1 - p for x, p in c4.Items()]\n",
    "cc6 = [1 - p for x, p in c6.Items()]"
   ]
  }
 ],
 "metadata": {
  "kernelspec": {
   "display_name": "Python 3",
   "language": "python",
   "name": "python3"
  },
  "language_info": {
   "codemirror_mode": {
    "name": "ipython",
    "version": 3
   },
   "file_extension": ".py",
   "mimetype": "text/x-python",
   "name": "python",
   "nbconvert_exporter": "python",
   "pygments_lexer": "ipython3",
   "version": "3.5.3"
  }
 },
 "nbformat": 4,
 "nbformat_minor": 1
}
