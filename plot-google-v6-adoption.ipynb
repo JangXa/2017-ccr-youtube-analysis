{
 "cells": [
  {
   "cell_type": "code",
   "execution_count": 97,
   "metadata": {
    "collapsed": true
   },
   "outputs": [],
   "source": [
    "import pandas as pd\n",
    "import requests\n",
    "import datetime;   \n",
    "from datetime import datetime as dt\n",
    "import matplotlib.dates as dates"
   ]
  },
  {
   "cell_type": "code",
   "execution_count": 98,
   "metadata": {
    "collapsed": true
   },
   "outputs": [],
   "source": [
    "import warnings\n",
    "warnings.filterwarnings('ignore')"
   ]
  },
  {
   "cell_type": "code",
   "execution_count": 99,
   "metadata": {},
   "outputs": [
    {
     "name": "stdout",
     "output_type": "stream",
     "text": [
      "Populating the interactive namespace from numpy and matplotlib\n"
     ]
    }
   ],
   "source": [
    "%pylab inline"
   ]
  },
  {
   "cell_type": "code",
   "execution_count": 100,
   "metadata": {},
   "outputs": [
    {
     "data": {
      "text/html": [
       "<style>body {\n",
       "    margin: 0;\n",
       "    font-family: Helvetica;\n",
       "}\n",
       "table.dataframe {\n",
       "    border-collapse: collapse;\n",
       "    border: none;\n",
       "}\n",
       "table.dataframe tr {\n",
       "    border: none;\n",
       "}\n",
       "table.dataframe td, table.dataframe th {\n",
       "    margin: 0;\n",
       "    border: 1px solid white;\n",
       "    padding-left: 0.25em;\n",
       "    padding-right: 0.25em;\n",
       "}\n",
       "table.dataframe th:not(:empty) {\n",
       "    background-color: #fec;\n",
       "    text-align: left;\n",
       "    font-weight: normal;\n",
       "}\n",
       "table.dataframe tr:nth-child(2) th:empty {\n",
       "    border-left: none;\n",
       "    border-right: 1px dashed #888;\n",
       "}\n",
       "table.dataframe td {\n",
       "    border: 2px solid #ccf;\n",
       "    background-color: #f4f4ff;\n",
       "}\n",
       "h3 {\n",
       "    color: white;\n",
       "    background-color: black;\n",
       "    padding: 0.5em;\n",
       "}\n",
       "\n",
       ".CodeMirror {\n",
       "    font-family: 'Monaco for Powerline';\n",
       "}\n",
       "\n",
       "div.cell.code_cell {\n",
       "    font-family: 'Monaco for Powerline';\n",
       "}\n",
       "\n",
       "div.output_area pre {\n",
       "    font-family: 'Monaco for Powerline';\n",
       "}\n",
       "</style>"
      ],
      "text/plain": [
       "<IPython.core.display.HTML object>"
      ]
     },
     "execution_count": 100,
     "metadata": {},
     "output_type": "execute_result"
    }
   ],
   "source": [
    "from IPython.core.display import HTML\n",
    "css = open('style-table.css').read() + open('style-notebook.css').read()\n",
    "HTML('<style>{}</style>'.format(css))"
   ]
  },
  {
   "cell_type": "code",
   "execution_count": 101,
   "metadata": {
    "collapsed": true
   },
   "outputs": [],
   "source": [
    "res = requests.get('https://www.google.com/intl/en_ALL/ipv6/statistics/data/adoption.js')"
   ]
  },
  {
   "cell_type": "code",
   "execution_count": 102,
   "metadata": {
    "collapsed": true
   },
   "outputs": [],
   "source": [
    "header = res.text.split('\\n')[:8]\n",
    "body   = res.text.split('\\n')[8:][:-2]"
   ]
  },
  {
   "cell_type": "code",
   "execution_count": 103,
   "metadata": {
    "collapsed": true
   },
   "outputs": [],
   "source": [
    "def get_data_point(line):\n",
    "    try: year, month, day, v6, relay = line.strip().strip(',').strip('[').strip(']').split(',')\n",
    "    except Exception as e: print(e, line); return None\n",
    "    else:\n",
    "        year   = int(year.strip())\n",
    "        month  = int(month.strip()) + 1  # google months [0, 11]\n",
    "        day    = int(day.strip())      \n",
    "        v6     = float(v6.strip())\n",
    "        relay  = float(relay.strip())\n",
    "    return '%s-%s-%s'%(year, month, day), v6, relay"
   ]
  },
  {
   "cell_type": "code",
   "execution_count": 104,
   "metadata": {
    "collapsed": true
   },
   "outputs": [],
   "source": [
    "data = []\n",
    "for idx, item in enumerate(body):\n",
    "    if idx == 0: continue # skip header\n",
    "    else: data.append(get_data_point(item))"
   ]
  },
  {
   "cell_type": "code",
   "execution_count": 105,
   "metadata": {
    "collapsed": true
   },
   "outputs": [],
   "source": [
    "df = pd.DataFrame(data, columns = ['date', 'v6', 'non-relay'])"
   ]
  },
  {
   "cell_type": "code",
   "execution_count": 106,
   "metadata": {
    "collapsed": true
   },
   "outputs": [],
   "source": [
    "df['date'] = df['date'].apply(lambda d: datetime.datetime.strptime(d, \"%Y-%m-%d\"))"
   ]
  },
  {
   "cell_type": "code",
   "execution_count": 107,
   "metadata": {},
   "outputs": [
    {
     "data": {
      "text/plain": [
       "date         datetime64[ns]\n",
       "v6                  float64\n",
       "non-relay           float64\n",
       "dtype: object"
      ]
     },
     "execution_count": 107,
     "metadata": {},
     "output_type": "execute_result"
    }
   ],
   "source": [
    "df.dtypes"
   ]
  },
  {
   "cell_type": "code",
   "execution_count": 108,
   "metadata": {
    "collapsed": true
   },
   "outputs": [],
   "source": [
    "df = df.sort_values(by = 'date')"
   ]
  },
  {
   "cell_type": "code",
   "execution_count": 109,
   "metadata": {
    "collapsed": true
   },
   "outputs": [],
   "source": [
    "df['relay'] = df['v6'] - df['non-relay']"
   ]
  },
  {
   "cell_type": "code",
   "execution_count": 110,
   "metadata": {},
   "outputs": [
    {
     "data": {
      "text/html": [
       "<div>\n",
       "<style>\n",
       "    .dataframe thead tr:only-child th {\n",
       "        text-align: right;\n",
       "    }\n",
       "\n",
       "    .dataframe thead th {\n",
       "        text-align: left;\n",
       "    }\n",
       "\n",
       "    .dataframe tbody tr th {\n",
       "        vertical-align: top;\n",
       "    }\n",
       "</style>\n",
       "<table border=\"1\" class=\"dataframe\">\n",
       "  <thead>\n",
       "    <tr style=\"text-align: right;\">\n",
       "      <th></th>\n",
       "      <th>date</th>\n",
       "      <th>v6</th>\n",
       "      <th>non-relay</th>\n",
       "      <th>relay</th>\n",
       "    </tr>\n",
       "  </thead>\n",
       "  <tbody>\n",
       "    <tr>\n",
       "      <th>0</th>\n",
       "      <td>2008-09-04</td>\n",
       "      <td>0.138095</td>\n",
       "      <td>0.044179</td>\n",
       "      <td>0.093916</td>\n",
       "    </tr>\n",
       "    <tr>\n",
       "      <th>1</th>\n",
       "      <td>2008-09-05</td>\n",
       "      <td>0.134405</td>\n",
       "      <td>0.042291</td>\n",
       "      <td>0.092114</td>\n",
       "    </tr>\n",
       "    <tr>\n",
       "      <th>2</th>\n",
       "      <td>2008-09-06</td>\n",
       "      <td>0.176802</td>\n",
       "      <td>0.048661</td>\n",
       "      <td>0.128141</td>\n",
       "    </tr>\n",
       "    <tr>\n",
       "      <th>3</th>\n",
       "      <td>2008-09-07</td>\n",
       "      <td>0.182193</td>\n",
       "      <td>0.051799</td>\n",
       "      <td>0.130394</td>\n",
       "    </tr>\n",
       "    <tr>\n",
       "      <th>4</th>\n",
       "      <td>2008-09-08</td>\n",
       "      <td>0.143716</td>\n",
       "      <td>0.044162</td>\n",
       "      <td>0.099554</td>\n",
       "    </tr>\n",
       "  </tbody>\n",
       "</table>\n",
       "</div>"
      ],
      "text/plain": [
       "        date        v6  non-relay     relay\n",
       "0 2008-09-04  0.138095   0.044179  0.093916\n",
       "1 2008-09-05  0.134405   0.042291  0.092114\n",
       "2 2008-09-06  0.176802   0.048661  0.128141\n",
       "3 2008-09-07  0.182193   0.051799  0.130394\n",
       "4 2008-09-08  0.143716   0.044162  0.099554"
      ]
     },
     "execution_count": 110,
     "metadata": {},
     "output_type": "execute_result"
    }
   ],
   "source": [
    "df.head()"
   ]
  },
  {
   "cell_type": "code",
   "execution_count": 111,
   "metadata": {},
   "outputs": [
    {
     "data": {
      "text/html": [
       "<div>\n",
       "<style>\n",
       "    .dataframe thead tr:only-child th {\n",
       "        text-align: right;\n",
       "    }\n",
       "\n",
       "    .dataframe thead th {\n",
       "        text-align: left;\n",
       "    }\n",
       "\n",
       "    .dataframe tbody tr th {\n",
       "        vertical-align: top;\n",
       "    }\n",
       "</style>\n",
       "<table border=\"1\" class=\"dataframe\">\n",
       "  <thead>\n",
       "    <tr style=\"text-align: right;\">\n",
       "      <th></th>\n",
       "      <th>date</th>\n",
       "      <th>v6</th>\n",
       "      <th>non-relay</th>\n",
       "      <th>relay</th>\n",
       "    </tr>\n",
       "  </thead>\n",
       "  <tbody>\n",
       "    <tr>\n",
       "      <th>3215</th>\n",
       "      <td>2017-06-24</td>\n",
       "      <td>19.760690</td>\n",
       "      <td>19.720124</td>\n",
       "      <td>0.040566</td>\n",
       "    </tr>\n",
       "    <tr>\n",
       "      <th>3216</th>\n",
       "      <td>2017-06-25</td>\n",
       "      <td>19.477789</td>\n",
       "      <td>19.438417</td>\n",
       "      <td>0.039372</td>\n",
       "    </tr>\n",
       "    <tr>\n",
       "      <th>3217</th>\n",
       "      <td>2017-06-26</td>\n",
       "      <td>16.652197</td>\n",
       "      <td>16.616463</td>\n",
       "      <td>0.035734</td>\n",
       "    </tr>\n",
       "    <tr>\n",
       "      <th>3218</th>\n",
       "      <td>2017-06-27</td>\n",
       "      <td>16.440191</td>\n",
       "      <td>16.409140</td>\n",
       "      <td>0.031051</td>\n",
       "    </tr>\n",
       "    <tr>\n",
       "      <th>3219</th>\n",
       "      <td>2017-06-28</td>\n",
       "      <td>16.462092</td>\n",
       "      <td>16.429375</td>\n",
       "      <td>0.032717</td>\n",
       "    </tr>\n",
       "  </tbody>\n",
       "</table>\n",
       "</div>"
      ],
      "text/plain": [
       "           date         v6  non-relay     relay\n",
       "3215 2017-06-24  19.760690  19.720124  0.040566\n",
       "3216 2017-06-25  19.477789  19.438417  0.039372\n",
       "3217 2017-06-26  16.652197  16.616463  0.035734\n",
       "3218 2017-06-27  16.440191  16.409140  0.031051\n",
       "3219 2017-06-28  16.462092  16.429375  0.032717"
      ]
     },
     "execution_count": 111,
     "metadata": {},
     "output_type": "execute_result"
    }
   ],
   "source": [
    "df.tail()"
   ]
  },
  {
   "cell_type": "code",
   "execution_count": 112,
   "metadata": {
    "collapsed": true
   },
   "outputs": [],
   "source": [
    "df.columns = ['date', 'total', 'v6', 'relay']"
   ]
  },
  {
   "cell_type": "code",
   "execution_count": 133,
   "metadata": {},
   "outputs": [
    {
     "data": {
      "image/png": "[encoded data removed]",
      "text/plain": [
       "<matplotlib.figure.Figure at 0x7f4176f12d68>"
      ]
     },
     "metadata": {},
     "output_type": "display_data"
    }
   ],
   "source": [
    "fig = plt.figure()\n",
    "plt.rcParams['font.size'] = 12\n",
    "ax = plt.gca()\n",
    "\n",
    "yticks = np.arange(0,25,5)\n",
    "\n",
    "df.plot(    'date'\n",
    "            , ['v6']\n",
    "            , figsize = (6, 1.3)\n",
    "            , ax = ax\n",
    "            , linewidth = 1.5\n",
    "            , color = 'blue'\n",
    "      )\n",
    "\n",
    "ax.grid(False)\n",
    "ax.set_xlabel('', fontsize=12)\n",
    "ax.set_ylabel('Websites', fontsize=12)\n",
    "ax.set_ylabel('', fontsize=12)\n",
    "ax.legend(['ALEXA 1M'], fontsize=12, loc='best')\n",
    "ax.legend_.remove()\n",
    "ax.set_ylim([-1, 22])\n",
    "ax.set_yticks(yticks)\n",
    "\n",
    "ax.spines['right'].set_color('none')\n",
    "ax.spines['top'].set_color('none')\n",
    "ax.yaxis.set_ticks_position('left')\n",
    "ax.xaxis.set_ticks_position('bottom')\n",
    "ax.spines['bottom'].set_position(('axes', -0.05))\n",
    "ax.spines['left'].set_position(('axes', -0.05))\n",
    "\n",
    "def to_percent(y, position): return str(int(y)) + '%'\n",
    "ax.yaxis.set_major_formatter(FuncFormatter(to_percent))\n",
    "\n",
    "plt.axvspan('2014-08-01', '2017-07-01', facecolor='g', alpha=0.1)\n",
    "\n",
    "plt.title('Google IPv6 Adoption', fontsize=12, y=1.05)\n",
    "plt.savefig('googlev6stats.pdf', format='pdf', bbox_inches='tight')"
   ]
  }
 ],
 "metadata": {
  "kernelspec": {
   "display_name": "Python 3",
   "language": "python",
   "name": "python3"
  },
  "language_info": {
   "codemirror_mode": {
    "name": "ipython",
    "version": 3
   },
   "file_extension": ".py",
   "mimetype": "text/x-python",
   "name": "python",
   "nbconvert_exporter": "python",
   "pygments_lexer": "ipython3",
   "version": "3.5.3"
  }
 },
 "nbformat": 4,
 "nbformat_minor": 1
}
