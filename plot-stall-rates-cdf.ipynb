{
 "cells": [
  {
   "cell_type": "code",
   "execution_count": 1,
   "metadata": {
    "collapsed": true
   },
   "outputs": [],
   "source": [
    "import sqlite3\n",
    "import pandas as pd\n",
    "import filterbyip as fbi\n",
    "import requests\n",
    "import asinfo\n",
    "import clusterbycolumn as cbc"
   ]
  },
  {
   "cell_type": "code",
   "execution_count": 2,
   "metadata": {},
   "outputs": [
    {
     "name": "stdout",
     "output_type": "stream",
     "text": [
      "Populating the interactive namespace from numpy and matplotlib\n"
     ]
    }
   ],
   "source": [
    "import warnings\n",
    "warnings.filterwarnings('ignore')\n",
    "\n",
    "%pylab inline"
   ]
  },
  {
   "cell_type": "code",
   "execution_count": 3,
   "metadata": {},
   "outputs": [
    {
     "data": {
      "text/html": [
       "<style>body {\n",
       "    margin: 0;\n",
       "    font-family: Helvetica;\n",
       "}\n",
       "table.dataframe {\n",
       "    border-collapse: collapse;\n",
       "    border: none;\n",
       "}\n",
       "table.dataframe tr {\n",
       "    border: none;\n",
       "}\n",
       "table.dataframe td, table.dataframe th {\n",
       "    margin: 0;\n",
       "    border: 1px solid white;\n",
       "    padding-left: 0.25em;\n",
       "    padding-right: 0.25em;\n",
       "}\n",
       "table.dataframe th:not(:empty) {\n",
       "    background-color: #fec;\n",
       "    text-align: left;\n",
       "    font-weight: normal;\n",
       "}\n",
       "table.dataframe tr:nth-child(2) th:empty {\n",
       "    border-left: none;\n",
       "    border-right: 1px dashed #888;\n",
       "}\n",
       "table.dataframe td {\n",
       "    border: 2px solid #ccf;\n",
       "    background-color: #f4f4ff;\n",
       "}\n",
       "h3 {\n",
       "    color: white;\n",
       "    background-color: black;\n",
       "    padding: 0.5em;\n",
       "}\n",
       "\n",
       ".CodeMirror {\n",
       "    font-family: 'Monaco for Powerline';\n",
       "}\n",
       "\n",
       "div.cell.code_cell {\n",
       "    font-family: 'Monaco for Powerline';\n",
       "}\n",
       "\n",
       "div.output_area pre {\n",
       "    font-family: 'Monaco for Powerline';\n",
       "}\n",
       "</style>"
      ],
      "text/plain": [
       "<IPython.core.display.HTML object>"
      ]
     },
     "execution_count": 3,
     "metadata": {},
     "output_type": "execute_result"
    }
   ],
   "source": [
    "from IPython.core.display import HTML\n",
    "css = open('style-table.css').read() + open('style-notebook.css').read()\n",
    "HTML('<style>{}</style>'.format(css))"
   ]
  },
  {
   "cell_type": "code",
   "execution_count": 4,
   "metadata": {
    "collapsed": true
   },
   "outputs": [],
   "source": [
    "def asn_from_probe_name(probe_name):\n",
    "    base = 'http://leone-collector.eecs.jacobs-university.de/msmpoint'\n",
    "    msm_metadata = requests.get('%s/%s'%(base, probe_name))\n",
    "    asn4 = str(msm_metadata.json()['asn4'])\n",
    "    asn6 = str(msm_metadata.json()['asn6'])\n",
    "    return asn4,asn6"
   ]
  },
  {
   "cell_type": "code",
   "execution_count": 5,
   "metadata": {
    "collapsed": true
   },
   "outputs": [],
   "source": [
    "dailydb_location = '/data/vbajpai/datasets/youtube-data-collection-python3/youtube.db'"
   ]
  },
  {
   "cell_type": "code",
   "execution_count": 6,
   "metadata": {
    "collapsed": true
   },
   "outputs": [],
   "source": [
    "query = '''select   msmpoint.name as probe\n",
    "                  , dtime\n",
    "                  , video_address\n",
    "                  , stall_events\n",
    "                  , stall_duration_avg\n",
    "                  , stall_duration_total\n",
    "                  \n",
    "           from youtube, msmpoint\n",
    "           where youtube.unit_id = msmpoint.skunitid\n",
    "           and msmpoint.skunitid <> ''\n",
    "           \n",
    "           \n",
    "           order by dtime DESC\n",
    "        '''"
   ]
  },
  {
   "cell_type": "code",
   "execution_count": 7,
   "metadata": {
    "collapsed": true
   },
   "outputs": [],
   "source": [
    "con = sqlite3.connect(dailydb_location)\n",
    "df = pd.read_sql(query, con)"
   ]
  },
  {
   "cell_type": "code",
   "execution_count": 8,
   "metadata": {},
   "outputs": [
    {
     "data": {
      "text/html": [
       "<div>\n",
       "<style>\n",
       "    .dataframe thead tr:only-child th {\n",
       "        text-align: right;\n",
       "    }\n",
       "\n",
       "    .dataframe thead th {\n",
       "        text-align: left;\n",
       "    }\n",
       "\n",
       "    .dataframe tbody tr th {\n",
       "        vertical-align: top;\n",
       "    }\n",
       "</style>\n",
       "<table border=\"1\" class=\"dataframe\">\n",
       "  <thead>\n",
       "    <tr style=\"text-align: right;\">\n",
       "      <th></th>\n",
       "      <th>probe</th>\n",
       "      <th>dtime</th>\n",
       "      <th>video_address</th>\n",
       "      <th>stall_events</th>\n",
       "      <th>stall_duration_avg</th>\n",
       "      <th>stall_duration_total</th>\n",
       "    </tr>\n",
       "  </thead>\n",
       "  <tbody>\n",
       "    <tr>\n",
       "      <th>0</th>\n",
       "      <td>samsbox08</td>\n",
       "      <td>2017-06-27 23:37:44</td>\n",
       "      <td>2001:b30:ef00:99ca::c</td>\n",
       "      <td>0</td>\n",
       "      <td>0</td>\n",
       "      <td>0</td>\n",
       "    </tr>\n",
       "    <tr>\n",
       "      <th>1</th>\n",
       "      <td>samsbox08</td>\n",
       "      <td>2017-06-27 23:36:40</td>\n",
       "      <td>195.95.178.204</td>\n",
       "      <td>0</td>\n",
       "      <td>0</td>\n",
       "      <td>0</td>\n",
       "    </tr>\n",
       "    <tr>\n",
       "      <th>2</th>\n",
       "      <td>samsbox45</td>\n",
       "      <td>2017-06-27 23:36:12</td>\n",
       "      <td>None</td>\n",
       "      <td>0</td>\n",
       "      <td>0</td>\n",
       "      <td>0</td>\n",
       "    </tr>\n",
       "    <tr>\n",
       "      <th>3</th>\n",
       "      <td>samsbox03</td>\n",
       "      <td>2017-06-27 23:36:00</td>\n",
       "      <td>2001:1a80:801::c</td>\n",
       "      <td>0</td>\n",
       "      <td>0</td>\n",
       "      <td>0</td>\n",
       "    </tr>\n",
       "    <tr>\n",
       "      <th>4</th>\n",
       "      <td>samsbox45</td>\n",
       "      <td>2017-06-27 23:35:09</td>\n",
       "      <td>173.194.20.202</td>\n",
       "      <td>0</td>\n",
       "      <td>0</td>\n",
       "      <td>0</td>\n",
       "    </tr>\n",
       "  </tbody>\n",
       "</table>\n",
       "</div>"
      ],
      "text/plain": [
       "       probe                dtime          video_address  stall_events  \\\n",
       "0  samsbox08  2017-06-27 23:37:44  2001:b30:ef00:99ca::c             0   \n",
       "1  samsbox08  2017-06-27 23:36:40         195.95.178.204             0   \n",
       "2  samsbox45  2017-06-27 23:36:12                   None             0   \n",
       "3  samsbox03  2017-06-27 23:36:00       2001:1a80:801::c             0   \n",
       "4  samsbox45  2017-06-27 23:35:09         173.194.20.202             0   \n",
       "\n",
       "   stall_duration_avg  stall_duration_total  \n",
       "0                   0                     0  \n",
       "1                   0                     0  \n",
       "2                   0                     0  \n",
       "3                   0                     0  \n",
       "4                   0                     0  "
      ]
     },
     "execution_count": 8,
     "metadata": {},
     "output_type": "execute_result"
    }
   ],
   "source": [
    "df.head()"
   ]
  },
  {
   "cell_type": "code",
   "execution_count": 9,
   "metadata": {
    "collapsed": true
   },
   "outputs": [],
   "source": [
    "num_probes = len(set(df['probe']))"
   ]
  },
  {
   "cell_type": "code",
   "execution_count": 10,
   "metadata": {
    "collapsed": true
   },
   "outputs": [],
   "source": [
    "def round_time_to_nearest_hour(dtime):\n",
    "    import datetime;    \n",
    "    d = datetime.datetime.strptime(dtime, \"%Y-%m-%d %H:%M:%S\")\n",
    "    d = d.replace(minute=0, second=0)\n",
    "    dtime = d.strftime('%Y-%m-%d %H:%M:%S')\n",
    "    return dtime"
   ]
  },
  {
   "cell_type": "code",
   "execution_count": 11,
   "metadata": {
    "collapsed": true
   },
   "outputs": [],
   "source": [
    "df['dtime'] = df['dtime'].apply(round_time_to_nearest_hour)"
   ]
  },
  {
   "cell_type": "code",
   "execution_count": 12,
   "metadata": {},
   "outputs": [
    {
     "data": {
      "text/html": [
       "<div>\n",
       "<style>\n",
       "    .dataframe thead tr:only-child th {\n",
       "        text-align: right;\n",
       "    }\n",
       "\n",
       "    .dataframe thead th {\n",
       "        text-align: left;\n",
       "    }\n",
       "\n",
       "    .dataframe tbody tr th {\n",
       "        vertical-align: top;\n",
       "    }\n",
       "</style>\n",
       "<table border=\"1\" class=\"dataframe\">\n",
       "  <thead>\n",
       "    <tr style=\"text-align: right;\">\n",
       "      <th></th>\n",
       "      <th>probe</th>\n",
       "      <th>dtime</th>\n",
       "      <th>video_address</th>\n",
       "      <th>stall_events</th>\n",
       "      <th>stall_duration_avg</th>\n",
       "      <th>stall_duration_total</th>\n",
       "    </tr>\n",
       "  </thead>\n",
       "  <tbody>\n",
       "    <tr>\n",
       "      <th>0</th>\n",
       "      <td>samsbox08</td>\n",
       "      <td>2017-06-27 23:00:00</td>\n",
       "      <td>2001:b30:ef00:99ca::c</td>\n",
       "      <td>0</td>\n",
       "      <td>0</td>\n",
       "      <td>0</td>\n",
       "    </tr>\n",
       "    <tr>\n",
       "      <th>1</th>\n",
       "      <td>samsbox08</td>\n",
       "      <td>2017-06-27 23:00:00</td>\n",
       "      <td>195.95.178.204</td>\n",
       "      <td>0</td>\n",
       "      <td>0</td>\n",
       "      <td>0</td>\n",
       "    </tr>\n",
       "    <tr>\n",
       "      <th>2</th>\n",
       "      <td>samsbox45</td>\n",
       "      <td>2017-06-27 23:00:00</td>\n",
       "      <td>None</td>\n",
       "      <td>0</td>\n",
       "      <td>0</td>\n",
       "      <td>0</td>\n",
       "    </tr>\n",
       "    <tr>\n",
       "      <th>3</th>\n",
       "      <td>samsbox03</td>\n",
       "      <td>2017-06-27 23:00:00</td>\n",
       "      <td>2001:1a80:801::c</td>\n",
       "      <td>0</td>\n",
       "      <td>0</td>\n",
       "      <td>0</td>\n",
       "    </tr>\n",
       "    <tr>\n",
       "      <th>4</th>\n",
       "      <td>samsbox45</td>\n",
       "      <td>2017-06-27 23:00:00</td>\n",
       "      <td>173.194.20.202</td>\n",
       "      <td>0</td>\n",
       "      <td>0</td>\n",
       "      <td>0</td>\n",
       "    </tr>\n",
       "  </tbody>\n",
       "</table>\n",
       "</div>"
      ],
      "text/plain": [
       "       probe                dtime          video_address  stall_events  \\\n",
       "0  samsbox08  2017-06-27 23:00:00  2001:b30:ef00:99ca::c             0   \n",
       "1  samsbox08  2017-06-27 23:00:00         195.95.178.204             0   \n",
       "2  samsbox45  2017-06-27 23:00:00                   None             0   \n",
       "3  samsbox03  2017-06-27 23:00:00       2001:1a80:801::c             0   \n",
       "4  samsbox45  2017-06-27 23:00:00         173.194.20.202             0   \n",
       "\n",
       "   stall_duration_avg  stall_duration_total  \n",
       "0                   0                     0  \n",
       "1                   0                     0  \n",
       "2                   0                     0  \n",
       "3                   0                     0  \n",
       "4                   0                     0  "
      ]
     },
     "execution_count": 12,
     "metadata": {},
     "output_type": "execute_result"
    }
   ],
   "source": [
    "df.head()"
   ]
  },
  {
   "cell_type": "code",
   "execution_count": 13,
   "metadata": {},
   "outputs": [
    {
     "data": {
      "text/html": [
       "<div>\n",
       "<style>\n",
       "    .dataframe thead tr:only-child th {\n",
       "        text-align: right;\n",
       "    }\n",
       "\n",
       "    .dataframe thead th {\n",
       "        text-align: left;\n",
       "    }\n",
       "\n",
       "    .dataframe tbody tr th {\n",
       "        vertical-align: top;\n",
       "    }\n",
       "</style>\n",
       "<table border=\"1\" class=\"dataframe\">\n",
       "  <thead>\n",
       "    <tr style=\"text-align: right;\">\n",
       "      <th></th>\n",
       "      <th>probe</th>\n",
       "      <th>dtime</th>\n",
       "      <th>video_address</th>\n",
       "      <th>stall_events</th>\n",
       "      <th>stall_duration_avg</th>\n",
       "      <th>stall_duration_total</th>\n",
       "    </tr>\n",
       "  </thead>\n",
       "  <tbody>\n",
       "    <tr>\n",
       "      <th>5241629</th>\n",
       "      <td>samsbox24</td>\n",
       "      <td>2014-08-20 04:00:00</td>\n",
       "      <td>173.194.137.147</td>\n",
       "      <td>0</td>\n",
       "      <td>0</td>\n",
       "      <td>0</td>\n",
       "    </tr>\n",
       "    <tr>\n",
       "      <th>5241630</th>\n",
       "      <td>samsbox24</td>\n",
       "      <td>2014-08-20 03:00:00</td>\n",
       "      <td>None</td>\n",
       "      <td>0</td>\n",
       "      <td>0</td>\n",
       "      <td>0</td>\n",
       "    </tr>\n",
       "    <tr>\n",
       "      <th>5241631</th>\n",
       "      <td>samsbox24</td>\n",
       "      <td>2014-08-20 02:00:00</td>\n",
       "      <td>None</td>\n",
       "      <td>0</td>\n",
       "      <td>0</td>\n",
       "      <td>0</td>\n",
       "    </tr>\n",
       "    <tr>\n",
       "      <th>5241632</th>\n",
       "      <td>samsbox24</td>\n",
       "      <td>2014-08-20 01:00:00</td>\n",
       "      <td>173.194.137.147</td>\n",
       "      <td>0</td>\n",
       "      <td>0</td>\n",
       "      <td>0</td>\n",
       "    </tr>\n",
       "    <tr>\n",
       "      <th>5241633</th>\n",
       "      <td>samsbox24</td>\n",
       "      <td>2014-08-20 00:00:00</td>\n",
       "      <td>None</td>\n",
       "      <td>0</td>\n",
       "      <td>0</td>\n",
       "      <td>0</td>\n",
       "    </tr>\n",
       "  </tbody>\n",
       "</table>\n",
       "</div>"
      ],
      "text/plain": [
       "             probe                dtime    video_address  stall_events  \\\n",
       "5241629  samsbox24  2014-08-20 04:00:00  173.194.137.147             0   \n",
       "5241630  samsbox24  2014-08-20 03:00:00             None             0   \n",
       "5241631  samsbox24  2014-08-20 02:00:00             None             0   \n",
       "5241632  samsbox24  2014-08-20 01:00:00  173.194.137.147             0   \n",
       "5241633  samsbox24  2014-08-20 00:00:00             None             0   \n",
       "\n",
       "         stall_duration_avg  stall_duration_total  \n",
       "5241629                   0                     0  \n",
       "5241630                   0                     0  \n",
       "5241631                   0                     0  \n",
       "5241632                   0                     0  \n",
       "5241633                   0                     0  "
      ]
     },
     "execution_count": 13,
     "metadata": {},
     "output_type": "execute_result"
    }
   ],
   "source": [
    "df.tail()"
   ]
  },
  {
   "cell_type": "code",
   "execution_count": 14,
   "metadata": {},
   "outputs": [
    {
     "data": {
      "text/plain": [
       "probe                   5241634\n",
       "dtime                   5241634\n",
       "video_address           4727767\n",
       "stall_events            5241634\n",
       "stall_duration_avg      5241634\n",
       "stall_duration_total    5241634\n",
       "dtype: int64"
      ]
     },
     "execution_count": 14,
     "metadata": {},
     "output_type": "execute_result"
    }
   ],
   "source": [
    "df.count()"
   ]
  },
  {
   "cell_type": "code",
   "execution_count": 15,
   "metadata": {
    "collapsed": true
   },
   "outputs": [],
   "source": [
    "def get_af_from_endpoint(ep):\n",
    "    if ep is None: return None\n",
    "    elif fbi.if_ipv6(ep): return 'v6'\n",
    "    elif fbi.if_ipv4(ep): return 'v4'\n",
    "    else: print('.'); return None"
   ]
  },
  {
   "cell_type": "code",
   "execution_count": 16,
   "metadata": {},
   "outputs": [
    {
     "name": "stdout",
     "output_type": "stream",
     "text": [
      ".\n"
     ]
    }
   ],
   "source": [
    "df['af'] = df['video_address'].apply(get_af_from_endpoint)"
   ]
  },
  {
   "cell_type": "code",
   "execution_count": 17,
   "metadata": {},
   "outputs": [
    {
     "data": {
      "text/plain": [
       "probe                   5241634\n",
       "dtime                   5241634\n",
       "video_address           4727767\n",
       "stall_events            5241634\n",
       "stall_duration_avg      5241634\n",
       "stall_duration_total    5241634\n",
       "af                      4727766\n",
       "dtype: int64"
      ]
     },
     "execution_count": 17,
     "metadata": {},
     "output_type": "execute_result"
    }
   ],
   "source": [
    "df.count()"
   ]
  },
  {
   "cell_type": "code",
   "execution_count": 18,
   "metadata": {},
   "outputs": [
    {
     "data": {
      "text/html": [
       "<div>\n",
       "<style>\n",
       "    .dataframe thead tr:only-child th {\n",
       "        text-align: right;\n",
       "    }\n",
       "\n",
       "    .dataframe thead th {\n",
       "        text-align: left;\n",
       "    }\n",
       "\n",
       "    .dataframe tbody tr th {\n",
       "        vertical-align: top;\n",
       "    }\n",
       "</style>\n",
       "<table border=\"1\" class=\"dataframe\">\n",
       "  <thead>\n",
       "    <tr style=\"text-align: right;\">\n",
       "      <th></th>\n",
       "      <th>probe</th>\n",
       "      <th>dtime</th>\n",
       "      <th>video_address</th>\n",
       "      <th>stall_events</th>\n",
       "      <th>stall_duration_avg</th>\n",
       "      <th>stall_duration_total</th>\n",
       "      <th>af</th>\n",
       "    </tr>\n",
       "  </thead>\n",
       "  <tbody>\n",
       "    <tr>\n",
       "      <th>0</th>\n",
       "      <td>samsbox08</td>\n",
       "      <td>2017-06-27 23:00:00</td>\n",
       "      <td>2001:b30:ef00:99ca::c</td>\n",
       "      <td>0</td>\n",
       "      <td>0</td>\n",
       "      <td>0</td>\n",
       "      <td>v6</td>\n",
       "    </tr>\n",
       "    <tr>\n",
       "      <th>1</th>\n",
       "      <td>samsbox08</td>\n",
       "      <td>2017-06-27 23:00:00</td>\n",
       "      <td>195.95.178.204</td>\n",
       "      <td>0</td>\n",
       "      <td>0</td>\n",
       "      <td>0</td>\n",
       "      <td>v4</td>\n",
       "    </tr>\n",
       "    <tr>\n",
       "      <th>2</th>\n",
       "      <td>samsbox45</td>\n",
       "      <td>2017-06-27 23:00:00</td>\n",
       "      <td>None</td>\n",
       "      <td>0</td>\n",
       "      <td>0</td>\n",
       "      <td>0</td>\n",
       "      <td>None</td>\n",
       "    </tr>\n",
       "    <tr>\n",
       "      <th>3</th>\n",
       "      <td>samsbox03</td>\n",
       "      <td>2017-06-27 23:00:00</td>\n",
       "      <td>2001:1a80:801::c</td>\n",
       "      <td>0</td>\n",
       "      <td>0</td>\n",
       "      <td>0</td>\n",
       "      <td>v6</td>\n",
       "    </tr>\n",
       "    <tr>\n",
       "      <th>4</th>\n",
       "      <td>samsbox45</td>\n",
       "      <td>2017-06-27 23:00:00</td>\n",
       "      <td>173.194.20.202</td>\n",
       "      <td>0</td>\n",
       "      <td>0</td>\n",
       "      <td>0</td>\n",
       "      <td>v4</td>\n",
       "    </tr>\n",
       "  </tbody>\n",
       "</table>\n",
       "</div>"
      ],
      "text/plain": [
       "       probe                dtime          video_address  stall_events  \\\n",
       "0  samsbox08  2017-06-27 23:00:00  2001:b30:ef00:99ca::c             0   \n",
       "1  samsbox08  2017-06-27 23:00:00         195.95.178.204             0   \n",
       "2  samsbox45  2017-06-27 23:00:00                   None             0   \n",
       "3  samsbox03  2017-06-27 23:00:00       2001:1a80:801::c             0   \n",
       "4  samsbox45  2017-06-27 23:00:00         173.194.20.202             0   \n",
       "\n",
       "   stall_duration_avg  stall_duration_total    af  \n",
       "0                   0                     0    v6  \n",
       "1                   0                     0    v4  \n",
       "2                   0                     0  None  \n",
       "3                   0                     0    v6  \n",
       "4                   0                     0    v4  "
      ]
     },
     "execution_count": 18,
     "metadata": {},
     "output_type": "execute_result"
    }
   ],
   "source": [
    "df.head()"
   ]
  },
  {
   "cell_type": "code",
   "execution_count": 19,
   "metadata": {
    "collapsed": true
   },
   "outputs": [],
   "source": [
    "dfgroupby = cbc.group(df, column=['probe', 'af'])"
   ]
  },
  {
   "cell_type": "code",
   "execution_count": 20,
   "metadata": {
    "collapsed": true
   },
   "outputs": [],
   "source": [
    "df_agg = cbc.aggregate(dfgroupby, ['stall_events'], ['sum', 'count'])"
   ]
  },
  {
   "cell_type": "code",
   "execution_count": 21,
   "metadata": {
    "collapsed": true
   },
   "outputs": [],
   "source": [
    "df_merged = cbc.merge(df, df_agg, column=['probe', 'af'])"
   ]
  },
  {
   "cell_type": "code",
   "execution_count": 22,
   "metadata": {
    "collapsed": true
   },
   "outputs": [],
   "source": [
    "df = df_merged.drop(['dtime', 'video_address', 'stall_events', 'stall_duration_avg', 'stall_duration_total'], axis=1)"
   ]
  },
  {
   "cell_type": "code",
   "execution_count": 23,
   "metadata": {
    "collapsed": true
   },
   "outputs": [],
   "source": [
    "df = df.drop_duplicates()"
   ]
  },
  {
   "cell_type": "code",
   "execution_count": 24,
   "metadata": {},
   "outputs": [
    {
     "data": {
      "text/html": [
       "<div>\n",
       "<style>\n",
       "    .dataframe thead tr:only-child th {\n",
       "        text-align: right;\n",
       "    }\n",
       "\n",
       "    .dataframe thead th {\n",
       "        text-align: left;\n",
       "    }\n",
       "\n",
       "    .dataframe tbody tr th {\n",
       "        vertical-align: top;\n",
       "    }\n",
       "</style>\n",
       "<table border=\"1\" class=\"dataframe\">\n",
       "  <thead>\n",
       "    <tr style=\"text-align: right;\">\n",
       "      <th></th>\n",
       "      <th>probe</th>\n",
       "      <th>af</th>\n",
       "      <th>(stall_events, sum)</th>\n",
       "      <th>(stall_events, count)</th>\n",
       "    </tr>\n",
       "  </thead>\n",
       "  <tbody>\n",
       "    <tr>\n",
       "      <th>0</th>\n",
       "      <td>samsbox08</td>\n",
       "      <td>v6</td>\n",
       "      <td>15</td>\n",
       "      <td>26892</td>\n",
       "    </tr>\n",
       "    <tr>\n",
       "      <th>1</th>\n",
       "      <td>samsbox08</td>\n",
       "      <td>v4</td>\n",
       "      <td>30</td>\n",
       "      <td>32804</td>\n",
       "    </tr>\n",
       "    <tr>\n",
       "      <th>3</th>\n",
       "      <td>samsbox03</td>\n",
       "      <td>v6</td>\n",
       "      <td>20</td>\n",
       "      <td>38994</td>\n",
       "    </tr>\n",
       "    <tr>\n",
       "      <th>4</th>\n",
       "      <td>samsbox45</td>\n",
       "      <td>v4</td>\n",
       "      <td>17</td>\n",
       "      <td>34372</td>\n",
       "    </tr>\n",
       "    <tr>\n",
       "      <th>5</th>\n",
       "      <td>samsbox03</td>\n",
       "      <td>v4</td>\n",
       "      <td>9</td>\n",
       "      <td>37683</td>\n",
       "    </tr>\n",
       "  </tbody>\n",
       "</table>\n",
       "</div>"
      ],
      "text/plain": [
       "       probe  af  (stall_events, sum)  (stall_events, count)\n",
       "0  samsbox08  v6                   15                  26892\n",
       "1  samsbox08  v4                   30                  32804\n",
       "3  samsbox03  v6                   20                  38994\n",
       "4  samsbox45  v4                   17                  34372\n",
       "5  samsbox03  v4                    9                  37683"
      ]
     },
     "execution_count": 24,
     "metadata": {},
     "output_type": "execute_result"
    }
   ],
   "source": [
    "df.head()"
   ]
  },
  {
   "cell_type": "code",
   "execution_count": 25,
   "metadata": {
    "collapsed": true
   },
   "outputs": [],
   "source": [
    "df.rename( columns={  df.columns[-1]: 'stall_count'\n",
    "                    , df.columns[-2]: 'stall_sum'\n",
    "                    , df.columns[-3]: 'af'\n",
    "                    , df.columns[-4]: 'probe'}\n",
    "                , inplace=True)"
   ]
  },
  {
   "cell_type": "code",
   "execution_count": 26,
   "metadata": {
    "collapsed": true
   },
   "outputs": [],
   "source": [
    "dfv6 = df[df.af == 'v6']\n",
    "dfv4 = df[df.af == 'v4']"
   ]
  },
  {
   "cell_type": "code",
   "execution_count": 27,
   "metadata": {
    "collapsed": true
   },
   "outputs": [],
   "source": [
    "def cal_stall_rate(x):\n",
    "    success = x['stall_sum']\n",
    "    total   = x['stall_count']    \n",
    "    \n",
    "    rate = (success / total) * 100\n",
    "    return rate\n",
    "\n",
    "dfv6['stall_rate'] = dfv6.apply(cal_stall_rate, axis = 1)\n",
    "dfv4['stall_rate'] = dfv4.apply(cal_stall_rate, axis = 1)"
   ]
  },
  {
   "cell_type": "code",
   "execution_count": 28,
   "metadata": {},
   "outputs": [
    {
     "data": {
      "text/html": [
       "<div>\n",
       "<style>\n",
       "    .dataframe thead tr:only-child th {\n",
       "        text-align: right;\n",
       "    }\n",
       "\n",
       "    .dataframe thead th {\n",
       "        text-align: left;\n",
       "    }\n",
       "\n",
       "    .dataframe tbody tr th {\n",
       "        vertical-align: top;\n",
       "    }\n",
       "</style>\n",
       "<table border=\"1\" class=\"dataframe\">\n",
       "  <thead>\n",
       "    <tr style=\"text-align: right;\">\n",
       "      <th></th>\n",
       "      <th>probe</th>\n",
       "      <th>af</th>\n",
       "      <th>stall_sum</th>\n",
       "      <th>stall_count</th>\n",
       "      <th>stall_rate</th>\n",
       "    </tr>\n",
       "  </thead>\n",
       "  <tbody>\n",
       "    <tr>\n",
       "      <th>1</th>\n",
       "      <td>samsbox08</td>\n",
       "      <td>v4</td>\n",
       "      <td>30</td>\n",
       "      <td>32804</td>\n",
       "      <td>0.091452</td>\n",
       "    </tr>\n",
       "    <tr>\n",
       "      <th>4</th>\n",
       "      <td>samsbox45</td>\n",
       "      <td>v4</td>\n",
       "      <td>17</td>\n",
       "      <td>34372</td>\n",
       "      <td>0.049459</td>\n",
       "    </tr>\n",
       "    <tr>\n",
       "      <th>5</th>\n",
       "      <td>samsbox03</td>\n",
       "      <td>v4</td>\n",
       "      <td>9</td>\n",
       "      <td>37683</td>\n",
       "      <td>0.023883</td>\n",
       "    </tr>\n",
       "    <tr>\n",
       "      <th>7</th>\n",
       "      <td>samsbox97</td>\n",
       "      <td>v4</td>\n",
       "      <td>0</td>\n",
       "      <td>15568</td>\n",
       "      <td>0.000000</td>\n",
       "    </tr>\n",
       "    <tr>\n",
       "      <th>12</th>\n",
       "      <td>samsbox51</td>\n",
       "      <td>v4</td>\n",
       "      <td>28</td>\n",
       "      <td>31959</td>\n",
       "      <td>0.087612</td>\n",
       "    </tr>\n",
       "  </tbody>\n",
       "</table>\n",
       "</div>"
      ],
      "text/plain": [
       "        probe  af  stall_sum  stall_count  stall_rate\n",
       "1   samsbox08  v4         30        32804    0.091452\n",
       "4   samsbox45  v4         17        34372    0.049459\n",
       "5   samsbox03  v4          9        37683    0.023883\n",
       "7   samsbox97  v4          0        15568    0.000000\n",
       "12  samsbox51  v4         28        31959    0.087612"
      ]
     },
     "execution_count": 28,
     "metadata": {},
     "output_type": "execute_result"
    }
   ],
   "source": [
    "dfv4.head()"
   ]
  },
  {
   "cell_type": "code",
   "execution_count": 29,
   "metadata": {},
   "outputs": [
    {
     "data": {
      "text/html": [
       "<div>\n",
       "<style>\n",
       "    .dataframe thead tr:only-child th {\n",
       "        text-align: right;\n",
       "    }\n",
       "\n",
       "    .dataframe thead th {\n",
       "        text-align: left;\n",
       "    }\n",
       "\n",
       "    .dataframe tbody tr th {\n",
       "        vertical-align: top;\n",
       "    }\n",
       "</style>\n",
       "<table border=\"1\" class=\"dataframe\">\n",
       "  <thead>\n",
       "    <tr style=\"text-align: right;\">\n",
       "      <th></th>\n",
       "      <th>probe</th>\n",
       "      <th>af</th>\n",
       "      <th>stall_sum</th>\n",
       "      <th>stall_count</th>\n",
       "      <th>stall_rate</th>\n",
       "    </tr>\n",
       "  </thead>\n",
       "  <tbody>\n",
       "    <tr>\n",
       "      <th>0</th>\n",
       "      <td>samsbox08</td>\n",
       "      <td>v6</td>\n",
       "      <td>15</td>\n",
       "      <td>26892</td>\n",
       "      <td>0.055779</td>\n",
       "    </tr>\n",
       "    <tr>\n",
       "      <th>3</th>\n",
       "      <td>samsbox03</td>\n",
       "      <td>v6</td>\n",
       "      <td>20</td>\n",
       "      <td>38994</td>\n",
       "      <td>0.051290</td>\n",
       "    </tr>\n",
       "    <tr>\n",
       "      <th>6</th>\n",
       "      <td>samsbox97</td>\n",
       "      <td>v6</td>\n",
       "      <td>0</td>\n",
       "      <td>14529</td>\n",
       "      <td>0.000000</td>\n",
       "    </tr>\n",
       "    <tr>\n",
       "      <th>8</th>\n",
       "      <td>samsbox51</td>\n",
       "      <td>v6</td>\n",
       "      <td>7</td>\n",
       "      <td>29486</td>\n",
       "      <td>0.023740</td>\n",
       "    </tr>\n",
       "    <tr>\n",
       "      <th>9</th>\n",
       "      <td>samsbox33</td>\n",
       "      <td>v6</td>\n",
       "      <td>28</td>\n",
       "      <td>30261</td>\n",
       "      <td>0.092528</td>\n",
       "    </tr>\n",
       "  </tbody>\n",
       "</table>\n",
       "</div>"
      ],
      "text/plain": [
       "       probe  af  stall_sum  stall_count  stall_rate\n",
       "0  samsbox08  v6         15        26892    0.055779\n",
       "3  samsbox03  v6         20        38994    0.051290\n",
       "6  samsbox97  v6          0        14529    0.000000\n",
       "8  samsbox51  v6          7        29486    0.023740\n",
       "9  samsbox33  v6         28        30261    0.092528"
      ]
     },
     "execution_count": 29,
     "metadata": {},
     "output_type": "execute_result"
    }
   ],
   "source": [
    "dfv6.head()"
   ]
  },
  {
   "cell_type": "code",
   "execution_count": 30,
   "metadata": {
    "collapsed": true
   },
   "outputs": [],
   "source": [
    "import Cdf\n",
    "import Pmf\n",
    "samplev4 = dfv4['stall_rate'].values\n",
    "samplev6 = dfv6['stall_rate'].values\n",
    "\n",
    "c4 = Cdf.MakeCdfFromList(samplev4)\n",
    "c6 = Cdf.MakeCdfFromList(samplev6)\n",
    "\n",
    "cc4 = [1 - p for x, p in c4.Items()]\n",
    "cc6 = [1 - p for x, p in c6.Items()]"
   ]
  },
  {
   "cell_type": "code",
   "execution_count": 49,
   "metadata": {},
   "outputs": [
    {
     "data": {
      "image/png": "[encoded data removed]",
      "text/plain": [
       "<matplotlib.figure.Figure at 0x7f493b09a278>"
      ]
     },
     "metadata": {},
     "output_type": "display_data"
    }
   ],
   "source": [
    "fig = plt.figure(figsize=(5, 3))\n",
    "plt.rcParams['font.size'] = 12\n",
    "\n",
    "yticks = np.arange(0,1.1,0.2)\n",
    "xticks = np.arange(0,110,5)\n",
    "\n",
    "ax1 = fig.add_subplot(211)\n",
    "ax2 = fig.add_subplot(212, sharex=ax1)\n",
    "\n",
    "ax1.spines['right'].set_color('none')\n",
    "ax1.spines['top'].set_color('none')\n",
    "ax1.yaxis.set_ticks_position('left')\n",
    "ax1.xaxis.set_ticks_position('bottom')\n",
    "ax1.spines['bottom'].set_position(('axes', -0.05))\n",
    "ax1.spines['left'].set_position(('axes', -0.05))\n",
    "\n",
    "ax2.spines['right'].set_color('none')\n",
    "ax2.spines['top'].set_color('none')\n",
    "ax2.yaxis.set_ticks_position('left')\n",
    "ax2.xaxis.set_ticks_position('bottom')\n",
    "ax2.spines['bottom'].set_position(('axes', -0.05))\n",
    "ax2.spines['left'].set_position(('axes', -0.05))\n",
    "\n",
    "ax1.plot(c6.xs, c6.ps, marker='s', linewidth=0.3, markersize=5, fillstyle='none', color = 'Red')\n",
    "ax2.plot(c4.xs, c4.ps, marker='o', linewidth=0.3, markersize=5, fillstyle='none', color = 'Blue')\n",
    "\n",
    "ax1.grid(False)\n",
    "ax1.set_yticks(yticks)\n",
    "ax1.set_xticks(xticks)\n",
    "ax1.set_ylim([0,1.05])\n",
    "ax1.set_xlim([-1,30])\n",
    "ax1.set_xlabel('', fontsize=12)\n",
    "\n",
    "ax2.grid(False)\n",
    "ax2.set_yticks(yticks)\n",
    "ax2.set_xticks(xticks)\n",
    "ax2.set_ylim([0,1.05])\n",
    "ax2.set_xlim([-1,30])\n",
    "ax2.set_xlabel('', fontsize=12)\n",
    "\n",
    "ax1_ = ax1.twinx()\n",
    "ax1_.spines['right'].set_color('none')\n",
    "ax1_.spines['top'].set_color('none')\n",
    "ax1_.spines['left'].set_color('none')\n",
    "ax1_.spines['bottom'].set_color('none')\n",
    "ax1_.yaxis.set_ticks_position('none')\n",
    "ax1_.set_ylabel('[\\'14 - \\'17]', fontsize = 12)\n",
    "ax1_.yaxis.set_label_coords(1.05, -0.2)\n",
    "plt.setp(ax1_.get_yticklabels(), visible=False)\n",
    "\n",
    "fig.subplots_adjust(hspace = 0.3)\n",
    "\n",
    "def to_percent(x, position): return str(int(x)) + '%'\n",
    "ax1.xaxis.set_major_formatter(FuncFormatter(to_percent))\n",
    "ax2.xaxis.set_major_formatter(FuncFormatter(to_percent))\n",
    "\n",
    "plt.setp(ax1.get_xticklabels(), visible=False)\n",
    "\n",
    "ax1.legend(['IPv6 (102)'], fontsize=12, loc='lower right')\n",
    "ax2.legend(['IPv4 (102)'], fontsize=12, loc='lower right')\n",
    "\n",
    "ax1.yaxis.set_label_coords(-0.18, -0.2)\n",
    "ax1.set_ylabel('CDF', fontsize=12)\n",
    "\n",
    "ax1.set_title('Stall Rate', fontsize=12, y=1.05)\n",
    "plt.savefig('yt-stall-rate-probes-cdf.pdf', format='pdf', bbox_inches='tight')"
   ]
  },
  {
   "cell_type": "code",
   "execution_count": 32,
   "metadata": {
    "collapsed": true
   },
   "outputs": [],
   "source": [
    "with open('yt-stall-rate-v4.csv', 'w') as f: \n",
    "    f.write('values; percentile\\n')\n",
    "    for x, y in zip(c4.xs, c4.ps): f.write('%.2f; %.2f\\n'%(x,y))\n",
    "        \n",
    "with open('yt-stall-rate-v6.csv', 'w') as f: \n",
    "    f.write('values; percentile\\n')\n",
    "    for x, y in zip(c6.xs, c6.ps): f.write('%.2f; %.2f\\n'%(x,y))        "
   ]
  }
 ],
 "metadata": {
  "kernelspec": {
   "display_name": "Python 3",
   "language": "python",
   "name": "python3"
  },
  "language_info": {
   "codemirror_mode": {
    "name": "ipython",
    "version": 3
   },
   "file_extension": ".py",
   "mimetype": "text/x-python",
   "name": "python",
   "nbconvert_exporter": "python",
   "pygments_lexer": "ipython3",
   "version": "3.5.3"
  }
 },
 "nbformat": 4,
 "nbformat_minor": 1
}
