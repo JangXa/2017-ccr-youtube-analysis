{
 "cells": [
  {
   "cell_type": "code",
   "execution_count": 1,
   "metadata": {},
   "outputs": [],
   "source": [
    "import sqlite3\n",
    "import pandas as pd\n",
    "import filterbyip as fbi\n",
    "import requests\n",
    "import asinfo\n",
    "import clusterbycolumn as cbc"
   ]
  },
  {
   "cell_type": "code",
   "execution_count": 2,
   "metadata": {},
   "outputs": [
    {
     "name": "stdout",
     "output_type": "stream",
     "text": [
      "Populating the interactive namespace from numpy and matplotlib\n"
     ]
    }
   ],
   "source": [
    "import warnings\n",
    "warnings.filterwarnings('ignore')\n",
    "\n",
    "%pylab inline"
   ]
  },
  {
   "cell_type": "code",
   "execution_count": 3,
   "metadata": {},
   "outputs": [
    {
     "data": {
      "text/html": [
       "<style>body {\n",
       "    margin: 0;\n",
       "    font-family: Helvetica;\n",
       "}\n",
       "table.dataframe {\n",
       "    border-collapse: collapse;\n",
       "    border: none;\n",
       "}\n",
       "table.dataframe tr {\n",
       "    border: none;\n",
       "}\n",
       "table.dataframe td, table.dataframe th {\n",
       "    margin: 0;\n",
       "    border: 1px solid white;\n",
       "    padding-left: 0.25em;\n",
       "    padding-right: 0.25em;\n",
       "}\n",
       "table.dataframe th:not(:empty) {\n",
       "    background-color: #fec;\n",
       "    text-align: left;\n",
       "    font-weight: normal;\n",
       "}\n",
       "table.dataframe tr:nth-child(2) th:empty {\n",
       "    border-left: none;\n",
       "    border-right: 1px dashed #888;\n",
       "}\n",
       "table.dataframe td {\n",
       "    border: 2px solid #ccf;\n",
       "    background-color: #f4f4ff;\n",
       "}\n",
       "h3 {\n",
       "    color: white;\n",
       "    background-color: black;\n",
       "    padding: 0.5em;\n",
       "}\n",
       "\n",
       ".CodeMirror {\n",
       "    font-family: 'Monaco for Powerline';\n",
       "}\n",
       "\n",
       "div.cell.code_cell {\n",
       "    font-family: 'Monaco for Powerline';\n",
       "}\n",
       "\n",
       "div.output_area pre {\n",
       "    font-family: 'Monaco for Powerline';\n",
       "}\n",
       "</style>"
      ],
      "text/plain": [
       "<IPython.core.display.HTML object>"
      ]
     },
     "execution_count": 3,
     "metadata": {},
     "output_type": "execute_result"
    }
   ],
   "source": [
    "from IPython.core.display import HTML\n",
    "css = open('style-table.css').read() + open('style-notebook.css').read()\n",
    "HTML('<style>{}</style>'.format(css))"
   ]
  },
  {
   "cell_type": "code",
   "execution_count": 4,
   "metadata": {},
   "outputs": [],
   "source": [
    "def asn_from_probe_name(probe_name):\n",
    "    base = 'http://leone-collector.eecs.jacobs-university.de/msmpoint'\n",
    "    msm_metadata = requests.get('%s/%s'%(base, probe_name))\n",
    "    asn4 = str(msm_metadata.json()['asn4'])\n",
    "    asn6 = str(msm_metadata.json()['asn6'])\n",
    "    return asn4,asn6"
   ]
  },
  {
   "cell_type": "code",
   "execution_count": 5,
   "metadata": {},
   "outputs": [],
   "source": [
    "dailydb_location = '/data/vbajpai/datasets/youtube-data-collection-python3/youtube.db'"
   ]
  },
  {
   "cell_type": "code",
   "execution_count": 6,
   "metadata": {},
   "outputs": [],
   "source": [
    "query = '''select   msmpoint.name as probe\n",
    "                  , dtime\n",
    "                  , video_address\n",
    "                  , stall_duration_total\n",
    "                  \n",
    "           from youtube, msmpoint\n",
    "           where youtube.unit_id = msmpoint.skunitid\n",
    "           and msmpoint.skunitid <> ''\n",
    "           \n",
    "           and successes = 1\n",
    "           and failures = 0\n",
    "           \n",
    "           and stall_events <> 0\n",
    "           \n",
    "           order by dtime DESC\n",
    "        '''"
   ]
  },
  {
   "cell_type": "code",
   "execution_count": 7,
   "metadata": {},
   "outputs": [],
   "source": [
    "con = sqlite3.connect(dailydb_location)\n",
    "df = pd.read_sql(query, con)"
   ]
  },
  {
   "cell_type": "code",
   "execution_count": 8,
   "metadata": {},
   "outputs": [
    {
     "data": {
      "text/html": [
       "<div>\n",
       "<style>\n",
       "    .dataframe thead tr:only-child th {\n",
       "        text-align: right;\n",
       "    }\n",
       "\n",
       "    .dataframe thead th {\n",
       "        text-align: left;\n",
       "    }\n",
       "\n",
       "    .dataframe tbody tr th {\n",
       "        vertical-align: top;\n",
       "    }\n",
       "</style>\n",
       "<table border=\"1\" class=\"dataframe\">\n",
       "  <thead>\n",
       "    <tr style=\"text-align: right;\">\n",
       "      <th></th>\n",
       "      <th>probe</th>\n",
       "      <th>dtime</th>\n",
       "      <th>video_address</th>\n",
       "      <th>stall_duration_total</th>\n",
       "    </tr>\n",
       "  </thead>\n",
       "  <tbody>\n",
       "    <tr>\n",
       "      <th>0</th>\n",
       "      <td>samsbox88</td>\n",
       "      <td>2017-04-26 23:24:06</td>\n",
       "      <td>173.194.5.201</td>\n",
       "      <td>31840282</td>\n",
       "    </tr>\n",
       "    <tr>\n",
       "      <th>1</th>\n",
       "      <td>samsbox88</td>\n",
       "      <td>2017-04-26 23:24:06</td>\n",
       "      <td>173.194.5.201</td>\n",
       "      <td>31840282</td>\n",
       "    </tr>\n",
       "    <tr>\n",
       "      <th>2</th>\n",
       "      <td>samsbox88</td>\n",
       "      <td>2017-04-26 23:24:06</td>\n",
       "      <td>173.194.5.201</td>\n",
       "      <td>31840282</td>\n",
       "    </tr>\n",
       "    <tr>\n",
       "      <th>3</th>\n",
       "      <td>samsbox88</td>\n",
       "      <td>2017-04-26 23:24:06</td>\n",
       "      <td>173.194.5.201</td>\n",
       "      <td>31840282</td>\n",
       "    </tr>\n",
       "    <tr>\n",
       "      <th>4</th>\n",
       "      <td>samsbox88</td>\n",
       "      <td>2017-04-26 23:24:06</td>\n",
       "      <td>173.194.5.201</td>\n",
       "      <td>31840282</td>\n",
       "    </tr>\n",
       "  </tbody>\n",
       "</table>\n",
       "</div>"
      ],
      "text/plain": [
       "       probe                dtime  video_address  stall_duration_total\n",
       "0  samsbox88  2017-04-26 23:24:06  173.194.5.201              31840282\n",
       "1  samsbox88  2017-04-26 23:24:06  173.194.5.201              31840282\n",
       "2  samsbox88  2017-04-26 23:24:06  173.194.5.201              31840282\n",
       "3  samsbox88  2017-04-26 23:24:06  173.194.5.201              31840282\n",
       "4  samsbox88  2017-04-26 23:24:06  173.194.5.201              31840282"
      ]
     },
     "execution_count": 8,
     "metadata": {},
     "output_type": "execute_result"
    }
   ],
   "source": [
    "df.head()"
   ]
  },
  {
   "cell_type": "code",
   "execution_count": 9,
   "metadata": {},
   "outputs": [],
   "source": [
    "num_probes = len(set(df['probe']))"
   ]
  },
  {
   "cell_type": "code",
   "execution_count": 10,
   "metadata": {},
   "outputs": [],
   "source": [
    "def round_time_to_nearest_hour(dtime):\n",
    "    import datetime;    \n",
    "    d = datetime.datetime.strptime(dtime, \"%Y-%m-%d %H:%M:%S\")\n",
    "    d = d.replace(minute=0, second=0)\n",
    "    dtime = d.strftime('%Y-%m-%d %H:%M:%S')\n",
    "    return dtime"
   ]
  },
  {
   "cell_type": "code",
   "execution_count": 11,
   "metadata": {},
   "outputs": [],
   "source": [
    "df['dtime'] = df['dtime'].apply(round_time_to_nearest_hour)"
   ]
  },
  {
   "cell_type": "code",
   "execution_count": 12,
   "metadata": {},
   "outputs": [
    {
     "data": {
      "text/html": [
       "<div>\n",
       "<style>\n",
       "    .dataframe thead tr:only-child th {\n",
       "        text-align: right;\n",
       "    }\n",
       "\n",
       "    .dataframe thead th {\n",
       "        text-align: left;\n",
       "    }\n",
       "\n",
       "    .dataframe tbody tr th {\n",
       "        vertical-align: top;\n",
       "    }\n",
       "</style>\n",
       "<table border=\"1\" class=\"dataframe\">\n",
       "  <thead>\n",
       "    <tr style=\"text-align: right;\">\n",
       "      <th></th>\n",
       "      <th>probe</th>\n",
       "      <th>dtime</th>\n",
       "      <th>video_address</th>\n",
       "      <th>stall_duration_total</th>\n",
       "    </tr>\n",
       "  </thead>\n",
       "  <tbody>\n",
       "    <tr>\n",
       "      <th>0</th>\n",
       "      <td>samsbox88</td>\n",
       "      <td>2017-04-26 23:00:00</td>\n",
       "      <td>173.194.5.201</td>\n",
       "      <td>31840282</td>\n",
       "    </tr>\n",
       "    <tr>\n",
       "      <th>1</th>\n",
       "      <td>samsbox88</td>\n",
       "      <td>2017-04-26 23:00:00</td>\n",
       "      <td>173.194.5.201</td>\n",
       "      <td>31840282</td>\n",
       "    </tr>\n",
       "    <tr>\n",
       "      <th>2</th>\n",
       "      <td>samsbox88</td>\n",
       "      <td>2017-04-26 23:00:00</td>\n",
       "      <td>173.194.5.201</td>\n",
       "      <td>31840282</td>\n",
       "    </tr>\n",
       "    <tr>\n",
       "      <th>3</th>\n",
       "      <td>samsbox88</td>\n",
       "      <td>2017-04-26 23:00:00</td>\n",
       "      <td>173.194.5.201</td>\n",
       "      <td>31840282</td>\n",
       "    </tr>\n",
       "    <tr>\n",
       "      <th>4</th>\n",
       "      <td>samsbox88</td>\n",
       "      <td>2017-04-26 23:00:00</td>\n",
       "      <td>173.194.5.201</td>\n",
       "      <td>31840282</td>\n",
       "    </tr>\n",
       "  </tbody>\n",
       "</table>\n",
       "</div>"
      ],
      "text/plain": [
       "       probe                dtime  video_address  stall_duration_total\n",
       "0  samsbox88  2017-04-26 23:00:00  173.194.5.201              31840282\n",
       "1  samsbox88  2017-04-26 23:00:00  173.194.5.201              31840282\n",
       "2  samsbox88  2017-04-26 23:00:00  173.194.5.201              31840282\n",
       "3  samsbox88  2017-04-26 23:00:00  173.194.5.201              31840282\n",
       "4  samsbox88  2017-04-26 23:00:00  173.194.5.201              31840282"
      ]
     },
     "execution_count": 12,
     "metadata": {},
     "output_type": "execute_result"
    }
   ],
   "source": [
    "df.head()"
   ]
  },
  {
   "cell_type": "code",
   "execution_count": 13,
   "metadata": {},
   "outputs": [
    {
     "data": {
      "text/html": [
       "<div>\n",
       "<style>\n",
       "    .dataframe thead tr:only-child th {\n",
       "        text-align: right;\n",
       "    }\n",
       "\n",
       "    .dataframe thead th {\n",
       "        text-align: left;\n",
       "    }\n",
       "\n",
       "    .dataframe tbody tr th {\n",
       "        vertical-align: top;\n",
       "    }\n",
       "</style>\n",
       "<table border=\"1\" class=\"dataframe\">\n",
       "  <thead>\n",
       "    <tr style=\"text-align: right;\">\n",
       "      <th></th>\n",
       "      <th>probe</th>\n",
       "      <th>dtime</th>\n",
       "      <th>video_address</th>\n",
       "      <th>stall_duration_total</th>\n",
       "    </tr>\n",
       "  </thead>\n",
       "  <tbody>\n",
       "    <tr>\n",
       "      <th>1868</th>\n",
       "      <td>samsbox10</td>\n",
       "      <td>2014-08-21 15:00:00</td>\n",
       "      <td>2a00:1450:4009:36::e</td>\n",
       "      <td>55735572</td>\n",
       "    </tr>\n",
       "    <tr>\n",
       "      <th>1869</th>\n",
       "      <td>samsbox07</td>\n",
       "      <td>2014-08-21 14:00:00</td>\n",
       "      <td>2a00:1450:4009:36::e</td>\n",
       "      <td>55867638</td>\n",
       "    </tr>\n",
       "    <tr>\n",
       "      <th>1870</th>\n",
       "      <td>samsbox10</td>\n",
       "      <td>2014-08-21 14:00:00</td>\n",
       "      <td>2a00:1450:4009:36::e</td>\n",
       "      <td>56905588</td>\n",
       "    </tr>\n",
       "    <tr>\n",
       "      <th>1871</th>\n",
       "      <td>samsbox07</td>\n",
       "      <td>2014-08-21 13:00:00</td>\n",
       "      <td>2a00:1450:4009:36::e</td>\n",
       "      <td>56793754</td>\n",
       "    </tr>\n",
       "    <tr>\n",
       "      <th>1872</th>\n",
       "      <td>samsbox10</td>\n",
       "      <td>2014-08-21 13:00:00</td>\n",
       "      <td>2a00:1450:4009:36::e</td>\n",
       "      <td>56835570</td>\n",
       "    </tr>\n",
       "  </tbody>\n",
       "</table>\n",
       "</div>"
      ],
      "text/plain": [
       "          probe                dtime         video_address  \\\n",
       "1868  samsbox10  2014-08-21 15:00:00  2a00:1450:4009:36::e   \n",
       "1869  samsbox07  2014-08-21 14:00:00  2a00:1450:4009:36::e   \n",
       "1870  samsbox10  2014-08-21 14:00:00  2a00:1450:4009:36::e   \n",
       "1871  samsbox07  2014-08-21 13:00:00  2a00:1450:4009:36::e   \n",
       "1872  samsbox10  2014-08-21 13:00:00  2a00:1450:4009:36::e   \n",
       "\n",
       "      stall_duration_total  \n",
       "1868              55735572  \n",
       "1869              55867638  \n",
       "1870              56905588  \n",
       "1871              56793754  \n",
       "1872              56835570  "
      ]
     },
     "execution_count": 13,
     "metadata": {},
     "output_type": "execute_result"
    }
   ],
   "source": [
    "df.tail()"
   ]
  },
  {
   "cell_type": "code",
   "execution_count": 14,
   "metadata": {},
   "outputs": [
    {
     "data": {
      "text/plain": [
       "probe                   1873\n",
       "dtime                   1873\n",
       "video_address           1873\n",
       "stall_duration_total    1873\n",
       "dtype: int64"
      ]
     },
     "execution_count": 14,
     "metadata": {},
     "output_type": "execute_result"
    }
   ],
   "source": [
    "df.count()"
   ]
  },
  {
   "cell_type": "code",
   "execution_count": 15,
   "metadata": {
    "collapsed": true
   },
   "outputs": [],
   "source": [
    "def filter_by_ip(df, column):\n",
    "  \"\"\"reads a DataFrame, calls fbi.filter_v{4,6} to get DataFrames with rows\n",
    "     containing only v4, v6 endpoints. Returns the two DataFrame as a tuple\"\"\"\n",
    "\n",
    "  dfv6 = fbi.filter_v6(df, column)\n",
    "  dfv4 = fbi.filter_v4(df, column)\n",
    "  return dfv4, dfv6"
   ]
  },
  {
   "cell_type": "code",
   "execution_count": 16,
   "metadata": {
    "collapsed": true
   },
   "outputs": [],
   "source": [
    "dfv4, dfv6 = filter_by_ip(df, column = 'video_address')"
   ]
  },
  {
   "cell_type": "code",
   "execution_count": 17,
   "metadata": {},
   "outputs": [
    {
     "data": {
      "text/html": [
       "<div>\n",
       "<style>\n",
       "    .dataframe thead tr:only-child th {\n",
       "        text-align: right;\n",
       "    }\n",
       "\n",
       "    .dataframe thead th {\n",
       "        text-align: left;\n",
       "    }\n",
       "\n",
       "    .dataframe tbody tr th {\n",
       "        vertical-align: top;\n",
       "    }\n",
       "</style>\n",
       "<table border=\"1\" class=\"dataframe\">\n",
       "  <thead>\n",
       "    <tr style=\"text-align: right;\">\n",
       "      <th></th>\n",
       "      <th>probe</th>\n",
       "      <th>dtime</th>\n",
       "      <th>video_address</th>\n",
       "      <th>stall_duration_total</th>\n",
       "    </tr>\n",
       "  </thead>\n",
       "  <tbody>\n",
       "    <tr>\n",
       "      <th>0</th>\n",
       "      <td>samsbox88</td>\n",
       "      <td>2017-04-26 23:00:00</td>\n",
       "      <td>173.194.5.201</td>\n",
       "      <td>31840282</td>\n",
       "    </tr>\n",
       "    <tr>\n",
       "      <th>1</th>\n",
       "      <td>samsbox88</td>\n",
       "      <td>2017-04-26 23:00:00</td>\n",
       "      <td>173.194.5.201</td>\n",
       "      <td>31840282</td>\n",
       "    </tr>\n",
       "    <tr>\n",
       "      <th>2</th>\n",
       "      <td>samsbox88</td>\n",
       "      <td>2017-04-26 23:00:00</td>\n",
       "      <td>173.194.5.201</td>\n",
       "      <td>31840282</td>\n",
       "    </tr>\n",
       "    <tr>\n",
       "      <th>3</th>\n",
       "      <td>samsbox88</td>\n",
       "      <td>2017-04-26 23:00:00</td>\n",
       "      <td>173.194.5.201</td>\n",
       "      <td>31840282</td>\n",
       "    </tr>\n",
       "    <tr>\n",
       "      <th>4</th>\n",
       "      <td>samsbox88</td>\n",
       "      <td>2017-04-26 23:00:00</td>\n",
       "      <td>173.194.5.201</td>\n",
       "      <td>31840282</td>\n",
       "    </tr>\n",
       "  </tbody>\n",
       "</table>\n",
       "</div>"
      ],
      "text/plain": [
       "       probe                dtime  video_address  stall_duration_total\n",
       "0  samsbox88  2017-04-26 23:00:00  173.194.5.201              31840282\n",
       "1  samsbox88  2017-04-26 23:00:00  173.194.5.201              31840282\n",
       "2  samsbox88  2017-04-26 23:00:00  173.194.5.201              31840282\n",
       "3  samsbox88  2017-04-26 23:00:00  173.194.5.201              31840282\n",
       "4  samsbox88  2017-04-26 23:00:00  173.194.5.201              31840282"
      ]
     },
     "execution_count": 17,
     "metadata": {},
     "output_type": "execute_result"
    }
   ],
   "source": [
    "dfv4.head()"
   ]
  },
  {
   "cell_type": "code",
   "execution_count": 18,
   "metadata": {},
   "outputs": [
    {
     "data": {
      "text/html": [
       "<div>\n",
       "<style>\n",
       "    .dataframe thead tr:only-child th {\n",
       "        text-align: right;\n",
       "    }\n",
       "\n",
       "    .dataframe thead th {\n",
       "        text-align: left;\n",
       "    }\n",
       "\n",
       "    .dataframe tbody tr th {\n",
       "        vertical-align: top;\n",
       "    }\n",
       "</style>\n",
       "<table border=\"1\" class=\"dataframe\">\n",
       "  <thead>\n",
       "    <tr style=\"text-align: right;\">\n",
       "      <th></th>\n",
       "      <th>probe</th>\n",
       "      <th>dtime</th>\n",
       "      <th>video_address</th>\n",
       "      <th>stall_duration_total</th>\n",
       "    </tr>\n",
       "  </thead>\n",
       "  <tbody>\n",
       "    <tr>\n",
       "      <th>5</th>\n",
       "      <td>samsbox83</td>\n",
       "      <td>2017-04-23 14:00:00</td>\n",
       "      <td>2a00:1450:401c:1c::6</td>\n",
       "      <td>33781852</td>\n",
       "    </tr>\n",
       "    <tr>\n",
       "      <th>6</th>\n",
       "      <td>samsbox83</td>\n",
       "      <td>2017-04-23 14:00:00</td>\n",
       "      <td>2a00:1450:401c:1c::6</td>\n",
       "      <td>33781852</td>\n",
       "    </tr>\n",
       "    <tr>\n",
       "      <th>7</th>\n",
       "      <td>samsbox83</td>\n",
       "      <td>2017-04-23 14:00:00</td>\n",
       "      <td>2a00:1450:401c:1c::6</td>\n",
       "      <td>33781852</td>\n",
       "    </tr>\n",
       "    <tr>\n",
       "      <th>8</th>\n",
       "      <td>samsbox83</td>\n",
       "      <td>2017-04-23 14:00:00</td>\n",
       "      <td>2a00:1450:401c:1c::6</td>\n",
       "      <td>33781852</td>\n",
       "    </tr>\n",
       "    <tr>\n",
       "      <th>9</th>\n",
       "      <td>samsbox83</td>\n",
       "      <td>2017-04-23 14:00:00</td>\n",
       "      <td>2a00:1450:401c:1c::6</td>\n",
       "      <td>33781852</td>\n",
       "    </tr>\n",
       "  </tbody>\n",
       "</table>\n",
       "</div>"
      ],
      "text/plain": [
       "       probe                dtime         video_address  stall_duration_total\n",
       "5  samsbox83  2017-04-23 14:00:00  2a00:1450:401c:1c::6              33781852\n",
       "6  samsbox83  2017-04-23 14:00:00  2a00:1450:401c:1c::6              33781852\n",
       "7  samsbox83  2017-04-23 14:00:00  2a00:1450:401c:1c::6              33781852\n",
       "8  samsbox83  2017-04-23 14:00:00  2a00:1450:401c:1c::6              33781852\n",
       "9  samsbox83  2017-04-23 14:00:00  2a00:1450:401c:1c::6              33781852"
      ]
     },
     "execution_count": 18,
     "metadata": {},
     "output_type": "execute_result"
    }
   ],
   "source": [
    "dfv6.head()"
   ]
  },
  {
   "cell_type": "code",
   "execution_count": 19,
   "metadata": {
    "collapsed": true
   },
   "outputs": [],
   "source": [
    "dfv4['name'] = dfv4['probe'].apply(lambda name: \"#%02d\"%int(name[7:]))\n",
    "dfv6['name'] = dfv6['probe'].apply(lambda name: \"#%02d\"%int(name[7:]))\n",
    "del dfv4['probe']; del dfv6['probe']"
   ]
  },
  {
   "cell_type": "code",
   "execution_count": 20,
   "metadata": {},
   "outputs": [
    {
     "data": {
      "text/plain": [
       "dtime                   1522\n",
       "video_address           1522\n",
       "stall_duration_total    1522\n",
       "name                    1522\n",
       "dtype: int64"
      ]
     },
     "execution_count": 20,
     "metadata": {},
     "output_type": "execute_result"
    }
   ],
   "source": [
    "dfv6.count()"
   ]
  },
  {
   "cell_type": "code",
   "execution_count": 21,
   "metadata": {},
   "outputs": [
    {
     "data": {
      "text/plain": [
       "dtime                   351\n",
       "video_address           351\n",
       "stall_duration_total    351\n",
       "name                    351\n",
       "dtype: int64"
      ]
     },
     "execution_count": 21,
     "metadata": {},
     "output_type": "execute_result"
    }
   ],
   "source": [
    "dfv4.count()"
   ]
  },
  {
   "cell_type": "code",
   "execution_count": 22,
   "metadata": {},
   "outputs": [],
   "source": [
    "df = pd.merge(dfv4, dfv6, on=[\"name\", \"dtime\"], how='outer')"
   ]
  },
  {
   "cell_type": "code",
   "execution_count": 23,
   "metadata": {},
   "outputs": [
    {
     "data": {
      "text/plain": [
       "dtime                     1715\n",
       "video_address_x            351\n",
       "stall_duration_total_x     351\n",
       "name                      1715\n",
       "video_address_y           1522\n",
       "stall_duration_total_y    1522\n",
       "dtype: int64"
      ]
     },
     "execution_count": 23,
     "metadata": {},
     "output_type": "execute_result"
    }
   ],
   "source": [
    "df.count()"
   ]
  },
  {
   "cell_type": "code",
   "execution_count": 24,
   "metadata": {
    "collapsed": true
   },
   "outputs": [],
   "source": [
    "df.rename(columns={  'video_address_x'             : 'video_ep_4'\n",
    "                   , 'stall_duration_total_x'      : 'stall_total_4'             \n",
    "                   , 'video_address_y'             : 'video_ep_6'\n",
    "                   , 'stall_duration_total_y'      : 'stall_total_6'                                \n",
    "                  } ,  inplace=True)"
   ]
  },
  {
   "cell_type": "code",
   "execution_count": 25,
   "metadata": {},
   "outputs": [],
   "source": [
    "df = df.fillna(0)"
   ]
  },
  {
   "cell_type": "code",
   "execution_count": 26,
   "metadata": {},
   "outputs": [
    {
     "data": {
      "text/html": [
       "<div>\n",
       "<style>\n",
       "    .dataframe thead tr:only-child th {\n",
       "        text-align: right;\n",
       "    }\n",
       "\n",
       "    .dataframe thead th {\n",
       "        text-align: left;\n",
       "    }\n",
       "\n",
       "    .dataframe tbody tr th {\n",
       "        vertical-align: top;\n",
       "    }\n",
       "</style>\n",
       "<table border=\"1\" class=\"dataframe\">\n",
       "  <thead>\n",
       "    <tr style=\"text-align: right;\">\n",
       "      <th></th>\n",
       "      <th>dtime</th>\n",
       "      <th>video_ep_4</th>\n",
       "      <th>stall_total_4</th>\n",
       "      <th>name</th>\n",
       "      <th>video_ep_6</th>\n",
       "      <th>stall_total_6</th>\n",
       "    </tr>\n",
       "  </thead>\n",
       "  <tbody>\n",
       "    <tr>\n",
       "      <th>0</th>\n",
       "      <td>2017-04-26 23:00:00</td>\n",
       "      <td>173.194.5.201</td>\n",
       "      <td>31840282.0</td>\n",
       "      <td>#88</td>\n",
       "      <td>0</td>\n",
       "      <td>0.0</td>\n",
       "    </tr>\n",
       "    <tr>\n",
       "      <th>1</th>\n",
       "      <td>2017-04-26 23:00:00</td>\n",
       "      <td>173.194.5.201</td>\n",
       "      <td>31840282.0</td>\n",
       "      <td>#88</td>\n",
       "      <td>0</td>\n",
       "      <td>0.0</td>\n",
       "    </tr>\n",
       "    <tr>\n",
       "      <th>2</th>\n",
       "      <td>2017-04-26 23:00:00</td>\n",
       "      <td>173.194.5.201</td>\n",
       "      <td>31840282.0</td>\n",
       "      <td>#88</td>\n",
       "      <td>0</td>\n",
       "      <td>0.0</td>\n",
       "    </tr>\n",
       "    <tr>\n",
       "      <th>3</th>\n",
       "      <td>2017-04-26 23:00:00</td>\n",
       "      <td>173.194.5.201</td>\n",
       "      <td>31840282.0</td>\n",
       "      <td>#88</td>\n",
       "      <td>0</td>\n",
       "      <td>0.0</td>\n",
       "    </tr>\n",
       "    <tr>\n",
       "      <th>4</th>\n",
       "      <td>2017-04-26 23:00:00</td>\n",
       "      <td>173.194.5.201</td>\n",
       "      <td>31840282.0</td>\n",
       "      <td>#88</td>\n",
       "      <td>0</td>\n",
       "      <td>0.0</td>\n",
       "    </tr>\n",
       "  </tbody>\n",
       "</table>\n",
       "</div>"
      ],
      "text/plain": [
       "                 dtime     video_ep_4  stall_total_4 name video_ep_6  \\\n",
       "0  2017-04-26 23:00:00  173.194.5.201     31840282.0  #88          0   \n",
       "1  2017-04-26 23:00:00  173.194.5.201     31840282.0  #88          0   \n",
       "2  2017-04-26 23:00:00  173.194.5.201     31840282.0  #88          0   \n",
       "3  2017-04-26 23:00:00  173.194.5.201     31840282.0  #88          0   \n",
       "4  2017-04-26 23:00:00  173.194.5.201     31840282.0  #88          0   \n",
       "\n",
       "   stall_total_6  \n",
       "0            0.0  \n",
       "1            0.0  \n",
       "2            0.0  \n",
       "3            0.0  \n",
       "4            0.0  "
      ]
     },
     "execution_count": 26,
     "metadata": {},
     "output_type": "execute_result"
    }
   ],
   "source": [
    "df.head()"
   ]
  },
  {
   "cell_type": "code",
   "execution_count": 27,
   "metadata": {
    "collapsed": true
   },
   "outputs": [],
   "source": [
    "df['46_stall_total']  = df.stall_total_4.map(str) + ',' + df.stall_total_6.map(str)"
   ]
  },
  {
   "cell_type": "markdown",
   "metadata": {},
   "source": [
    "### Calculate Absolute Difference"
   ]
  },
  {
   "cell_type": "code",
   "execution_count": 28,
   "metadata": {
    "collapsed": true
   },
   "outputs": [],
   "source": [
    "def get_difference(v4v6_stall_total):\n",
    "    \n",
    "    v4, v6 = v4v6_stall_total.split(',')\n",
    "    try: v4 = float(v4); v6 = float(v6)\n",
    "    except Exception as e: print(e, v4v6_stall_total)\n",
    "    \n",
    "    difference = (v4 - v6)\n",
    "    difference = difference / 1000000            \n",
    "    return float('%0.2f'%difference)\n",
    "\n",
    "df['st_a'] = df['46_stall_total'].apply(get_difference)"
   ]
  },
  {
   "cell_type": "code",
   "execution_count": 29,
   "metadata": {
    "collapsed": true
   },
   "outputs": [],
   "source": [
    "del df['46_stall_total']"
   ]
  },
  {
   "cell_type": "code",
   "execution_count": 30,
   "metadata": {},
   "outputs": [
    {
     "data": {
      "text/html": [
       "<div>\n",
       "<style>\n",
       "    .dataframe thead tr:only-child th {\n",
       "        text-align: right;\n",
       "    }\n",
       "\n",
       "    .dataframe thead th {\n",
       "        text-align: left;\n",
       "    }\n",
       "\n",
       "    .dataframe tbody tr th {\n",
       "        vertical-align: top;\n",
       "    }\n",
       "</style>\n",
       "<table border=\"1\" class=\"dataframe\">\n",
       "  <thead>\n",
       "    <tr style=\"text-align: right;\">\n",
       "      <th></th>\n",
       "      <th>dtime</th>\n",
       "      <th>video_ep_4</th>\n",
       "      <th>stall_total_4</th>\n",
       "      <th>name</th>\n",
       "      <th>video_ep_6</th>\n",
       "      <th>stall_total_6</th>\n",
       "      <th>st_a</th>\n",
       "    </tr>\n",
       "  </thead>\n",
       "  <tbody>\n",
       "    <tr>\n",
       "      <th>1710</th>\n",
       "      <td>2014-08-21 15:00:00</td>\n",
       "      <td>0</td>\n",
       "      <td>0.0</td>\n",
       "      <td>#10</td>\n",
       "      <td>2a00:1450:4009:36::e</td>\n",
       "      <td>55735572.0</td>\n",
       "      <td>-55.74</td>\n",
       "    </tr>\n",
       "    <tr>\n",
       "      <th>1711</th>\n",
       "      <td>2014-08-21 14:00:00</td>\n",
       "      <td>0</td>\n",
       "      <td>0.0</td>\n",
       "      <td>#07</td>\n",
       "      <td>2a00:1450:4009:36::e</td>\n",
       "      <td>55867638.0</td>\n",
       "      <td>-55.87</td>\n",
       "    </tr>\n",
       "    <tr>\n",
       "      <th>1712</th>\n",
       "      <td>2014-08-21 14:00:00</td>\n",
       "      <td>0</td>\n",
       "      <td>0.0</td>\n",
       "      <td>#10</td>\n",
       "      <td>2a00:1450:4009:36::e</td>\n",
       "      <td>56905588.0</td>\n",
       "      <td>-56.91</td>\n",
       "    </tr>\n",
       "    <tr>\n",
       "      <th>1713</th>\n",
       "      <td>2014-08-21 13:00:00</td>\n",
       "      <td>0</td>\n",
       "      <td>0.0</td>\n",
       "      <td>#07</td>\n",
       "      <td>2a00:1450:4009:36::e</td>\n",
       "      <td>56793754.0</td>\n",
       "      <td>-56.79</td>\n",
       "    </tr>\n",
       "    <tr>\n",
       "      <th>1714</th>\n",
       "      <td>2014-08-21 13:00:00</td>\n",
       "      <td>0</td>\n",
       "      <td>0.0</td>\n",
       "      <td>#10</td>\n",
       "      <td>2a00:1450:4009:36::e</td>\n",
       "      <td>56835570.0</td>\n",
       "      <td>-56.84</td>\n",
       "    </tr>\n",
       "  </tbody>\n",
       "</table>\n",
       "</div>"
      ],
      "text/plain": [
       "                    dtime video_ep_4  stall_total_4 name  \\\n",
       "1710  2014-08-21 15:00:00          0            0.0  #10   \n",
       "1711  2014-08-21 14:00:00          0            0.0  #07   \n",
       "1712  2014-08-21 14:00:00          0            0.0  #10   \n",
       "1713  2014-08-21 13:00:00          0            0.0  #07   \n",
       "1714  2014-08-21 13:00:00          0            0.0  #10   \n",
       "\n",
       "                video_ep_6  stall_total_6   st_a  \n",
       "1710  2a00:1450:4009:36::e     55735572.0 -55.74  \n",
       "1711  2a00:1450:4009:36::e     55867638.0 -55.87  \n",
       "1712  2a00:1450:4009:36::e     56905588.0 -56.91  \n",
       "1713  2a00:1450:4009:36::e     56793754.0 -56.79  \n",
       "1714  2a00:1450:4009:36::e     56835570.0 -56.84  "
      ]
     },
     "execution_count": 30,
     "metadata": {},
     "output_type": "execute_result"
    }
   ],
   "source": [
    "df.tail()"
   ]
  },
  {
   "cell_type": "code",
   "execution_count": 31,
   "metadata": {},
   "outputs": [
    {
     "data": {
      "text/html": [
       "<div>\n",
       "<style>\n",
       "    .dataframe thead tr:only-child th {\n",
       "        text-align: right;\n",
       "    }\n",
       "\n",
       "    .dataframe thead th {\n",
       "        text-align: left;\n",
       "    }\n",
       "\n",
       "    .dataframe tbody tr th {\n",
       "        vertical-align: top;\n",
       "    }\n",
       "</style>\n",
       "<table border=\"1\" class=\"dataframe\">\n",
       "  <thead>\n",
       "    <tr style=\"text-align: right;\">\n",
       "      <th></th>\n",
       "      <th>dtime</th>\n",
       "      <th>video_ep_4</th>\n",
       "      <th>stall_total_4</th>\n",
       "      <th>name</th>\n",
       "      <th>video_ep_6</th>\n",
       "      <th>stall_total_6</th>\n",
       "      <th>st_a</th>\n",
       "    </tr>\n",
       "  </thead>\n",
       "  <tbody>\n",
       "    <tr>\n",
       "      <th>0</th>\n",
       "      <td>2017-04-26 23:00:00</td>\n",
       "      <td>173.194.5.201</td>\n",
       "      <td>31840282.0</td>\n",
       "      <td>#88</td>\n",
       "      <td>0</td>\n",
       "      <td>0.0</td>\n",
       "      <td>31.84</td>\n",
       "    </tr>\n",
       "    <tr>\n",
       "      <th>1</th>\n",
       "      <td>2017-04-26 23:00:00</td>\n",
       "      <td>173.194.5.201</td>\n",
       "      <td>31840282.0</td>\n",
       "      <td>#88</td>\n",
       "      <td>0</td>\n",
       "      <td>0.0</td>\n",
       "      <td>31.84</td>\n",
       "    </tr>\n",
       "    <tr>\n",
       "      <th>2</th>\n",
       "      <td>2017-04-26 23:00:00</td>\n",
       "      <td>173.194.5.201</td>\n",
       "      <td>31840282.0</td>\n",
       "      <td>#88</td>\n",
       "      <td>0</td>\n",
       "      <td>0.0</td>\n",
       "      <td>31.84</td>\n",
       "    </tr>\n",
       "    <tr>\n",
       "      <th>3</th>\n",
       "      <td>2017-04-26 23:00:00</td>\n",
       "      <td>173.194.5.201</td>\n",
       "      <td>31840282.0</td>\n",
       "      <td>#88</td>\n",
       "      <td>0</td>\n",
       "      <td>0.0</td>\n",
       "      <td>31.84</td>\n",
       "    </tr>\n",
       "    <tr>\n",
       "      <th>4</th>\n",
       "      <td>2017-04-26 23:00:00</td>\n",
       "      <td>173.194.5.201</td>\n",
       "      <td>31840282.0</td>\n",
       "      <td>#88</td>\n",
       "      <td>0</td>\n",
       "      <td>0.0</td>\n",
       "      <td>31.84</td>\n",
       "    </tr>\n",
       "  </tbody>\n",
       "</table>\n",
       "</div>"
      ],
      "text/plain": [
       "                 dtime     video_ep_4  stall_total_4 name video_ep_6  \\\n",
       "0  2017-04-26 23:00:00  173.194.5.201     31840282.0  #88          0   \n",
       "1  2017-04-26 23:00:00  173.194.5.201     31840282.0  #88          0   \n",
       "2  2017-04-26 23:00:00  173.194.5.201     31840282.0  #88          0   \n",
       "3  2017-04-26 23:00:00  173.194.5.201     31840282.0  #88          0   \n",
       "4  2017-04-26 23:00:00  173.194.5.201     31840282.0  #88          0   \n",
       "\n",
       "   stall_total_6   st_a  \n",
       "0            0.0  31.84  \n",
       "1            0.0  31.84  \n",
       "2            0.0  31.84  \n",
       "3            0.0  31.84  \n",
       "4            0.0  31.84  "
      ]
     },
     "execution_count": 31,
     "metadata": {},
     "output_type": "execute_result"
    }
   ],
   "source": [
    "df.head()"
   ]
  },
  {
   "cell_type": "code",
   "execution_count": 32,
   "metadata": {},
   "outputs": [
    {
     "data": {
      "text/plain": [
       "dtime            1715\n",
       "video_ep_4       1715\n",
       "stall_total_4    1715\n",
       "name             1715\n",
       "video_ep_6       1715\n",
       "stall_total_6    1715\n",
       "st_a             1715\n",
       "dtype: int64"
      ]
     },
     "execution_count": 32,
     "metadata": {},
     "output_type": "execute_result"
    }
   ],
   "source": [
    "df.count()"
   ]
  },
  {
   "cell_type": "code",
   "execution_count": 33,
   "metadata": {
    "collapsed": true
   },
   "outputs": [],
   "source": [
    "import Cdf\n",
    "import Pmf\n",
    "\n",
    "sample = df['st_a'].values\n",
    "c      = Cdf.MakeCdfFromList(sample)\n",
    "cc     = [1 - p for x, p in c.Items()]"
   ]
  },
  {
   "cell_type": "code",
   "execution_count": 34,
   "metadata": {},
   "outputs": [
    {
     "data": {
      "image/png": "[encoded data removed]",
      "text/plain": [
       "<matplotlib.figure.Figure at 0x7f40070157f0>"
      ]
     },
     "metadata": {},
     "output_type": "display_data"
    }
   ],
   "source": [
    "fig = plt.figure(figsize = (5,1.5))\n",
    "plt.rcParams['font.size'] = 12\n",
    "ax = plt.gca()\n",
    "yticks = np.arange(0,1.1,0.2)\n",
    "\n",
    "plt.plot(c.xs, c.ps, marker='s', linewidth=0.3, markersize=5, fillstyle='none', color = 'orange')\n",
    "\n",
    "ax = fig.axes[0]\n",
    "ax.grid(False)\n",
    "ax.set_yticks(yticks)\n",
    "ax.set_xlim([-70,60])\n",
    "ax.set_ylim([0,1.05])\n",
    "ax.set_xscale('linear')\n",
    "ax.set_xlabel('∆st (s)', fontsize=12)\n",
    "ax.set_ylabel('CDF', fontsize=12)\n",
    "\n",
    "plt.legend([\"1.7K\"], fontsize=12, loc='lower right')\n",
    "\n",
    "ax.spines['right'].set_color('none')\n",
    "ax.spines['top'].set_color('none')\n",
    "ax.yaxis.set_ticks_position('left')\n",
    "ax.xaxis.set_ticks_position('bottom')\n",
    "ax.spines['bottom'].set_position(('axes', -0.05))\n",
    "ax.spines['left'].set_position(('axes', -0.05))\n",
    "\n",
    "ax3 = ax.twinx()\n",
    "ax3.spines['right'].set_color('none')\n",
    "ax3.spines['top'].set_color('none')\n",
    "ax3.spines['left'].set_color('none')\n",
    "ax3.spines['bottom'].set_color('none')\n",
    "ax3.yaxis.set_ticks_position('none')\n",
    "ax3.set_ylabel('[\\'14 - \\'17]')\n",
    "plt.setp(ax3.get_yticklabels(), visible=False)\n",
    "\n",
    "plt.title('Stall Durations', fontsize=12, y=1.05)\n",
    "plt.savefig('yt-stall-durations-absolute-difference.pdf', format='pdf', bbox_inches='tight')"
   ]
  },
  {
   "cell_type": "markdown",
   "metadata": {},
   "source": [
    "### CDF of absolute difference of stall duration between IPv4 and IPv6 over the entire duration. 14% of the samples experience shorter stall durations over IPv6 with 10% of them being atleast 1s shorter and 4% being atleast 10s shorter. On the contrary, 80% of the samples experience stall durations that are atleast 1s longer over IPv6 with half of them being atleast 50s longer."
   ]
  },
  {
   "cell_type": "code",
   "execution_count": 35,
   "metadata": {},
   "outputs": [],
   "source": [
    "with open('yt-stall-durations.csv', 'w') as f: \n",
    "    f.write('values; percentile\\n')\n",
    "    for x, y in zip(c.xs, c.ps): f.write('%.2f; %.2f\\n'%(x,y))"
   ]
  }
 ],
 "metadata": {
  "kernelspec": {
   "display_name": "Python 3",
   "language": "python",
   "name": "python3"
  },
  "language_info": {
   "codemirror_mode": {
    "name": "ipython",
    "version": 3
   },
   "file_extension": ".py",
   "mimetype": "text/x-python",
   "name": "python",
   "nbconvert_exporter": "python",
   "pygments_lexer": "ipython3",
   "version": "3.5.3"
  }
 },
 "nbformat": 4,
 "nbformat_minor": 1
}
